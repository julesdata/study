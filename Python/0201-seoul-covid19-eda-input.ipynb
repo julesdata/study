{
 "cells": [
  {
   "cell_type": "markdown",
   "metadata": {},
   "source": [
    "강의안 출처: 러닝스푼즈_나노디그리3기_파이썬 기초와 시각화_박조은 강사님"
   ]
  },
  {
   "cell_type": "markdown",
   "metadata": {},
   "source": [
    "## 서울시에서 공개한 코로나19 발생동향 분석\n",
    "* http://www.seoul.go.kr/coronaV/coronaStatus.do"
   ]
  },
  {
   "cell_type": "code",
   "execution_count": 1,
   "metadata": {},
   "outputs": [],
   "source": [
    "# pandas, numpy 라이브러리 로드하기\n",
    "import pandas as pd\n",
    "import numpy as np"
   ]
  },
  {
   "cell_type": "code",
   "execution_count": 2,
   "metadata": {},
   "outputs": [
    {
     "data": {
      "text/plain": [
       "'seoul-covid19-11_28_.csv'"
      ]
     },
     "execution_count": 2,
     "metadata": {},
     "output_type": "execute_result"
    }
   ],
   "source": [
    "# file_name 변수에 read_html 로 저장한 파일명을 지정해 줍니다.\n",
    "file_name = f\"seoul-covid19-11_28_.csv\"\n",
    "file_name"
   ]
  },
  {
   "cell_type": "code",
   "execution_count": 3,
   "metadata": {},
   "outputs": [
    {
     "data": {
      "text/plain": [
       "(8652, 7)"
      ]
     },
     "execution_count": 3,
     "metadata": {},
     "output_type": "execute_result"
    }
   ],
   "source": [
    "# read_csv 로 csv 파일을 불러와 주세요.\n",
    "df=pd.read_csv(file_name)\n",
    "df.shape"
   ]
  },
  {
   "cell_type": "code",
   "execution_count": 4,
   "metadata": {},
   "outputs": [
    {
     "data": {
      "text/html": [
       "<div>\n",
       "<style scoped>\n",
       "    .dataframe tbody tr th:only-of-type {\n",
       "        vertical-align: middle;\n",
       "    }\n",
       "\n",
       "    .dataframe tbody tr th {\n",
       "        vertical-align: top;\n",
       "    }\n",
       "\n",
       "    .dataframe thead th {\n",
       "        text-align: right;\n",
       "    }\n",
       "</style>\n",
       "<table border=\"1\" class=\"dataframe\">\n",
       "  <thead>\n",
       "    <tr style=\"text-align: right;\">\n",
       "      <th></th>\n",
       "      <th>연번</th>\n",
       "      <th>환자</th>\n",
       "      <th>확진일</th>\n",
       "      <th>거주지</th>\n",
       "      <th>여행력</th>\n",
       "      <th>접촉력</th>\n",
       "      <th>퇴원현황</th>\n",
       "    </tr>\n",
       "  </thead>\n",
       "  <tbody>\n",
       "    <tr>\n",
       "      <th>0</th>\n",
       "      <td>8652</td>\n",
       "      <td>33532</td>\n",
       "      <td>11.28.</td>\n",
       "      <td>서대문구</td>\n",
       "      <td>-</td>\n",
       "      <td>기타 확진자 접촉</td>\n",
       "      <td>NaN</td>\n",
       "    </tr>\n",
       "    <tr>\n",
       "      <th>1</th>\n",
       "      <td>8651</td>\n",
       "      <td>33756</td>\n",
       "      <td>11.28.</td>\n",
       "      <td>타시도</td>\n",
       "      <td>-</td>\n",
       "      <td>감염경로 조사중</td>\n",
       "      <td>NaN</td>\n",
       "    </tr>\n",
       "    <tr>\n",
       "      <th>2</th>\n",
       "      <td>8650</td>\n",
       "      <td>33772</td>\n",
       "      <td>11.28.</td>\n",
       "      <td>동작구</td>\n",
       "      <td>-</td>\n",
       "      <td>동작구 임용단기학원 관련</td>\n",
       "      <td>NaN</td>\n",
       "    </tr>\n",
       "    <tr>\n",
       "      <th>3</th>\n",
       "      <td>8649</td>\n",
       "      <td>33776</td>\n",
       "      <td>11.28.</td>\n",
       "      <td>은평구</td>\n",
       "      <td>-</td>\n",
       "      <td>기타 확진자 접촉</td>\n",
       "      <td>NaN</td>\n",
       "    </tr>\n",
       "    <tr>\n",
       "      <th>4</th>\n",
       "      <td>8648</td>\n",
       "      <td>33768</td>\n",
       "      <td>11.28.</td>\n",
       "      <td>서초구</td>\n",
       "      <td>-</td>\n",
       "      <td>기타 확진자 접촉</td>\n",
       "      <td>NaN</td>\n",
       "    </tr>\n",
       "    <tr>\n",
       "      <th>...</th>\n",
       "      <td>...</td>\n",
       "      <td>...</td>\n",
       "      <td>...</td>\n",
       "      <td>...</td>\n",
       "      <td>...</td>\n",
       "      <td>...</td>\n",
       "      <td>...</td>\n",
       "    </tr>\n",
       "    <tr>\n",
       "      <th>8647</th>\n",
       "      <td>5</td>\n",
       "      <td>9</td>\n",
       "      <td>1.31.</td>\n",
       "      <td>성북구</td>\n",
       "      <td>-</td>\n",
       "      <td>#5 접촉</td>\n",
       "      <td>퇴원</td>\n",
       "    </tr>\n",
       "    <tr>\n",
       "      <th>8648</th>\n",
       "      <td>4</td>\n",
       "      <td>7</td>\n",
       "      <td>1.30.</td>\n",
       "      <td>마포구</td>\n",
       "      <td>중국 우한시</td>\n",
       "      <td>해외 접촉</td>\n",
       "      <td>퇴원</td>\n",
       "    </tr>\n",
       "    <tr>\n",
       "      <th>8649</th>\n",
       "      <td>3</td>\n",
       "      <td>6</td>\n",
       "      <td>1.30.</td>\n",
       "      <td>종로구</td>\n",
       "      <td>-</td>\n",
       "      <td>#3 접촉</td>\n",
       "      <td>퇴원</td>\n",
       "    </tr>\n",
       "    <tr>\n",
       "      <th>8650</th>\n",
       "      <td>2</td>\n",
       "      <td>5</td>\n",
       "      <td>1.30.</td>\n",
       "      <td>중랑구</td>\n",
       "      <td>중국 우한시</td>\n",
       "      <td>해외 접촉</td>\n",
       "      <td>퇴원</td>\n",
       "    </tr>\n",
       "    <tr>\n",
       "      <th>8651</th>\n",
       "      <td>1</td>\n",
       "      <td>2</td>\n",
       "      <td>1.24.</td>\n",
       "      <td>강서구</td>\n",
       "      <td>중국 우한시</td>\n",
       "      <td>해외 접촉</td>\n",
       "      <td>퇴원</td>\n",
       "    </tr>\n",
       "  </tbody>\n",
       "</table>\n",
       "<p>8652 rows × 7 columns</p>\n",
       "</div>"
      ],
      "text/plain": [
       "        연번     환자     확진일   거주지     여행력            접촉력 퇴원현황\n",
       "0     8652  33532  11.28.  서대문구       -      기타 확진자 접촉  NaN\n",
       "1     8651  33756  11.28.   타시도       -       감염경로 조사중  NaN\n",
       "2     8650  33772  11.28.   동작구       -  동작구 임용단기학원 관련  NaN\n",
       "3     8649  33776  11.28.   은평구       -      기타 확진자 접촉  NaN\n",
       "4     8648  33768  11.28.   서초구       -      기타 확진자 접촉  NaN\n",
       "...    ...    ...     ...   ...     ...            ...  ...\n",
       "8647     5      9   1.31.   성북구       -          #5 접촉   퇴원\n",
       "8648     4      7   1.30.   마포구  중국 우한시          해외 접촉   퇴원\n",
       "8649     3      6   1.30.   종로구       -          #3 접촉   퇴원\n",
       "8650     2      5   1.30.   중랑구  중국 우한시          해외 접촉   퇴원\n",
       "8651     1      2   1.24.   강서구  중국 우한시          해외 접촉   퇴원\n",
       "\n",
       "[8652 rows x 7 columns]"
      ]
     },
     "execution_count": 4,
     "metadata": {},
     "output_type": "execute_result"
    }
   ],
   "source": [
    "# \"연번\"을 기준으로 역순으로 정렬합니다.\n",
    "df = df.sort_values(\"연번\", ascending=False)\n",
    "df"
   ]
  },
  {
   "cell_type": "code",
   "execution_count": 5,
   "metadata": {},
   "outputs": [
    {
     "data": {
      "text/html": [
       "<div>\n",
       "<style scoped>\n",
       "    .dataframe tbody tr th:only-of-type {\n",
       "        vertical-align: middle;\n",
       "    }\n",
       "\n",
       "    .dataframe tbody tr th {\n",
       "        vertical-align: top;\n",
       "    }\n",
       "\n",
       "    .dataframe thead th {\n",
       "        text-align: right;\n",
       "    }\n",
       "</style>\n",
       "<table border=\"1\" class=\"dataframe\">\n",
       "  <thead>\n",
       "    <tr style=\"text-align: right;\">\n",
       "      <th></th>\n",
       "      <th>연번</th>\n",
       "      <th>환자</th>\n",
       "      <th>확진일</th>\n",
       "      <th>거주지</th>\n",
       "      <th>여행력</th>\n",
       "      <th>접촉력</th>\n",
       "      <th>퇴원현황</th>\n",
       "    </tr>\n",
       "  </thead>\n",
       "  <tbody>\n",
       "    <tr>\n",
       "      <th>0</th>\n",
       "      <td>8652</td>\n",
       "      <td>33532</td>\n",
       "      <td>11.28.</td>\n",
       "      <td>서대문구</td>\n",
       "      <td>-</td>\n",
       "      <td>기타 확진자 접촉</td>\n",
       "      <td>NaN</td>\n",
       "    </tr>\n",
       "    <tr>\n",
       "      <th>1</th>\n",
       "      <td>8651</td>\n",
       "      <td>33756</td>\n",
       "      <td>11.28.</td>\n",
       "      <td>타시도</td>\n",
       "      <td>-</td>\n",
       "      <td>감염경로 조사중</td>\n",
       "      <td>NaN</td>\n",
       "    </tr>\n",
       "    <tr>\n",
       "      <th>2</th>\n",
       "      <td>8650</td>\n",
       "      <td>33772</td>\n",
       "      <td>11.28.</td>\n",
       "      <td>동작구</td>\n",
       "      <td>-</td>\n",
       "      <td>동작구 임용단기학원 관련</td>\n",
       "      <td>NaN</td>\n",
       "    </tr>\n",
       "    <tr>\n",
       "      <th>3</th>\n",
       "      <td>8649</td>\n",
       "      <td>33776</td>\n",
       "      <td>11.28.</td>\n",
       "      <td>은평구</td>\n",
       "      <td>-</td>\n",
       "      <td>기타 확진자 접촉</td>\n",
       "      <td>NaN</td>\n",
       "    </tr>\n",
       "    <tr>\n",
       "      <th>4</th>\n",
       "      <td>8648</td>\n",
       "      <td>33768</td>\n",
       "      <td>11.28.</td>\n",
       "      <td>서초구</td>\n",
       "      <td>-</td>\n",
       "      <td>기타 확진자 접촉</td>\n",
       "      <td>NaN</td>\n",
       "    </tr>\n",
       "  </tbody>\n",
       "</table>\n",
       "</div>"
      ],
      "text/plain": [
       "     연번     환자     확진일   거주지 여행력            접촉력 퇴원현황\n",
       "0  8652  33532  11.28.  서대문구   -      기타 확진자 접촉  NaN\n",
       "1  8651  33756  11.28.   타시도   -       감염경로 조사중  NaN\n",
       "2  8650  33772  11.28.   동작구   -  동작구 임용단기학원 관련  NaN\n",
       "3  8649  33776  11.28.   은평구   -      기타 확진자 접촉  NaN\n",
       "4  8648  33768  11.28.   서초구   -      기타 확진자 접촉  NaN"
      ]
     },
     "execution_count": 5,
     "metadata": {},
     "output_type": "execute_result"
    }
   ],
   "source": [
    "# head 로 미리보기를 합니다.\n",
    "\n",
    "df.head()      #head()기본값 5개 "
   ]
  },
  {
   "cell_type": "code",
   "execution_count": 6,
   "metadata": {},
   "outputs": [
    {
     "data": {
      "text/html": [
       "<div>\n",
       "<style scoped>\n",
       "    .dataframe tbody tr th:only-of-type {\n",
       "        vertical-align: middle;\n",
       "    }\n",
       "\n",
       "    .dataframe tbody tr th {\n",
       "        vertical-align: top;\n",
       "    }\n",
       "\n",
       "    .dataframe thead th {\n",
       "        text-align: right;\n",
       "    }\n",
       "</style>\n",
       "<table border=\"1\" class=\"dataframe\">\n",
       "  <thead>\n",
       "    <tr style=\"text-align: right;\">\n",
       "      <th></th>\n",
       "      <th>연번</th>\n",
       "      <th>환자</th>\n",
       "      <th>확진일</th>\n",
       "      <th>거주지</th>\n",
       "      <th>여행력</th>\n",
       "      <th>접촉력</th>\n",
       "      <th>퇴원현황</th>\n",
       "    </tr>\n",
       "  </thead>\n",
       "  <tbody>\n",
       "    <tr>\n",
       "      <th>8647</th>\n",
       "      <td>5</td>\n",
       "      <td>9</td>\n",
       "      <td>1.31.</td>\n",
       "      <td>성북구</td>\n",
       "      <td>-</td>\n",
       "      <td>#5 접촉</td>\n",
       "      <td>퇴원</td>\n",
       "    </tr>\n",
       "    <tr>\n",
       "      <th>8648</th>\n",
       "      <td>4</td>\n",
       "      <td>7</td>\n",
       "      <td>1.30.</td>\n",
       "      <td>마포구</td>\n",
       "      <td>중국 우한시</td>\n",
       "      <td>해외 접촉</td>\n",
       "      <td>퇴원</td>\n",
       "    </tr>\n",
       "    <tr>\n",
       "      <th>8649</th>\n",
       "      <td>3</td>\n",
       "      <td>6</td>\n",
       "      <td>1.30.</td>\n",
       "      <td>종로구</td>\n",
       "      <td>-</td>\n",
       "      <td>#3 접촉</td>\n",
       "      <td>퇴원</td>\n",
       "    </tr>\n",
       "    <tr>\n",
       "      <th>8650</th>\n",
       "      <td>2</td>\n",
       "      <td>5</td>\n",
       "      <td>1.30.</td>\n",
       "      <td>중랑구</td>\n",
       "      <td>중국 우한시</td>\n",
       "      <td>해외 접촉</td>\n",
       "      <td>퇴원</td>\n",
       "    </tr>\n",
       "    <tr>\n",
       "      <th>8651</th>\n",
       "      <td>1</td>\n",
       "      <td>2</td>\n",
       "      <td>1.24.</td>\n",
       "      <td>강서구</td>\n",
       "      <td>중국 우한시</td>\n",
       "      <td>해외 접촉</td>\n",
       "      <td>퇴원</td>\n",
       "    </tr>\n",
       "  </tbody>\n",
       "</table>\n",
       "</div>"
      ],
      "text/plain": [
       "      연번 환자    확진일  거주지     여행력    접촉력 퇴원현황\n",
       "8647   5  9  1.31.  성북구       -  #5 접촉   퇴원\n",
       "8648   4  7  1.30.  마포구  중국 우한시  해외 접촉   퇴원\n",
       "8649   3  6  1.30.  종로구       -  #3 접촉   퇴원\n",
       "8650   2  5  1.30.  중랑구  중국 우한시  해외 접촉   퇴원\n",
       "8651   1  2  1.24.  강서구  중국 우한시  해외 접촉   퇴원"
      ]
     },
     "execution_count": 6,
     "metadata": {},
     "output_type": "execute_result"
    }
   ],
   "source": [
    "# tail 로 미리보기를 합니다.\n",
    "df.tail()"
   ]
  },
  {
   "cell_type": "markdown",
   "metadata": {},
   "source": [
    "## 시각화 도구 불러오기"
   ]
  },
  {
   "cell_type": "code",
   "execution_count": 13,
   "metadata": {},
   "outputs": [
    {
     "data": {
      "text/plain": [
       "<AxesSubplot:title={'center':'한글'}>"
      ]
     },
     "execution_count": 13,
     "metadata": {},
     "output_type": "execute_result"
    },
    {
     "data": {
      "image/png": "[encoded data removed]",
      "text/plain": [
       "<Figure size 432x288 with 1 Axes>"
      ]
     },
     "metadata": {
      "needs_background": "light"
     },
     "output_type": "display_data"
    }
   ],
   "source": [
    "# matplotlib.pyplot 을 통해 한글폰트를 설정합니다.\n",
    "# plt.style.use 로 \"fivethirtyeight\" 스타일을 사용해 봅니다.\n",
    "import matplotlib.pyplot as plt  #matplotlib: 판다스의 시각화 도구 \n",
    "plt.rc(\"font\", family= \"Malgun Gothic\")\n",
    "plt.rc(\"axes\", unicode_minus=False)\n",
    "\n",
    "pd.Series([1,3,5,-7,9]).plot(title=\"한글\")"
   ]
  },
  {
   "cell_type": "markdown",
   "metadata": {},
   "source": [
    "### 시각화 선명하게 설정하기"
   ]
  },
  {
   "cell_type": "code",
   "execution_count": 15,
   "metadata": {},
   "outputs": [
    {
     "data": {
      "text/plain": [
       "<AxesSubplot:title={'center':'한글'}>"
      ]
     },
     "execution_count": 15,
     "metadata": {},
     "output_type": "execute_result"
    },
    {
     "data": {
      "image/png": "[encoded data removed]",
      "text/plain": [
       "<Figure size 432x288 with 1 Axes>"
      ]
     },
     "metadata": {
      "image/png": {
       "height": 264,
       "width": 365
      },
      "needs_background": "light"
     },
     "output_type": "display_data"
    }
   ],
   "source": [
    "# retina 디스플레이가 지원되는 환경에서 시각화의 폰트가 좀 더 선명해 보입니다.\n",
    "\n",
    "from IPython.display import set_matplotlib_formats\n",
    "set_matplotlib_formats(\"retina\")\n",
    "\n",
    "pd.Series([1,3,5,-7,9]).plot(title=\"한글\")"
   ]
  },
  {
   "cell_type": "code",
   "execution_count": 31,
   "metadata": {},
   "outputs": [
    {
     "data": {
      "text/plain": [
       "<AxesSubplot:title={'center':'한글'}>"
      ]
     },
     "execution_count": 31,
     "metadata": {},
     "output_type": "execute_result"
    },
    {
     "data": {
      "image/svg+xml": [
       "<?xml version=\"1.0\" encoding=\"utf-8\" standalone=\"no\"?>\r\n",
       "<!DOCTYPE svg PUBLIC \"-//W3C//DTD SVG 1.1//EN\"\r\n",
       "  \"http://www.w3.org/Graphics/SVG/1.1/DTD/svg11.dtd\">\r\n",
       "<!-- Created with matplotlib (https://matplotlib.org/) -->\r\n",
       "<svg height=\"263.906875pt\" version=\"1.1\" viewBox=\"0 0 365.809375 263.906875\" width=\"365.809375pt\" xmlns=\"http://www.w3.org/2000/svg\" xmlns:xlink=\"http://www.w3.org/1999/xlink\">\r\n",
       " <metadata>\r\n",
       "  <rdf:RDF xmlns:cc=\"http://creativecommons.org/ns#\" xmlns:dc=\"http://purl.org/dc/elements/1.1/\" xmlns:rdf=\"http://www.w3.org/1999/02/22-rdf-syntax-ns#\">\r\n",
       "   <cc:Work>\r\n",
       "    <dc:type rdf:resource=\"http://purl.org/dc/dcmitype/StillImage\"/>\r\n",
       "    <dc:date>2021-02-04T14:57:11.248124</dc:date>\r\n",
       "    <dc:format>image/svg+xml</dc:format>\r\n",
       "    <dc:creator>\r\n",
       "     <cc:Agent>\r\n",
       "      <dc:title>Matplotlib v3.3.2, https://matplotlib.org/</dc:title>\r\n",
       "     </cc:Agent>\r\n",
       "    </dc:creator>\r\n",
       "   </cc:Work>\r\n",
       "  </rdf:RDF>\r\n",
       " </metadata>\r\n",
       " <defs>\r\n",
       "  <style type=\"text/css\">*{stroke-linecap:butt;stroke-linejoin:round;}</style>\r\n",
       " </defs>\r\n",
       " <g id=\"figure_1\">\r\n",
       "  <g id=\"patch_1\">\r\n",
       "   <path d=\"M 0 263.906875 \r\n",
       "L 365.809375 263.906875 \r\n",
       "L 365.809375 0 \r\n",
       "L 0 0 \r\n",
       "z\r\n",
       "\" style=\"fill:none;\"/>\r\n",
       "  </g>\r\n",
       "  <g id=\"axes_1\">\r\n",
       "   <g id=\"patch_2\">\r\n",
       "    <path d=\"M 23.809375 239.750625 \r\n",
       "L 358.609375 239.750625 \r\n",
       "L 358.609375 22.310625 \r\n",
       "L 23.809375 22.310625 \r\n",
       "z\r\n",
       "\" style=\"fill:#ffffff;\"/>\r\n",
       "   </g>\r\n",
       "   <g id=\"matplotlib.axis_1\">\r\n",
       "    <g id=\"xtick_1\">\r\n",
       "     <g id=\"line2d_1\">\r\n",
       "      <defs>\r\n",
       "       <path d=\"M 0 0 \r\n",
       "L 0 3.5 \r\n",
       "\" id=\"m44e5d83a40\" style=\"stroke:#000000;stroke-width:0.8;\"/>\r\n",
       "      </defs>\r\n",
       "      <g>\r\n",
       "       <use style=\"stroke:#000000;stroke-width:0.8;\" x=\"39.027557\" xlink:href=\"#m44e5d83a40\" y=\"239.750625\"/>\r\n",
       "      </g>\r\n",
       "     </g>\r\n",
       "     <g id=\"text_1\">\r\n",
       "      <!-- 0.0 -->\r\n",
       "      <g transform=\"translate(32.425994 254.342812)scale(0.1 -0.1)\">\r\n",
       "       <defs>\r\n",
       "        <path d=\"M 4.34375 34.46875 \r\n",
       "Q 4.34375 53.515625 10.546875 63.28125 \r\n",
       "Q 16.75 73.046875 28.421875 73.046875 \r\n",
       "Q 50.828125 73.046875 50.828125 36.234375 \r\n",
       "Q 50.828125 18.0625 44.59375 8.421875 \r\n",
       "Q 38.375 -1.21875 26.8125 -1.21875 \r\n",
       "Q 15.875 -1.21875 10.109375 8.125 \r\n",
       "Q 4.34375 17.484375 4.34375 34.46875 \r\n",
       "z\r\n",
       "M 12.25 34.859375 \r\n",
       "Q 12.25 5.375 27.640625 5.375 \r\n",
       "Q 42.921875 5.375 42.921875 35.296875 \r\n",
       "Q 42.921875 66.40625 28.03125 66.40625 \r\n",
       "Q 12.25 66.40625 12.25 34.859375 \r\n",
       "z\r\n",
       "\" id=\"MalgunGothic-48\"/>\r\n",
       "        <path d=\"M 5.5625 4.296875 \r\n",
       "Q 5.5625 6.59375 7.171875 8.171875 \r\n",
       "Q 8.796875 9.765625 10.9375 9.765625 \r\n",
       "Q 13.09375 9.765625 14.703125 8.171875 \r\n",
       "Q 16.3125 6.59375 16.3125 4.296875 \r\n",
       "Q 16.3125 2.15625 14.71875 0.515625 \r\n",
       "Q 13.140625 -1.125 10.9375 -1.125 \r\n",
       "Q 8.734375 -1.125 7.140625 0.453125 \r\n",
       "Q 5.5625 2.046875 5.5625 4.296875 \r\n",
       "z\r\n",
       "\" id=\"MalgunGothic-46\"/>\r\n",
       "       </defs>\r\n",
       "       <use xlink:href=\"#MalgunGothic-48\"/>\r\n",
       "       <use x=\"55.078125\" xlink:href=\"#MalgunGothic-46\"/>\r\n",
       "       <use x=\"76.953125\" xlink:href=\"#MalgunGothic-48\"/>\r\n",
       "      </g>\r\n",
       "     </g>\r\n",
       "    </g>\r\n",
       "    <g id=\"xtick_2\">\r\n",
       "     <g id=\"line2d_2\">\r\n",
       "      <g>\r\n",
       "       <use style=\"stroke:#000000;stroke-width:0.8;\" x=\"77.073011\" xlink:href=\"#m44e5d83a40\" y=\"239.750625\"/>\r\n",
       "      </g>\r\n",
       "     </g>\r\n",
       "     <g id=\"text_2\">\r\n",
       "      <!-- 0.5 -->\r\n",
       "      <g transform=\"translate(70.471449 254.342812)scale(0.1 -0.1)\">\r\n",
       "       <defs>\r\n",
       "        <path d=\"M 48 21.921875 \r\n",
       "Q 48 11.28125 41.1875 5.03125 \r\n",
       "Q 34.375 -1.21875 22.953125 -1.21875 \r\n",
       "Q 12.9375 -1.21875 8.0625 1.765625 \r\n",
       "L 8.0625 10.15625 \r\n",
       "Q 15.53125 5.375 23.046875 5.375 \r\n",
       "Q 30.765625 5.375 35.46875 9.84375 \r\n",
       "Q 40.1875 14.3125 40.1875 21.4375 \r\n",
       "Q 40.1875 28.71875 35.390625 32.6875 \r\n",
       "Q 30.609375 36.671875 21.578125 36.671875 \r\n",
       "Q 15.53125 36.671875 9.421875 35.9375 \r\n",
       "L 11.859375 71.875 \r\n",
       "L 44.828125 71.875 \r\n",
       "L 44.828125 64.796875 \r\n",
       "L 18.84375 64.796875 \r\n",
       "L 17.28125 43.171875 \r\n",
       "Q 21.046875 43.5 24.171875 43.5 \r\n",
       "Q 35.359375 43.5 41.671875 37.71875 \r\n",
       "Q 48 31.9375 48 21.921875 \r\n",
       "z\r\n",
       "\" id=\"MalgunGothic-53\"/>\r\n",
       "       </defs>\r\n",
       "       <use xlink:href=\"#MalgunGothic-48\"/>\r\n",
       "       <use x=\"55.078125\" xlink:href=\"#MalgunGothic-46\"/>\r\n",
       "       <use x=\"76.953125\" xlink:href=\"#MalgunGothic-53\"/>\r\n",
       "      </g>\r\n",
       "     </g>\r\n",
       "    </g>\r\n",
       "    <g id=\"xtick_3\">\r\n",
       "     <g id=\"line2d_3\">\r\n",
       "      <g>\r\n",
       "       <use style=\"stroke:#000000;stroke-width:0.8;\" x=\"115.118466\" xlink:href=\"#m44e5d83a40\" y=\"239.750625\"/>\r\n",
       "      </g>\r\n",
       "     </g>\r\n",
       "     <g id=\"text_3\">\r\n",
       "      <!-- 1.0 -->\r\n",
       "      <g transform=\"translate(108.516903 254.342812)scale(0.1 -0.1)\">\r\n",
       "       <defs>\r\n",
       "        <path d=\"M 34.859375 0 \r\n",
       "L 27.09375 0 \r\n",
       "L 27.09375 62.0625 \r\n",
       "Q 24.859375 59.8125 19.78125 57.203125 \r\n",
       "Q 14.703125 54.59375 10.5 53.5625 \r\n",
       "L 10.5 61.859375 \r\n",
       "Q 15.875 63.375 22.015625 66.796875 \r\n",
       "Q 28.171875 70.21875 31.734375 73.4375 \r\n",
       "L 34.859375 73.4375 \r\n",
       "z\r\n",
       "\" id=\"MalgunGothic-49\"/>\r\n",
       "       </defs>\r\n",
       "       <use xlink:href=\"#MalgunGothic-49\"/>\r\n",
       "       <use x=\"55.078125\" xlink:href=\"#MalgunGothic-46\"/>\r\n",
       "       <use x=\"76.953125\" xlink:href=\"#MalgunGothic-48\"/>\r\n",
       "      </g>\r\n",
       "     </g>\r\n",
       "    </g>\r\n",
       "    <g id=\"xtick_4\">\r\n",
       "     <g id=\"line2d_4\">\r\n",
       "      <g>\r\n",
       "       <use style=\"stroke:#000000;stroke-width:0.8;\" x=\"153.16392\" xlink:href=\"#m44e5d83a40\" y=\"239.750625\"/>\r\n",
       "      </g>\r\n",
       "     </g>\r\n",
       "     <g id=\"text_4\">\r\n",
       "      <!-- 1.5 -->\r\n",
       "      <g transform=\"translate(146.562358 254.342812)scale(0.1 -0.1)\">\r\n",
       "       <use xlink:href=\"#MalgunGothic-49\"/>\r\n",
       "       <use x=\"55.078125\" xlink:href=\"#MalgunGothic-46\"/>\r\n",
       "       <use x=\"76.953125\" xlink:href=\"#MalgunGothic-53\"/>\r\n",
       "      </g>\r\n",
       "     </g>\r\n",
       "    </g>\r\n",
       "    <g id=\"xtick_5\">\r\n",
       "     <g id=\"line2d_5\">\r\n",
       "      <g>\r\n",
       "       <use style=\"stroke:#000000;stroke-width:0.8;\" x=\"191.209375\" xlink:href=\"#m44e5d83a40\" y=\"239.750625\"/>\r\n",
       "      </g>\r\n",
       "     </g>\r\n",
       "     <g id=\"text_5\">\r\n",
       "      <!-- 2.0 -->\r\n",
       "      <g transform=\"translate(184.607813 254.342812)scale(0.1 -0.1)\">\r\n",
       "       <defs>\r\n",
       "        <path d=\"M 39.359375 52.6875 \r\n",
       "Q 39.359375 59.125 35.546875 62.78125 \r\n",
       "Q 31.734375 66.453125 25.4375 66.453125 \r\n",
       "Q 20.953125 66.453125 16.453125 64.125 \r\n",
       "Q 11.96875 61.8125 8.34375 57.765625 \r\n",
       "L 8.34375 66.15625 \r\n",
       "Q 15.328125 73.046875 26.421875 73.046875 \r\n",
       "Q 35.640625 73.046875 41.28125 67.71875 \r\n",
       "Q 46.921875 62.40625 46.921875 53.375 \r\n",
       "Q 46.921875 45.609375 43.3125 39.765625 \r\n",
       "Q 39.703125 33.9375 31 27.734375 \r\n",
       "Q 22.796875 21.96875 19.59375 18.984375 \r\n",
       "Q 16.40625 16.015625 15.109375 13.34375 \r\n",
       "Q 13.8125 10.6875 13.8125 7.03125 \r\n",
       "L 48.6875 7.03125 \r\n",
       "L 48.6875 0 \r\n",
       "L 5.5625 0 \r\n",
       "L 5.5625 3.515625 \r\n",
       "Q 5.5625 9.421875 7.203125 13.59375 \r\n",
       "Q 8.84375 17.78125 12.671875 21.75 \r\n",
       "Q 16.5 25.734375 24.953125 31.59375 \r\n",
       "Q 32.671875 36.921875 36.015625 41.71875 \r\n",
       "Q 39.359375 46.53125 39.359375 52.6875 \r\n",
       "z\r\n",
       "\" id=\"MalgunGothic-50\"/>\r\n",
       "       </defs>\r\n",
       "       <use xlink:href=\"#MalgunGothic-50\"/>\r\n",
       "       <use x=\"55.078125\" xlink:href=\"#MalgunGothic-46\"/>\r\n",
       "       <use x=\"76.953125\" xlink:href=\"#MalgunGothic-48\"/>\r\n",
       "      </g>\r\n",
       "     </g>\r\n",
       "    </g>\r\n",
       "    <g id=\"xtick_6\">\r\n",
       "     <g id=\"line2d_6\">\r\n",
       "      <g>\r\n",
       "       <use style=\"stroke:#000000;stroke-width:0.8;\" x=\"229.25483\" xlink:href=\"#m44e5d83a40\" y=\"239.750625\"/>\r\n",
       "      </g>\r\n",
       "     </g>\r\n",
       "     <g id=\"text_6\">\r\n",
       "      <!-- 2.5 -->\r\n",
       "      <g transform=\"translate(222.653267 254.342812)scale(0.1 -0.1)\">\r\n",
       "       <use xlink:href=\"#MalgunGothic-50\"/>\r\n",
       "       <use x=\"55.078125\" xlink:href=\"#MalgunGothic-46\"/>\r\n",
       "       <use x=\"76.953125\" xlink:href=\"#MalgunGothic-53\"/>\r\n",
       "      </g>\r\n",
       "     </g>\r\n",
       "    </g>\r\n",
       "    <g id=\"xtick_7\">\r\n",
       "     <g id=\"line2d_7\">\r\n",
       "      <g>\r\n",
       "       <use style=\"stroke:#000000;stroke-width:0.8;\" x=\"267.300284\" xlink:href=\"#m44e5d83a40\" y=\"239.750625\"/>\r\n",
       "      </g>\r\n",
       "     </g>\r\n",
       "     <g id=\"text_7\">\r\n",
       "      <!-- 3.0 -->\r\n",
       "      <g transform=\"translate(260.698722 254.342812)scale(0.1 -0.1)\">\r\n",
       "       <defs>\r\n",
       "        <path d=\"M 6.5 11.234375 \r\n",
       "Q 13.921875 5.375 23.09375 5.375 \r\n",
       "Q 30.609375 5.375 35.21875 9.171875 \r\n",
       "Q 39.84375 12.984375 39.84375 19.484375 \r\n",
       "Q 39.84375 33.890625 19.578125 33.890625 \r\n",
       "L 13.625 33.890625 \r\n",
       "L 13.625 40.484375 \r\n",
       "L 19.28125 40.484375 \r\n",
       "Q 37.3125 40.484375 37.3125 53.953125 \r\n",
       "Q 37.3125 66.40625 23.578125 66.40625 \r\n",
       "Q 15.96875 66.40625 9.28125 61.1875 \r\n",
       "L 9.28125 68.953125 \r\n",
       "Q 16.109375 73.046875 25.53125 73.046875 \r\n",
       "Q 34.125 73.046875 39.671875 68.3125 \r\n",
       "Q 45.21875 63.578125 45.21875 55.953125 \r\n",
       "Q 45.21875 41.84375 30.8125 37.640625 \r\n",
       "L 30.8125 37.5 \r\n",
       "Q 38.578125 36.8125 43.1875 32.078125 \r\n",
       "Q 47.796875 27.34375 47.796875 20.3125 \r\n",
       "Q 47.796875 10.5 40.6875 4.640625 \r\n",
       "Q 33.59375 -1.21875 22.65625 -1.21875 \r\n",
       "Q 12.59375 -1.21875 6.5 2.640625 \r\n",
       "z\r\n",
       "\" id=\"MalgunGothic-51\"/>\r\n",
       "       </defs>\r\n",
       "       <use xlink:href=\"#MalgunGothic-51\"/>\r\n",
       "       <use x=\"55.078125\" xlink:href=\"#MalgunGothic-46\"/>\r\n",
       "       <use x=\"76.953125\" xlink:href=\"#MalgunGothic-48\"/>\r\n",
       "      </g>\r\n",
       "     </g>\r\n",
       "    </g>\r\n",
       "    <g id=\"xtick_8\">\r\n",
       "     <g id=\"line2d_8\">\r\n",
       "      <g>\r\n",
       "       <use style=\"stroke:#000000;stroke-width:0.8;\" x=\"305.345739\" xlink:href=\"#m44e5d83a40\" y=\"239.750625\"/>\r\n",
       "      </g>\r\n",
       "     </g>\r\n",
       "     <g id=\"text_8\">\r\n",
       "      <!-- 3.5 -->\r\n",
       "      <g transform=\"translate(298.744176 254.342812)scale(0.1 -0.1)\">\r\n",
       "       <use xlink:href=\"#MalgunGothic-51\"/>\r\n",
       "       <use x=\"55.078125\" xlink:href=\"#MalgunGothic-46\"/>\r\n",
       "       <use x=\"76.953125\" xlink:href=\"#MalgunGothic-53\"/>\r\n",
       "      </g>\r\n",
       "     </g>\r\n",
       "    </g>\r\n",
       "    <g id=\"xtick_9\">\r\n",
       "     <g id=\"line2d_9\">\r\n",
       "      <g>\r\n",
       "       <use style=\"stroke:#000000;stroke-width:0.8;\" x=\"343.391193\" xlink:href=\"#m44e5d83a40\" y=\"239.750625\"/>\r\n",
       "      </g>\r\n",
       "     </g>\r\n",
       "     <g id=\"text_9\">\r\n",
       "      <!-- 4.0 -->\r\n",
       "      <g transform=\"translate(336.789631 254.342812)scale(0.1 -0.1)\">\r\n",
       "       <defs>\r\n",
       "        <path d=\"M 42.234375 71.875 \r\n",
       "L 42.234375 24.421875 \r\n",
       "L 51.703125 24.421875 \r\n",
       "L 51.703125 17.390625 \r\n",
       "L 42.234375 17.390625 \r\n",
       "L 42.234375 0 \r\n",
       "L 34.578125 0 \r\n",
       "L 34.578125 17.390625 \r\n",
       "L 0.78125 17.390625 \r\n",
       "L 0.78125 23.96875 \r\n",
       "Q 11.375 35.890625 20.234375 48.578125 \r\n",
       "Q 29.109375 61.28125 33.9375 71.875 \r\n",
       "z\r\n",
       "M 9.765625 24.421875 \r\n",
       "L 34.578125 24.421875 \r\n",
       "L 34.578125 59.859375 \r\n",
       "Q 25.203125 43.5625 14.984375 30.953125 \r\n",
       "z\r\n",
       "\" id=\"MalgunGothic-52\"/>\r\n",
       "       </defs>\r\n",
       "       <use xlink:href=\"#MalgunGothic-52\"/>\r\n",
       "       <use x=\"55.078125\" xlink:href=\"#MalgunGothic-46\"/>\r\n",
       "       <use x=\"76.953125\" xlink:href=\"#MalgunGothic-48\"/>\r\n",
       "      </g>\r\n",
       "     </g>\r\n",
       "    </g>\r\n",
       "   </g>\r\n",
       "   <g id=\"matplotlib.axis_2\">\r\n",
       "    <g id=\"ytick_1\">\r\n",
       "     <g id=\"line2d_10\">\r\n",
       "      <defs>\r\n",
       "       <path d=\"M 0 0 \r\n",
       "L -3.5 0 \r\n",
       "\" id=\"ma7910fceb9\" style=\"stroke:#000000;stroke-width:0.8;\"/>\r\n",
       "      </defs>\r\n",
       "      <g>\r\n",
       "       <use style=\"stroke:#000000;stroke-width:0.8;\" x=\"23.809375\" xlink:href=\"#ma7910fceb9\" y=\"217.512443\"/>\r\n",
       "      </g>\r\n",
       "     </g>\r\n",
       "     <g id=\"text_10\">\r\n",
       "      <!-- -6 -->\r\n",
       "      <g transform=\"translate(7.2 221.308537)scale(0.1 -0.1)\">\r\n",
       "       <defs>\r\n",
       "        <path d=\"M 34.578125 25.53125 \r\n",
       "L 7.234375 25.53125 \r\n",
       "L 7.234375 31.734375 \r\n",
       "L 34.578125 31.734375 \r\n",
       "z\r\n",
       "\" id=\"MalgunGothic-45\"/>\r\n",
       "        <path d=\"M 46.578125 63.578125 \r\n",
       "Q 40.921875 66.40625 34.8125 66.40625 \r\n",
       "Q 24.859375 66.40625 19.1875 57.640625 \r\n",
       "Q 13.53125 48.875 13.578125 34.578125 \r\n",
       "L 13.8125 34.578125 \r\n",
       "Q 18.796875 44.875 30.28125 44.875 \r\n",
       "Q 39.796875 44.875 45.359375 38.71875 \r\n",
       "Q 50.921875 32.5625 50.921875 22.65625 \r\n",
       "Q 50.921875 12.453125 44.640625 5.609375 \r\n",
       "Q 38.375 -1.21875 28.515625 -1.21875 \r\n",
       "Q 17.4375 -1.21875 11.5 7.46875 \r\n",
       "Q 5.5625 16.15625 5.5625 31.546875 \r\n",
       "Q 5.5625 49.703125 13.234375 61.375 \r\n",
       "Q 20.90625 73.046875 34.71875 73.046875 \r\n",
       "Q 42.1875 73.046875 46.578125 71 \r\n",
       "z\r\n",
       "M 14.15625 23.53125 \r\n",
       "Q 14.15625 15.96875 18.203125 10.671875 \r\n",
       "Q 22.265625 5.375 28.8125 5.375 \r\n",
       "Q 35.109375 5.375 39.03125 10.078125 \r\n",
       "Q 42.96875 14.796875 42.96875 21.6875 \r\n",
       "Q 42.96875 29.5 39.203125 33.859375 \r\n",
       "Q 35.453125 38.234375 28.71875 38.234375 \r\n",
       "Q 22.5625 38.234375 18.359375 33.953125 \r\n",
       "Q 14.15625 29.6875 14.15625 23.53125 \r\n",
       "z\r\n",
       "\" id=\"MalgunGothic-54\"/>\r\n",
       "       </defs>\r\n",
       "       <use xlink:href=\"#MalgunGothic-45\"/>\r\n",
       "       <use x=\"41.015625\" xlink:href=\"#MalgunGothic-54\"/>\r\n",
       "      </g>\r\n",
       "     </g>\r\n",
       "    </g>\r\n",
       "    <g id=\"ytick_2\">\r\n",
       "     <g id=\"line2d_11\">\r\n",
       "      <g>\r\n",
       "       <use style=\"stroke:#000000;stroke-width:0.8;\" x=\"23.809375\" xlink:href=\"#ma7910fceb9\" y=\"192.803352\"/>\r\n",
       "      </g>\r\n",
       "     </g>\r\n",
       "     <g id=\"text_11\">\r\n",
       "      <!-- -4 -->\r\n",
       "      <g transform=\"translate(7.2 196.599446)scale(0.1 -0.1)\">\r\n",
       "       <use xlink:href=\"#MalgunGothic-45\"/>\r\n",
       "       <use x=\"41.015625\" xlink:href=\"#MalgunGothic-52\"/>\r\n",
       "      </g>\r\n",
       "     </g>\r\n",
       "    </g>\r\n",
       "    <g id=\"ytick_3\">\r\n",
       "     <g id=\"line2d_12\">\r\n",
       "      <g>\r\n",
       "       <use style=\"stroke:#000000;stroke-width:0.8;\" x=\"23.809375\" xlink:href=\"#ma7910fceb9\" y=\"168.094261\"/>\r\n",
       "      </g>\r\n",
       "     </g>\r\n",
       "     <g id=\"text_12\">\r\n",
       "      <!-- -2 -->\r\n",
       "      <g transform=\"translate(7.2 171.890355)scale(0.1 -0.1)\">\r\n",
       "       <use xlink:href=\"#MalgunGothic-45\"/>\r\n",
       "       <use x=\"41.015625\" xlink:href=\"#MalgunGothic-50\"/>\r\n",
       "      </g>\r\n",
       "     </g>\r\n",
       "    </g>\r\n",
       "    <g id=\"ytick_4\">\r\n",
       "     <g id=\"line2d_13\">\r\n",
       "      <g>\r\n",
       "       <use style=\"stroke:#000000;stroke-width:0.8;\" x=\"23.809375\" xlink:href=\"#ma7910fceb9\" y=\"143.38517\"/>\r\n",
       "      </g>\r\n",
       "     </g>\r\n",
       "     <g id=\"text_13\">\r\n",
       "      <!-- 0 -->\r\n",
       "      <g transform=\"translate(11.301563 147.181264)scale(0.1 -0.1)\">\r\n",
       "       <use xlink:href=\"#MalgunGothic-48\"/>\r\n",
       "      </g>\r\n",
       "     </g>\r\n",
       "    </g>\r\n",
       "    <g id=\"ytick_5\">\r\n",
       "     <g id=\"line2d_14\">\r\n",
       "      <g>\r\n",
       "       <use style=\"stroke:#000000;stroke-width:0.8;\" x=\"23.809375\" xlink:href=\"#ma7910fceb9\" y=\"118.67608\"/>\r\n",
       "      </g>\r\n",
       "     </g>\r\n",
       "     <g id=\"text_14\">\r\n",
       "      <!-- 2 -->\r\n",
       "      <g transform=\"translate(11.301563 122.472173)scale(0.1 -0.1)\">\r\n",
       "       <use xlink:href=\"#MalgunGothic-50\"/>\r\n",
       "      </g>\r\n",
       "     </g>\r\n",
       "    </g>\r\n",
       "    <g id=\"ytick_6\">\r\n",
       "     <g id=\"line2d_15\">\r\n",
       "      <g>\r\n",
       "       <use style=\"stroke:#000000;stroke-width:0.8;\" x=\"23.809375\" xlink:href=\"#ma7910fceb9\" y=\"93.966989\"/>\r\n",
       "      </g>\r\n",
       "     </g>\r\n",
       "     <g id=\"text_15\">\r\n",
       "      <!-- 4 -->\r\n",
       "      <g transform=\"translate(11.301563 97.763082)scale(0.1 -0.1)\">\r\n",
       "       <use xlink:href=\"#MalgunGothic-52\"/>\r\n",
       "      </g>\r\n",
       "     </g>\r\n",
       "    </g>\r\n",
       "    <g id=\"ytick_7\">\r\n",
       "     <g id=\"line2d_16\">\r\n",
       "      <g>\r\n",
       "       <use style=\"stroke:#000000;stroke-width:0.8;\" x=\"23.809375\" xlink:href=\"#ma7910fceb9\" y=\"69.257898\"/>\r\n",
       "      </g>\r\n",
       "     </g>\r\n",
       "     <g id=\"text_16\">\r\n",
       "      <!-- 6 -->\r\n",
       "      <g transform=\"translate(11.301563 73.053991)scale(0.1 -0.1)\">\r\n",
       "       <use xlink:href=\"#MalgunGothic-54\"/>\r\n",
       "      </g>\r\n",
       "     </g>\r\n",
       "    </g>\r\n",
       "    <g id=\"ytick_8\">\r\n",
       "     <g id=\"line2d_17\">\r\n",
       "      <g>\r\n",
       "       <use style=\"stroke:#000000;stroke-width:0.8;\" x=\"23.809375\" xlink:href=\"#ma7910fceb9\" y=\"44.548807\"/>\r\n",
       "      </g>\r\n",
       "     </g>\r\n",
       "     <g id=\"text_17\">\r\n",
       "      <!-- 8 -->\r\n",
       "      <g transform=\"translate(11.301563 48.344901)scale(0.1 -0.1)\">\r\n",
       "       <defs>\r\n",
       "        <path d=\"M 4.734375 20.015625 \r\n",
       "Q 4.734375 26.078125 8.421875 31.421875 \r\n",
       "Q 12.109375 36.765625 18.015625 38.96875 \r\n",
       "Q 13.375 41.359375 10.546875 45.546875 \r\n",
       "Q 7.71875 49.75 7.71875 54.6875 \r\n",
       "Q 7.71875 59.8125 10.296875 64.03125 \r\n",
       "Q 12.890625 68.265625 17.53125 70.65625 \r\n",
       "Q 22.171875 73.046875 27.78125 73.046875 \r\n",
       "Q 36.46875 73.046875 42.1875 67.84375 \r\n",
       "Q 47.90625 62.640625 47.90625 54.6875 \r\n",
       "Q 47.90625 49.703125 45.015625 45.53125 \r\n",
       "Q 42.140625 41.359375 37.703125 38.96875 \r\n",
       "Q 43.5625 36.71875 47.21875 31.390625 \r\n",
       "Q 50.875 26.078125 50.875 20.015625 \r\n",
       "Q 50.875 10.5 44.421875 4.640625 \r\n",
       "Q 37.984375 -1.21875 27.78125 -1.21875 \r\n",
       "Q 17.671875 -1.21875 11.203125 4.703125 \r\n",
       "Q 4.734375 10.640625 4.734375 20.015625 \r\n",
       "z\r\n",
       "M 12.640625 20.75 \r\n",
       "Q 12.640625 13.71875 16.890625 9.546875 \r\n",
       "Q 21.140625 5.375 27.828125 5.375 \r\n",
       "Q 34.46875 5.375 38.78125 9.671875 \r\n",
       "Q 43.109375 13.96875 43.109375 20.75 \r\n",
       "Q 43.109375 27.046875 38.78125 31.421875 \r\n",
       "Q 34.46875 35.796875 27.828125 35.796875 \r\n",
       "Q 21.4375 35.796875 17.03125 31.5625 \r\n",
       "Q 12.640625 27.34375 12.640625 20.75 \r\n",
       "z\r\n",
       "M 15.671875 54.046875 \r\n",
       "Q 15.671875 48.828125 19.28125 45.3125 \r\n",
       "Q 22.90625 41.796875 27.828125 41.796875 \r\n",
       "Q 32.765625 41.796875 36.40625 45.3125 \r\n",
       "Q 40.046875 48.828125 40.046875 54.046875 \r\n",
       "Q 40.046875 59.421875 36.578125 62.90625 \r\n",
       "Q 33.109375 66.40625 27.828125 66.40625 \r\n",
       "Q 22.65625 66.40625 19.15625 62.953125 \r\n",
       "Q 15.671875 59.515625 15.671875 54.046875 \r\n",
       "z\r\n",
       "\" id=\"MalgunGothic-56\"/>\r\n",
       "       </defs>\r\n",
       "       <use xlink:href=\"#MalgunGothic-56\"/>\r\n",
       "      </g>\r\n",
       "     </g>\r\n",
       "    </g>\r\n",
       "   </g>\r\n",
       "   <g id=\"line2d_18\">\r\n",
       "    <path clip-path=\"url(#pc3af4857c9)\" d=\"M 39.027557 131.030625 \r\n",
       "L 115.118466 106.321534 \r\n",
       "L 191.209375 81.612443 \r\n",
       "L 267.300284 229.866989 \r\n",
       "L 343.391193 32.194261 \r\n",
       "\" style=\"fill:none;stroke:#1f77b4;stroke-linecap:square;stroke-width:1.5;\"/>\r\n",
       "   </g>\r\n",
       "   <g id=\"patch_3\">\r\n",
       "    <path d=\"M 23.809375 239.750625 \r\n",
       "L 23.809375 22.310625 \r\n",
       "\" style=\"fill:none;stroke:#000000;stroke-linecap:square;stroke-linejoin:miter;stroke-width:0.8;\"/>\r\n",
       "   </g>\r\n",
       "   <g id=\"patch_4\">\r\n",
       "    <path d=\"M 358.609375 239.750625 \r\n",
       "L 358.609375 22.310625 \r\n",
       "\" style=\"fill:none;stroke:#000000;stroke-linecap:square;stroke-linejoin:miter;stroke-width:0.8;\"/>\r\n",
       "   </g>\r\n",
       "   <g id=\"patch_5\">\r\n",
       "    <path d=\"M 23.809375 239.750625 \r\n",
       "L 358.609375 239.750625 \r\n",
       "\" style=\"fill:none;stroke:#000000;stroke-linecap:square;stroke-linejoin:miter;stroke-width:0.8;\"/>\r\n",
       "   </g>\r\n",
       "   <g id=\"patch_6\">\r\n",
       "    <path d=\"M 23.809375 22.310625 \r\n",
       "L 358.609375 22.310625 \r\n",
       "\" style=\"fill:none;stroke:#000000;stroke-linecap:square;stroke-linejoin:miter;stroke-width:0.8;\"/>\r\n",
       "   </g>\r\n",
       "   <g id=\"text_18\">\r\n",
       "    <!-- 한글 -->\r\n",
       "    <g transform=\"translate(179.209375 16.310625)scale(0.12 -0.12)\">\r\n",
       "     <defs>\r\n",
       "      <path d=\"M 80.078125 42.390625 \r\n",
       "L 80.078125 15.28125 \r\n",
       "L 72.796875 15.28125 \r\n",
       "L 72.796875 85.40625 \r\n",
       "L 80.078125 85.40625 \r\n",
       "L 80.078125 49.03125 \r\n",
       "L 94.28125 49.03125 \r\n",
       "L 94.28125 42.390625 \r\n",
       "z\r\n",
       "M 6.984375 66.3125 \r\n",
       "L 6.984375 72.796875 \r\n",
       "L 31.296875 72.796875 \r\n",
       "L 31.296875 85.015625 \r\n",
       "L 38.71875 85.015625 \r\n",
       "L 38.71875 72.796875 \r\n",
       "L 62.984375 72.796875 \r\n",
       "L 62.984375 66.3125 \r\n",
       "z\r\n",
       "M 35.015625 25.78125 \r\n",
       "Q 24.359375 25.78125 18.140625 30.921875 \r\n",
       "Q 11.921875 36.078125 11.921875 43.609375 \r\n",
       "Q 11.921875 51.03125 18.140625 56.15625 \r\n",
       "Q 24.359375 61.28125 35.109375 61.28125 \r\n",
       "Q 45.796875 61.28125 52.046875 56.171875 \r\n",
       "Q 58.296875 51.078125 58.296875 43.609375 \r\n",
       "Q 58.296875 36.1875 52.015625 30.984375 \r\n",
       "Q 45.75 25.78125 35.015625 25.78125 \r\n",
       "z\r\n",
       "M 35.109375 55.078125 \r\n",
       "Q 27.6875 55.078125 23.390625 51.859375 \r\n",
       "Q 19.09375 48.640625 19.09375 43.609375 \r\n",
       "Q 19.09375 38.53125 23.40625 35.25 \r\n",
       "Q 27.734375 31.984375 35.109375 31.984375 \r\n",
       "Q 42.484375 31.984375 46.796875 35.25 \r\n",
       "Q 51.125 38.53125 51.125 43.609375 \r\n",
       "Q 51.125 48.640625 46.828125 51.859375 \r\n",
       "Q 42.53125 55.078125 35.109375 55.078125 \r\n",
       "z\r\n",
       "M 22.796875 -7.078125 \r\n",
       "L 22.796875 19 \r\n",
       "L 29.984375 19 \r\n",
       "L 29.984375 -0.59375 \r\n",
       "L 83.015625 -0.59375 \r\n",
       "L 83.015625 -7.078125 \r\n",
       "z\r\n",
       "\" id=\"MalgunGothic-54620\"/>\r\n",
       "      <path d=\"M 6.296875 44.28125 \r\n",
       "L 6.296875 50.78125 \r\n",
       "L 71.78125 50.78125 \r\n",
       "Q 72.40625 56 72.40625 75.78125 \r\n",
       "L 20.90625 75.78125 \r\n",
       "L 20.90625 82.328125 \r\n",
       "L 79.6875 82.328125 \r\n",
       "Q 79.6875 60.203125 78.90625 50.78125 \r\n",
       "L 93.703125 50.78125 \r\n",
       "L 93.703125 44.28125 \r\n",
       "z\r\n",
       "M 21.1875 -6 \r\n",
       "L 21.1875 17.390625 \r\n",
       "L 72.015625 17.1875 \r\n",
       "L 72.015625 27.296875 \r\n",
       "L 21.1875 27.296875 \r\n",
       "L 21.1875 33.796875 \r\n",
       "L 79.203125 33.796875 \r\n",
       "L 79.203125 10.984375 \r\n",
       "L 28.421875 10.984375 \r\n",
       "L 28.421875 0.390625 \r\n",
       "L 81.78125 0.390625 \r\n",
       "L 81.78125 -6 \r\n",
       "z\r\n",
       "\" id=\"MalgunGothic-44544\"/>\r\n",
       "     </defs>\r\n",
       "     <use xlink:href=\"#MalgunGothic-54620\"/>\r\n",
       "     <use x=\"100\" xlink:href=\"#MalgunGothic-44544\"/>\r\n",
       "    </g>\r\n",
       "   </g>\r\n",
       "  </g>\r\n",
       " </g>\r\n",
       " <defs>\r\n",
       "  <clipPath id=\"pc3af4857c9\">\r\n",
       "   <rect height=\"217.44\" width=\"334.8\" x=\"23.809375\" y=\"22.310625\"/>\r\n",
       "  </clipPath>\r\n",
       " </defs>\r\n",
       "</svg>\r\n"
      ],
      "text/plain": [
       "<Figure size 432x288 with 1 Axes>"
      ]
     },
     "metadata": {
      "needs_background": "light"
     },
     "output_type": "display_data"
    }
   ],
   "source": [
    "# 그래프 더 크게 :svg\n",
    "\n",
    "from IPython.display import set_matplotlib_formats\n",
    "set_matplotlib_formats(\"svg\")\n",
    "\n",
    "pd.Series([1,3,5,-7,9]).plot(title=\"한글\")"
   ]
  },
  {
   "cell_type": "code",
   "execution_count": 33,
   "metadata": {},
   "outputs": [],
   "source": [
    "from IPython.display import set_matplotlib_formats\n",
    "set_matplotlib_formats(\"retina\")"
   ]
  },
  {
   "cell_type": "markdown",
   "metadata": {},
   "source": [
    "## 확진일"
   ]
  },
  {
   "cell_type": "code",
   "execution_count": 17,
   "metadata": {},
   "outputs": [
    {
     "data": {
      "text/plain": [
       "11.25.    212\n",
       "11.26.    204\n",
       "11.27.    178\n",
       "8.29.     167\n",
       "8.27.     160\n",
       "Name: 확진일, dtype: int64"
      ]
     },
     "execution_count": 17,
     "metadata": {},
     "output_type": "execute_result"
    }
   ],
   "source": [
    "# 확진일의 빈도수를 봅니다. 어느 날짜에 가장 많이 확진이 되었는지 봅니다.\n",
    "df[\"확진일\"].value_counts().head()"
   ]
  },
  {
   "cell_type": "code",
   "execution_count": 29,
   "metadata": {},
   "outputs": [
    {
     "data": {
      "text/plain": [
       "0    11.28.\n",
       "1    11.28.\n",
       "2    11.28.\n",
       "3    11.28.\n",
       "4    11.28.\n",
       "Name: 확진일, dtype: object"
      ]
     },
     "execution_count": 29,
     "metadata": {},
     "output_type": "execute_result"
    }
   ],
   "source": [
    "# \"확진일\" 컬럼의 데이터가 날짜 형태가 아니라 문자형태 입니다.\n",
    "df[\"확진일\"].head()"
   ]
  },
  {
   "cell_type": "code",
   "execution_count": 19,
   "metadata": {},
   "outputs": [
    {
     "name": "stderr",
     "output_type": "stream",
     "text": [
      "<ipython-input-19-825c04ae9dfb>:6: FutureWarning: Treating datetime data as categorical rather than numeric in `.describe` is deprecated and will be removed in a future version of pandas. Specify `datetime_is_numeric=True` to silence this warning and adopt the future behavior now.\n",
      "  df[[\"확진일\", \"확진일자\"]].describe()\n"
     ]
    },
    {
     "data": {
      "text/html": [
       "<div>\n",
       "<style scoped>\n",
       "    .dataframe tbody tr th:only-of-type {\n",
       "        vertical-align: middle;\n",
       "    }\n",
       "\n",
       "    .dataframe tbody tr th {\n",
       "        vertical-align: top;\n",
       "    }\n",
       "\n",
       "    .dataframe thead th {\n",
       "        text-align: right;\n",
       "    }\n",
       "</style>\n",
       "<table border=\"1\" class=\"dataframe\">\n",
       "  <thead>\n",
       "    <tr style=\"text-align: right;\">\n",
       "      <th></th>\n",
       "      <th>확진일</th>\n",
       "      <th>확진일자</th>\n",
       "    </tr>\n",
       "  </thead>\n",
       "  <tbody>\n",
       "    <tr>\n",
       "      <th>count</th>\n",
       "      <td>8652</td>\n",
       "      <td>8652</td>\n",
       "    </tr>\n",
       "    <tr>\n",
       "      <th>unique</th>\n",
       "      <td>283</td>\n",
       "      <td>281</td>\n",
       "    </tr>\n",
       "    <tr>\n",
       "      <th>top</th>\n",
       "      <td>11.25.</td>\n",
       "      <td>2020-11-25 00:00:00</td>\n",
       "    </tr>\n",
       "    <tr>\n",
       "      <th>freq</th>\n",
       "      <td>212</td>\n",
       "      <td>212</td>\n",
       "    </tr>\n",
       "    <tr>\n",
       "      <th>first</th>\n",
       "      <td>NaN</td>\n",
       "      <td>2020-01-24 00:00:00</td>\n",
       "    </tr>\n",
       "    <tr>\n",
       "      <th>last</th>\n",
       "      <td>NaN</td>\n",
       "      <td>2020-11-28 00:00:00</td>\n",
       "    </tr>\n",
       "  </tbody>\n",
       "</table>\n",
       "</div>"
      ],
      "text/plain": [
       "           확진일                 확진일자\n",
       "count     8652                 8652\n",
       "unique     283                  281\n",
       "top     11.25.  2020-11-25 00:00:00\n",
       "freq       212                  212\n",
       "first      NaN  2020-01-24 00:00:00\n",
       "last       NaN  2020-11-28 00:00:00"
      ]
     },
     "execution_count": 19,
     "metadata": {},
     "output_type": "execute_result"
    }
   ],
   "source": [
    "# 데이터 타입을 변경해서 날짜형태로 변환합니다.\n",
    "# 판다스의 to_datetime 을 사용해서 날짜 타입으로 변경할 수 있습니다.\n",
    "# 연도가 없기 때문에 2020년을 날짜에 추가하고 \"-\" 문자로 날짜를 연결해 줍니다.\n",
    "\n",
    "df[\"확진일자\"] = pd.to_datetime(\"2020.\" + df[\"확진일\"])\n",
    "df[[\"확진일\", \"확진일자\"]].describe()\n"
   ]
  },
  {
   "cell_type": "code",
   "execution_count": 22,
   "metadata": {},
   "outputs": [
    {
     "data": {
      "text/html": [
       "<div>\n",
       "<style scoped>\n",
       "    .dataframe tbody tr th:only-of-type {\n",
       "        vertical-align: middle;\n",
       "    }\n",
       "\n",
       "    .dataframe tbody tr th {\n",
       "        vertical-align: top;\n",
       "    }\n",
       "\n",
       "    .dataframe thead th {\n",
       "        text-align: right;\n",
       "    }\n",
       "</style>\n",
       "<table border=\"1\" class=\"dataframe\">\n",
       "  <thead>\n",
       "    <tr style=\"text-align: right;\">\n",
       "      <th></th>\n",
       "      <th>연번</th>\n",
       "      <th>환자</th>\n",
       "      <th>확진일</th>\n",
       "      <th>거주지</th>\n",
       "      <th>여행력</th>\n",
       "      <th>접촉력</th>\n",
       "      <th>퇴원현황</th>\n",
       "      <th>확진일자</th>\n",
       "      <th>월</th>\n",
       "    </tr>\n",
       "  </thead>\n",
       "  <tbody>\n",
       "    <tr>\n",
       "      <th>0</th>\n",
       "      <td>8652</td>\n",
       "      <td>33532</td>\n",
       "      <td>11.28.</td>\n",
       "      <td>서대문구</td>\n",
       "      <td>-</td>\n",
       "      <td>기타 확진자 접촉</td>\n",
       "      <td>NaN</td>\n",
       "      <td>2020-11-28</td>\n",
       "      <td>11</td>\n",
       "    </tr>\n",
       "    <tr>\n",
       "      <th>1</th>\n",
       "      <td>8651</td>\n",
       "      <td>33756</td>\n",
       "      <td>11.28.</td>\n",
       "      <td>타시도</td>\n",
       "      <td>-</td>\n",
       "      <td>감염경로 조사중</td>\n",
       "      <td>NaN</td>\n",
       "      <td>2020-11-28</td>\n",
       "      <td>11</td>\n",
       "    </tr>\n",
       "    <tr>\n",
       "      <th>2</th>\n",
       "      <td>8650</td>\n",
       "      <td>33772</td>\n",
       "      <td>11.28.</td>\n",
       "      <td>동작구</td>\n",
       "      <td>-</td>\n",
       "      <td>동작구 임용단기학원 관련</td>\n",
       "      <td>NaN</td>\n",
       "      <td>2020-11-28</td>\n",
       "      <td>11</td>\n",
       "    </tr>\n",
       "    <tr>\n",
       "      <th>3</th>\n",
       "      <td>8649</td>\n",
       "      <td>33776</td>\n",
       "      <td>11.28.</td>\n",
       "      <td>은평구</td>\n",
       "      <td>-</td>\n",
       "      <td>기타 확진자 접촉</td>\n",
       "      <td>NaN</td>\n",
       "      <td>2020-11-28</td>\n",
       "      <td>11</td>\n",
       "    </tr>\n",
       "    <tr>\n",
       "      <th>4</th>\n",
       "      <td>8648</td>\n",
       "      <td>33768</td>\n",
       "      <td>11.28.</td>\n",
       "      <td>서초구</td>\n",
       "      <td>-</td>\n",
       "      <td>기타 확진자 접촉</td>\n",
       "      <td>NaN</td>\n",
       "      <td>2020-11-28</td>\n",
       "      <td>11</td>\n",
       "    </tr>\n",
       "    <tr>\n",
       "      <th>...</th>\n",
       "      <td>...</td>\n",
       "      <td>...</td>\n",
       "      <td>...</td>\n",
       "      <td>...</td>\n",
       "      <td>...</td>\n",
       "      <td>...</td>\n",
       "      <td>...</td>\n",
       "      <td>...</td>\n",
       "      <td>...</td>\n",
       "    </tr>\n",
       "    <tr>\n",
       "      <th>8647</th>\n",
       "      <td>5</td>\n",
       "      <td>9</td>\n",
       "      <td>1.31.</td>\n",
       "      <td>성북구</td>\n",
       "      <td>-</td>\n",
       "      <td>#5 접촉</td>\n",
       "      <td>퇴원</td>\n",
       "      <td>2020-01-31</td>\n",
       "      <td>1</td>\n",
       "    </tr>\n",
       "    <tr>\n",
       "      <th>8648</th>\n",
       "      <td>4</td>\n",
       "      <td>7</td>\n",
       "      <td>1.30.</td>\n",
       "      <td>마포구</td>\n",
       "      <td>중국 우한시</td>\n",
       "      <td>해외 접촉</td>\n",
       "      <td>퇴원</td>\n",
       "      <td>2020-01-30</td>\n",
       "      <td>1</td>\n",
       "    </tr>\n",
       "    <tr>\n",
       "      <th>8649</th>\n",
       "      <td>3</td>\n",
       "      <td>6</td>\n",
       "      <td>1.30.</td>\n",
       "      <td>종로구</td>\n",
       "      <td>-</td>\n",
       "      <td>#3 접촉</td>\n",
       "      <td>퇴원</td>\n",
       "      <td>2020-01-30</td>\n",
       "      <td>1</td>\n",
       "    </tr>\n",
       "    <tr>\n",
       "      <th>8650</th>\n",
       "      <td>2</td>\n",
       "      <td>5</td>\n",
       "      <td>1.30.</td>\n",
       "      <td>중랑구</td>\n",
       "      <td>중국 우한시</td>\n",
       "      <td>해외 접촉</td>\n",
       "      <td>퇴원</td>\n",
       "      <td>2020-01-30</td>\n",
       "      <td>1</td>\n",
       "    </tr>\n",
       "    <tr>\n",
       "      <th>8651</th>\n",
       "      <td>1</td>\n",
       "      <td>2</td>\n",
       "      <td>1.24.</td>\n",
       "      <td>강서구</td>\n",
       "      <td>중국 우한시</td>\n",
       "      <td>해외 접촉</td>\n",
       "      <td>퇴원</td>\n",
       "      <td>2020-01-24</td>\n",
       "      <td>1</td>\n",
       "    </tr>\n",
       "  </tbody>\n",
       "</table>\n",
       "<p>8652 rows × 9 columns</p>\n",
       "</div>"
      ],
      "text/plain": [
       "        연번     환자     확진일   거주지     여행력            접촉력 퇴원현황       확진일자   월\n",
       "0     8652  33532  11.28.  서대문구       -      기타 확진자 접촉  NaN 2020-11-28  11\n",
       "1     8651  33756  11.28.   타시도       -       감염경로 조사중  NaN 2020-11-28  11\n",
       "2     8650  33772  11.28.   동작구       -  동작구 임용단기학원 관련  NaN 2020-11-28  11\n",
       "3     8649  33776  11.28.   은평구       -      기타 확진자 접촉  NaN 2020-11-28  11\n",
       "4     8648  33768  11.28.   서초구       -      기타 확진자 접촉  NaN 2020-11-28  11\n",
       "...    ...    ...     ...   ...     ...            ...  ...        ...  ..\n",
       "8647     5      9   1.31.   성북구       -          #5 접촉   퇴원 2020-01-31   1\n",
       "8648     4      7   1.30.   마포구  중국 우한시          해외 접촉   퇴원 2020-01-30   1\n",
       "8649     3      6   1.30.   종로구       -          #3 접촉   퇴원 2020-01-30   1\n",
       "8650     2      5   1.30.   중랑구  중국 우한시          해외 접촉   퇴원 2020-01-30   1\n",
       "8651     1      2   1.24.   강서구  중국 우한시          해외 접촉   퇴원 2020-01-24   1\n",
       "\n",
       "[8652 rows x 9 columns]"
      ]
     },
     "execution_count": 22,
     "metadata": {},
     "output_type": "execute_result"
    }
   ],
   "source": [
    "# 월만 추출합니다.\n",
    "\n",
    "# df[\"월\"]\n",
    "df[\"월\"] = df[\"확진일자\"].dt.month\n",
    "df"
   ]
  },
  {
   "cell_type": "code",
   "execution_count": 30,
   "metadata": {},
   "outputs": [
    {
     "data": {
      "text/html": [
       "<div>\n",
       "<style scoped>\n",
       "    .dataframe tbody tr th:only-of-type {\n",
       "        vertical-align: middle;\n",
       "    }\n",
       "\n",
       "    .dataframe tbody tr th {\n",
       "        vertical-align: top;\n",
       "    }\n",
       "\n",
       "    .dataframe thead th {\n",
       "        text-align: right;\n",
       "    }\n",
       "</style>\n",
       "<table border=\"1\" class=\"dataframe\">\n",
       "  <thead>\n",
       "    <tr style=\"text-align: right;\">\n",
       "      <th></th>\n",
       "      <th>연번</th>\n",
       "      <th>환자</th>\n",
       "      <th>확진일</th>\n",
       "      <th>거주지</th>\n",
       "      <th>여행력</th>\n",
       "      <th>접촉력</th>\n",
       "      <th>퇴원현황</th>\n",
       "      <th>확진일자</th>\n",
       "      <th>월</th>\n",
       "      <th>주</th>\n",
       "    </tr>\n",
       "  </thead>\n",
       "  <tbody>\n",
       "    <tr>\n",
       "      <th>0</th>\n",
       "      <td>8652</td>\n",
       "      <td>33532</td>\n",
       "      <td>11.28.</td>\n",
       "      <td>서대문구</td>\n",
       "      <td>-</td>\n",
       "      <td>기타 확진자 접촉</td>\n",
       "      <td>NaN</td>\n",
       "      <td>2020-11-28</td>\n",
       "      <td>11</td>\n",
       "      <td>48</td>\n",
       "    </tr>\n",
       "    <tr>\n",
       "      <th>1</th>\n",
       "      <td>8651</td>\n",
       "      <td>33756</td>\n",
       "      <td>11.28.</td>\n",
       "      <td>타시도</td>\n",
       "      <td>-</td>\n",
       "      <td>감염경로 조사중</td>\n",
       "      <td>NaN</td>\n",
       "      <td>2020-11-28</td>\n",
       "      <td>11</td>\n",
       "      <td>48</td>\n",
       "    </tr>\n",
       "    <tr>\n",
       "      <th>2</th>\n",
       "      <td>8650</td>\n",
       "      <td>33772</td>\n",
       "      <td>11.28.</td>\n",
       "      <td>동작구</td>\n",
       "      <td>-</td>\n",
       "      <td>동작구 임용단기학원 관련</td>\n",
       "      <td>NaN</td>\n",
       "      <td>2020-11-28</td>\n",
       "      <td>11</td>\n",
       "      <td>48</td>\n",
       "    </tr>\n",
       "    <tr>\n",
       "      <th>3</th>\n",
       "      <td>8649</td>\n",
       "      <td>33776</td>\n",
       "      <td>11.28.</td>\n",
       "      <td>은평구</td>\n",
       "      <td>-</td>\n",
       "      <td>기타 확진자 접촉</td>\n",
       "      <td>NaN</td>\n",
       "      <td>2020-11-28</td>\n",
       "      <td>11</td>\n",
       "      <td>48</td>\n",
       "    </tr>\n",
       "    <tr>\n",
       "      <th>4</th>\n",
       "      <td>8648</td>\n",
       "      <td>33768</td>\n",
       "      <td>11.28.</td>\n",
       "      <td>서초구</td>\n",
       "      <td>-</td>\n",
       "      <td>기타 확진자 접촉</td>\n",
       "      <td>NaN</td>\n",
       "      <td>2020-11-28</td>\n",
       "      <td>11</td>\n",
       "      <td>48</td>\n",
       "    </tr>\n",
       "    <tr>\n",
       "      <th>...</th>\n",
       "      <td>...</td>\n",
       "      <td>...</td>\n",
       "      <td>...</td>\n",
       "      <td>...</td>\n",
       "      <td>...</td>\n",
       "      <td>...</td>\n",
       "      <td>...</td>\n",
       "      <td>...</td>\n",
       "      <td>...</td>\n",
       "      <td>...</td>\n",
       "    </tr>\n",
       "    <tr>\n",
       "      <th>8647</th>\n",
       "      <td>5</td>\n",
       "      <td>9</td>\n",
       "      <td>1.31.</td>\n",
       "      <td>성북구</td>\n",
       "      <td>-</td>\n",
       "      <td>#5 접촉</td>\n",
       "      <td>퇴원</td>\n",
       "      <td>2020-01-31</td>\n",
       "      <td>1</td>\n",
       "      <td>5</td>\n",
       "    </tr>\n",
       "    <tr>\n",
       "      <th>8648</th>\n",
       "      <td>4</td>\n",
       "      <td>7</td>\n",
       "      <td>1.30.</td>\n",
       "      <td>마포구</td>\n",
       "      <td>중국 우한시</td>\n",
       "      <td>해외 접촉</td>\n",
       "      <td>퇴원</td>\n",
       "      <td>2020-01-30</td>\n",
       "      <td>1</td>\n",
       "      <td>5</td>\n",
       "    </tr>\n",
       "    <tr>\n",
       "      <th>8649</th>\n",
       "      <td>3</td>\n",
       "      <td>6</td>\n",
       "      <td>1.30.</td>\n",
       "      <td>종로구</td>\n",
       "      <td>-</td>\n",
       "      <td>#3 접촉</td>\n",
       "      <td>퇴원</td>\n",
       "      <td>2020-01-30</td>\n",
       "      <td>1</td>\n",
       "      <td>5</td>\n",
       "    </tr>\n",
       "    <tr>\n",
       "      <th>8650</th>\n",
       "      <td>2</td>\n",
       "      <td>5</td>\n",
       "      <td>1.30.</td>\n",
       "      <td>중랑구</td>\n",
       "      <td>중국 우한시</td>\n",
       "      <td>해외 접촉</td>\n",
       "      <td>퇴원</td>\n",
       "      <td>2020-01-30</td>\n",
       "      <td>1</td>\n",
       "      <td>5</td>\n",
       "    </tr>\n",
       "    <tr>\n",
       "      <th>8651</th>\n",
       "      <td>1</td>\n",
       "      <td>2</td>\n",
       "      <td>1.24.</td>\n",
       "      <td>강서구</td>\n",
       "      <td>중국 우한시</td>\n",
       "      <td>해외 접촉</td>\n",
       "      <td>퇴원</td>\n",
       "      <td>2020-01-24</td>\n",
       "      <td>1</td>\n",
       "      <td>4</td>\n",
       "    </tr>\n",
       "  </tbody>\n",
       "</table>\n",
       "<p>8652 rows × 10 columns</p>\n",
       "</div>"
      ],
      "text/plain": [
       "        연번     환자     확진일   거주지     여행력            접촉력 퇴원현황       확진일자   월   주\n",
       "0     8652  33532  11.28.  서대문구       -      기타 확진자 접촉  NaN 2020-11-28  11  48\n",
       "1     8651  33756  11.28.   타시도       -       감염경로 조사중  NaN 2020-11-28  11  48\n",
       "2     8650  33772  11.28.   동작구       -  동작구 임용단기학원 관련  NaN 2020-11-28  11  48\n",
       "3     8649  33776  11.28.   은평구       -      기타 확진자 접촉  NaN 2020-11-28  11  48\n",
       "4     8648  33768  11.28.   서초구       -      기타 확진자 접촉  NaN 2020-11-28  11  48\n",
       "...    ...    ...     ...   ...     ...            ...  ...        ...  ..  ..\n",
       "8647     5      9   1.31.   성북구       -          #5 접촉   퇴원 2020-01-31   1   5\n",
       "8648     4      7   1.30.   마포구  중국 우한시          해외 접촉   퇴원 2020-01-30   1   5\n",
       "8649     3      6   1.30.   종로구       -          #3 접촉   퇴원 2020-01-30   1   5\n",
       "8650     2      5   1.30.   중랑구  중국 우한시          해외 접촉   퇴원 2020-01-30   1   5\n",
       "8651     1      2   1.24.   강서구  중국 우한시          해외 접촉   퇴원 2020-01-24   1   4\n",
       "\n",
       "[8652 rows x 10 columns]"
      ]
     },
     "execution_count": 30,
     "metadata": {},
     "output_type": "execute_result"
    }
   ],
   "source": [
    "# 해당 연도의 몇번째 \"주\"인지 추출합니다.\n",
    "\n",
    "# df[\"주\"]\n",
    "df[\"주\"] = df[\"확진일자\"].dt.isocalendar().week\n",
    "df"
   ]
  },
  {
   "cell_type": "markdown",
   "metadata": {},
   "source": [
    "### 선그래프 그리기\n",
    "[Visualization — pandas documentation](https://pandas.pydata.org/pandas-docs/stable/user_guide/visualization.html)"
   ]
  },
  {
   "cell_type": "code",
   "execution_count": 34,
   "metadata": {},
   "outputs": [
    {
     "data": {
      "text/plain": [
       "<AxesSubplot:title={'center':'확진일자별 확진자 수'}>"
      ]
     },
     "execution_count": 34,
     "metadata": {},
     "output_type": "execute_result"
    },
    {
     "data": {
      "image/png": "[encoded data removed]",
      "text/plain": [
       "<Figure size 720x288 with 1 Axes>"
      ]
     },
     "metadata": {
      "image/png": {
       "height": 260,
       "width": 595
      },
      "needs_background": "light"
     },
     "output_type": "display_data"
    }
   ],
   "source": [
    "# 확진일자로 선그래프를 그립니다.\n",
    "df[\"확진일자\"].value_counts().plot(title=\"확진일자별 확진자 수\",\n",
    "                                   figsize=(10,4),\n",
    "                                   grid=True)"
   ]
  },
  {
   "cell_type": "markdown",
   "metadata": {},
   "source": [
    "### 확진자가 가장 많이 나온 날"
   ]
  },
  {
   "cell_type": "code",
   "execution_count": 35,
   "metadata": {},
   "outputs": [
    {
     "name": "stderr",
     "output_type": "stream",
     "text": [
      "<ipython-input-35-e5fd44a8918a>:2: FutureWarning: Treating datetime data as categorical rather than numeric in `.describe` is deprecated and will be removed in a future version of pandas. Specify `datetime_is_numeric=True` to silence this warning and adopt the future behavior now.\n",
      "  df[\"확진일자\"].describe()\n"
     ]
    },
    {
     "data": {
      "text/plain": [
       "count                    8652\n",
       "unique                    281\n",
       "top       2020-11-25 00:00:00\n",
       "freq                      212\n",
       "first     2020-01-24 00:00:00\n",
       "last      2020-11-28 00:00:00\n",
       "Name: 확진일자, dtype: object"
      ]
     },
     "execution_count": 35,
     "metadata": {},
     "output_type": "execute_result"
    }
   ],
   "source": [
    "# describe 를 통해 일자별 확진자수를 describe를 통해 요약해 봅니다.\n",
    "df[\"확진일자\"].describe()"
   ]
  },
  {
   "cell_type": "code",
   "execution_count": 36,
   "metadata": {},
   "outputs": [
    {
     "data": {
      "text/html": [
       "<div>\n",
       "<style scoped>\n",
       "    .dataframe tbody tr th:only-of-type {\n",
       "        vertical-align: middle;\n",
       "    }\n",
       "\n",
       "    .dataframe tbody tr th {\n",
       "        vertical-align: top;\n",
       "    }\n",
       "\n",
       "    .dataframe thead th {\n",
       "        text-align: right;\n",
       "    }\n",
       "</style>\n",
       "<table border=\"1\" class=\"dataframe\">\n",
       "  <thead>\n",
       "    <tr style=\"text-align: right;\">\n",
       "      <th></th>\n",
       "      <th>연번</th>\n",
       "      <th>환자</th>\n",
       "      <th>확진일</th>\n",
       "      <th>거주지</th>\n",
       "      <th>여행력</th>\n",
       "      <th>접촉력</th>\n",
       "      <th>퇴원현황</th>\n",
       "      <th>확진일자</th>\n",
       "      <th>월</th>\n",
       "      <th>주</th>\n",
       "    </tr>\n",
       "  </thead>\n",
       "  <tbody>\n",
       "    <tr>\n",
       "      <th>540</th>\n",
       "      <td>8112</td>\n",
       "      <td>31995</td>\n",
       "      <td>11.25.</td>\n",
       "      <td>타시도</td>\n",
       "      <td>-</td>\n",
       "      <td>기타 확진자 접촉</td>\n",
       "      <td>NaN</td>\n",
       "      <td>2020-11-25</td>\n",
       "      <td>11</td>\n",
       "      <td>48</td>\n",
       "    </tr>\n",
       "    <tr>\n",
       "      <th>541</th>\n",
       "      <td>8111</td>\n",
       "      <td>31997</td>\n",
       "      <td>11.25.</td>\n",
       "      <td>타시도</td>\n",
       "      <td>-</td>\n",
       "      <td>중구 소재 보람상조회사 관련</td>\n",
       "      <td>NaN</td>\n",
       "      <td>2020-11-25</td>\n",
       "      <td>11</td>\n",
       "      <td>48</td>\n",
       "    </tr>\n",
       "    <tr>\n",
       "      <th>542</th>\n",
       "      <td>8110</td>\n",
       "      <td>32080</td>\n",
       "      <td>11.25.</td>\n",
       "      <td>동작구</td>\n",
       "      <td>-</td>\n",
       "      <td>감염경로 조사중</td>\n",
       "      <td>NaN</td>\n",
       "      <td>2020-11-25</td>\n",
       "      <td>11</td>\n",
       "      <td>48</td>\n",
       "    </tr>\n",
       "    <tr>\n",
       "      <th>543</th>\n",
       "      <td>8109</td>\n",
       "      <td>32187</td>\n",
       "      <td>11.25.</td>\n",
       "      <td>중랑구</td>\n",
       "      <td>-</td>\n",
       "      <td>감염경로 조사중</td>\n",
       "      <td>NaN</td>\n",
       "      <td>2020-11-25</td>\n",
       "      <td>11</td>\n",
       "      <td>48</td>\n",
       "    </tr>\n",
       "    <tr>\n",
       "      <th>544</th>\n",
       "      <td>8108</td>\n",
       "      <td>32015</td>\n",
       "      <td>11.25.</td>\n",
       "      <td>타시도</td>\n",
       "      <td>-</td>\n",
       "      <td>감염경로 조사중</td>\n",
       "      <td>NaN</td>\n",
       "      <td>2020-11-25</td>\n",
       "      <td>11</td>\n",
       "      <td>48</td>\n",
       "    </tr>\n",
       "    <tr>\n",
       "      <th>...</th>\n",
       "      <td>...</td>\n",
       "      <td>...</td>\n",
       "      <td>...</td>\n",
       "      <td>...</td>\n",
       "      <td>...</td>\n",
       "      <td>...</td>\n",
       "      <td>...</td>\n",
       "      <td>...</td>\n",
       "      <td>...</td>\n",
       "      <td>...</td>\n",
       "    </tr>\n",
       "    <tr>\n",
       "      <th>747</th>\n",
       "      <td>7905</td>\n",
       "      <td>31868</td>\n",
       "      <td>11.25.</td>\n",
       "      <td>동작구</td>\n",
       "      <td>-</td>\n",
       "      <td>동작구 임용단기고시 관련</td>\n",
       "      <td>NaN</td>\n",
       "      <td>2020-11-25</td>\n",
       "      <td>11</td>\n",
       "      <td>48</td>\n",
       "    </tr>\n",
       "    <tr>\n",
       "      <th>748</th>\n",
       "      <td>7904</td>\n",
       "      <td>31823</td>\n",
       "      <td>11.25.</td>\n",
       "      <td>동작구</td>\n",
       "      <td>-</td>\n",
       "      <td>기타 확진자 접촉</td>\n",
       "      <td>NaN</td>\n",
       "      <td>2020-11-25</td>\n",
       "      <td>11</td>\n",
       "      <td>48</td>\n",
       "    </tr>\n",
       "    <tr>\n",
       "      <th>749</th>\n",
       "      <td>7903</td>\n",
       "      <td>31882</td>\n",
       "      <td>11.25.</td>\n",
       "      <td>용산구</td>\n",
       "      <td>-</td>\n",
       "      <td>감염경로 조사중</td>\n",
       "      <td>NaN</td>\n",
       "      <td>2020-11-25</td>\n",
       "      <td>11</td>\n",
       "      <td>48</td>\n",
       "    </tr>\n",
       "    <tr>\n",
       "      <th>750</th>\n",
       "      <td>7902</td>\n",
       "      <td>31878</td>\n",
       "      <td>11.25.</td>\n",
       "      <td>용산구</td>\n",
       "      <td>-</td>\n",
       "      <td>기타 확진자 접촉</td>\n",
       "      <td>NaN</td>\n",
       "      <td>2020-11-25</td>\n",
       "      <td>11</td>\n",
       "      <td>48</td>\n",
       "    </tr>\n",
       "    <tr>\n",
       "      <th>751</th>\n",
       "      <td>7901</td>\n",
       "      <td>31798</td>\n",
       "      <td>11.25.</td>\n",
       "      <td>타시도</td>\n",
       "      <td>-</td>\n",
       "      <td>서초구 사우나Ⅱ 관련</td>\n",
       "      <td>NaN</td>\n",
       "      <td>2020-11-25</td>\n",
       "      <td>11</td>\n",
       "      <td>48</td>\n",
       "    </tr>\n",
       "  </tbody>\n",
       "</table>\n",
       "<p>212 rows × 10 columns</p>\n",
       "</div>"
      ],
      "text/plain": [
       "       연번     환자     확진일  거주지 여행력              접촉력 퇴원현황       확진일자   월   주\n",
       "540  8112  31995  11.25.  타시도   -        기타 확진자 접촉  NaN 2020-11-25  11  48\n",
       "541  8111  31997  11.25.  타시도   -  중구 소재 보람상조회사 관련  NaN 2020-11-25  11  48\n",
       "542  8110  32080  11.25.  동작구   -         감염경로 조사중  NaN 2020-11-25  11  48\n",
       "543  8109  32187  11.25.  중랑구   -         감염경로 조사중  NaN 2020-11-25  11  48\n",
       "544  8108  32015  11.25.  타시도   -         감염경로 조사중  NaN 2020-11-25  11  48\n",
       "..    ...    ...     ...  ...  ..              ...  ...        ...  ..  ..\n",
       "747  7905  31868  11.25.  동작구   -    동작구 임용단기고시 관련  NaN 2020-11-25  11  48\n",
       "748  7904  31823  11.25.  동작구   -        기타 확진자 접촉  NaN 2020-11-25  11  48\n",
       "749  7903  31882  11.25.  용산구   -         감염경로 조사중  NaN 2020-11-25  11  48\n",
       "750  7902  31878  11.25.  용산구   -        기타 확진자 접촉  NaN 2020-11-25  11  48\n",
       "751  7901  31798  11.25.  타시도   -      서초구 사우나Ⅱ 관련  NaN 2020-11-25  11  48\n",
       "\n",
       "[212 rows x 10 columns]"
      ]
     },
     "execution_count": 36,
     "metadata": {},
     "output_type": "execute_result"
    }
   ],
   "source": [
    "# 확진자가 가장 많았던 날을 찾습니다.\n",
    "df[df[\"확진일자\"] == \"2020-11-25\"]"
   ]
  },
  {
   "cell_type": "code",
   "execution_count": null,
   "metadata": {},
   "outputs": [],
   "source": [
    "# 확진자가 가장 많았던 날의 발생이력을 찾습니다.\n"
   ]
  },
  {
   "cell_type": "markdown",
   "metadata": {},
   "source": [
    "### 막대그래프 그리기"
   ]
  },
  {
   "cell_type": "code",
   "execution_count": 37,
   "metadata": {},
   "outputs": [
    {
     "data": {
      "text/plain": [
       "<AxesSubplot:>"
      ]
     },
     "execution_count": 37,
     "metadata": {},
     "output_type": "execute_result"
    },
    {
     "data": {
      "image/png": "[encoded data removed]",
      "text/plain": [
       "<Figure size 432x288 with 1 Axes>"
      ]
     },
     "metadata": {
      "image/png": {
       "height": 331,
       "width": 377
      },
      "needs_background": "light"
     },
     "output_type": "display_data"
    }
   ],
   "source": [
    "# 선그래프로 그렸던 그래프를 막대그래프로 그립니다.\n",
    "df[\"확진일자\"].value_counts().plot.bar()  #bar plot은 처음 지정한 빈도 수 순서대로, 모든 값을 표기한다."
   ]
  },
  {
   "cell_type": "code",
   "execution_count": 43,
   "metadata": {},
   "outputs": [
    {
     "data": {
      "text/plain": [
       "<AxesSubplot:>"
      ]
     },
     "execution_count": 43,
     "metadata": {},
     "output_type": "execute_result"
    },
    {
     "data": {
      "image/png": "[encoded data removed]",
      "text/plain": [
       "<Figure size 432x288 with 1 Axes>"
      ]
     },
     "metadata": {
      "image/png": {
       "height": 331,
       "width": 377
      },
      "needs_background": "light"
     },
     "output_type": "display_data"
    }
   ],
   "source": [
    "#날짜로 정렬\n",
    "df[\"확진일자\"].value_counts().sort_index().plot.bar() "
   ]
  },
  {
   "cell_type": "code",
   "execution_count": null,
   "metadata": {},
   "outputs": [],
   "source": [
    "# 막대그래프틑 데이터를 범주형이라고 인식함, 빈도수로 자동 정렬\n",
    "# 연속된 수치 데이터는 선그래프로 그리는게 좋을수 있음"
   ]
  },
  {
   "cell_type": "markdown",
   "metadata": {},
   "source": [
    "### 최근 데이터만 슬라이싱으로 나눠 그리기"
   ]
  },
  {
   "cell_type": "code",
   "execution_count": 48,
   "metadata": {},
   "outputs": [
    {
     "data": {
      "text/plain": [
       "<AxesSubplot:>"
      ]
     },
     "execution_count": 48,
     "metadata": {},
     "output_type": "execute_result"
    },
    {
     "data": {
      "image/png": "[encoded data removed]",
      "text/plain": [
       "<Figure size 720x288 with 1 Axes>"
      ]
     },
     "metadata": {
      "image/png": {
       "height": 331,
       "width": 596
      },
      "needs_background": "light"
     },
     "output_type": "display_data"
    }
   ],
   "source": [
    "# 슬라이싱을 통해 최근 데이터만 그립니다.\n",
    "day_count = df[\"확진일자\"].value_counts().sort_index()\n",
    "day_count[-60:].plot.bar(figsize = (10,4))"
   ]
  },
  {
   "cell_type": "code",
   "execution_count": 46,
   "metadata": {},
   "outputs": [
    {
     "data": {
      "text/plain": [
       "<AxesSubplot:>"
      ]
     },
     "execution_count": 46,
     "metadata": {},
     "output_type": "execute_result"
    },
    {
     "data": {
      "image/png": "[encoded data removed]",
      "text/plain": [
       "<Figure size 720x288 with 1 Axes>"
      ]
     },
     "metadata": {
      "image/png": {
       "height": 324,
       "width": 619
      },
      "needs_background": "light"
     },
     "output_type": "display_data"
    }
   ],
   "source": [
    "##rot로 라벨 텍스트 기울기 설정해줄 수 있음\n",
    "# 라벨값 조정하려면 matplotlib에서 설정을 일일이 조정해줘야 함\n",
    "# plotly로 비교적 손쉽게 인터랙티브 시각화도 가능\n",
    "day_count[-60:].plot.bar(figsize = (10,4), rot = 60)"
   ]
  },
  {
   "cell_type": "markdown",
   "metadata": {},
   "source": [
    "### 월별 확진자 수 그리기"
   ]
  },
  {
   "cell_type": "code",
   "execution_count": 44,
   "metadata": {},
   "outputs": [
    {
     "data": {
      "text/plain": [
       "<AxesSubplot:title={'center':'월별 확진자 수'}>"
      ]
     },
     "execution_count": 44,
     "metadata": {},
     "output_type": "execute_result"
    },
    {
     "data": {
      "image/png": "[encoded data removed]",
      "text/plain": [
       "<Figure size 432x288 with 1 Axes>"
      ]
     },
     "metadata": {
      "image/png": {
       "height": 264,
       "width": 378
      },
      "needs_background": "light"
     },
     "output_type": "display_data"
    }
   ],
   "source": [
    "# 월별 확진자수에 대한 빈도수를 구해서 시각화 합니다.\n",
    "df[\"월\"].value_counts().sort_index().plot.bar(rot=0, title=\"월별 확진자 수\")\n"
   ]
  },
  {
   "cell_type": "markdown",
   "metadata": {},
   "source": [
    "### 주단위 확진자수 그리기"
   ]
  },
  {
   "cell_type": "code",
   "execution_count": null,
   "metadata": {
    "scrolled": true
   },
   "outputs": [],
   "source": [
    "# 주별로 빈도수를 구합니다.\n"
   ]
  },
  {
   "cell_type": "code",
   "execution_count": null,
   "metadata": {},
   "outputs": [],
   "source": [
    "# 주단위 빈도수 막대그래프로 그리기\n"
   ]
  },
  {
   "cell_type": "markdown",
   "metadata": {},
   "source": [
    "## 모든 날짜를 행에 만들어 주기\n",
    "* 확진자가 없는 날의 데이터도 만들어 줍니다."
   ]
  },
  {
   "cell_type": "code",
   "execution_count": 54,
   "metadata": {},
   "outputs": [],
   "source": [
    "# 첫 확진일 부터 마지막 확진일까지 가져옵니다.\n",
    "# 데이터프레임의 첫번째 날짜는 first_day 에 마지막 날짜는 last_day 에 담습니다.\n",
    "\n",
    "first_day = df.iloc[-1][\"확진일자\"]"
   ]
  },
  {
   "cell_type": "code",
   "execution_count": 55,
   "metadata": {},
   "outputs": [],
   "source": [
    "last_day = df.iloc[0][\"확진일자\"]"
   ]
  },
  {
   "cell_type": "code",
   "execution_count": 57,
   "metadata": {},
   "outputs": [],
   "source": [
    "# pd.date_range 를 통해 시작하는 날짜부터 끝나는 날짜까지의 \n",
    "# DatetimeIndex 를 만들고 days 라는 변수에 저장합니다.\n",
    "\n",
    "days= pd.date_range(first_day, last_day)"
   ]
  },
  {
   "cell_type": "code",
   "execution_count": 58,
   "metadata": {},
   "outputs": [],
   "source": [
    "# days 변수의 값으로 \"연월일\" 이라는 컬럼이름을 갖는 데이터프레임을 만듭니다.\n",
    "# days.to_frame()\n",
    "# df_days\n",
    "df_days=days.to_frame()"
   ]
  },
  {
   "cell_type": "code",
   "execution_count": 59,
   "metadata": {},
   "outputs": [
    {
     "data": {
      "text/plain": [
       "2020-01-24      1\n",
       "2020-01-30      3\n",
       "2020-01-31      3\n",
       "2020-02-02      1\n",
       "2020-02-05      2\n",
       "             ... \n",
       "2020-11-24    142\n",
       "2020-11-25    212\n",
       "2020-11-26    204\n",
       "2020-11-27    178\n",
       "2020-11-28    158\n",
       "Name: 확진일자, Length: 281, dtype: int64"
      ]
     },
     "execution_count": 59,
     "metadata": {},
     "output_type": "execute_result"
    }
   ],
   "source": [
    "# 확진일자별로 빈도수 구하기\n",
    "daily_case = df[\"확진일자\"].value_counts().sort_index()\n",
    "daily_case"
   ]
  },
  {
   "cell_type": "code",
   "execution_count": 60,
   "metadata": {},
   "outputs": [],
   "source": [
    "# 확진일자별로 빈도수 구한 내용을 데이터프레임으로 변환하기\n",
    "df_daily_case = daily_case.reset_index()\n"
   ]
  },
  {
   "cell_type": "code",
   "execution_count": 61,
   "metadata": {},
   "outputs": [
    {
     "data": {
      "text/html": [
       "<div>\n",
       "<style scoped>\n",
       "    .dataframe tbody tr th:only-of-type {\n",
       "        vertical-align: middle;\n",
       "    }\n",
       "\n",
       "    .dataframe tbody tr th {\n",
       "        vertical-align: top;\n",
       "    }\n",
       "\n",
       "    .dataframe thead th {\n",
       "        text-align: right;\n",
       "    }\n",
       "</style>\n",
       "<table border=\"1\" class=\"dataframe\">\n",
       "  <thead>\n",
       "    <tr style=\"text-align: right;\">\n",
       "      <th></th>\n",
       "      <th>확진일자</th>\n",
       "      <th>확진수</th>\n",
       "    </tr>\n",
       "  </thead>\n",
       "  <tbody>\n",
       "    <tr>\n",
       "      <th>0</th>\n",
       "      <td>2020-01-24</td>\n",
       "      <td>1</td>\n",
       "    </tr>\n",
       "    <tr>\n",
       "      <th>1</th>\n",
       "      <td>2020-01-30</td>\n",
       "      <td>3</td>\n",
       "    </tr>\n",
       "    <tr>\n",
       "      <th>2</th>\n",
       "      <td>2020-01-31</td>\n",
       "      <td>3</td>\n",
       "    </tr>\n",
       "    <tr>\n",
       "      <th>3</th>\n",
       "      <td>2020-02-02</td>\n",
       "      <td>1</td>\n",
       "    </tr>\n",
       "    <tr>\n",
       "      <th>4</th>\n",
       "      <td>2020-02-05</td>\n",
       "      <td>2</td>\n",
       "    </tr>\n",
       "    <tr>\n",
       "      <th>...</th>\n",
       "      <td>...</td>\n",
       "      <td>...</td>\n",
       "    </tr>\n",
       "    <tr>\n",
       "      <th>276</th>\n",
       "      <td>2020-11-24</td>\n",
       "      <td>142</td>\n",
       "    </tr>\n",
       "    <tr>\n",
       "      <th>277</th>\n",
       "      <td>2020-11-25</td>\n",
       "      <td>212</td>\n",
       "    </tr>\n",
       "    <tr>\n",
       "      <th>278</th>\n",
       "      <td>2020-11-26</td>\n",
       "      <td>204</td>\n",
       "    </tr>\n",
       "    <tr>\n",
       "      <th>279</th>\n",
       "      <td>2020-11-27</td>\n",
       "      <td>178</td>\n",
       "    </tr>\n",
       "    <tr>\n",
       "      <th>280</th>\n",
       "      <td>2020-11-28</td>\n",
       "      <td>158</td>\n",
       "    </tr>\n",
       "  </tbody>\n",
       "</table>\n",
       "<p>281 rows × 2 columns</p>\n",
       "</div>"
      ],
      "text/plain": [
       "          확진일자  확진수\n",
       "0   2020-01-24    1\n",
       "1   2020-01-30    3\n",
       "2   2020-01-31    3\n",
       "3   2020-02-02    1\n",
       "4   2020-02-05    2\n",
       "..         ...  ...\n",
       "276 2020-11-24  142\n",
       "277 2020-11-25  212\n",
       "278 2020-11-26  204\n",
       "279 2020-11-27  178\n",
       "280 2020-11-28  158\n",
       "\n",
       "[281 rows x 2 columns]"
      ]
     },
     "execution_count": 61,
     "metadata": {},
     "output_type": "execute_result"
    }
   ],
   "source": [
    "# value_counts 결과의 컬럼명을 \"확진수\" 로 바꾸기\n",
    "df_daily_case.columns = [\"확진일자\", \"확진수\"]\n",
    "df_daily_case"
   ]
  },
  {
   "cell_type": "markdown",
   "metadata": {},
   "source": [
    "### merge 를 통해 전체 확진일자 만들기\n",
    "* 이미지 출처 및 Pandas 공식문서 보기 : [How to combine data from multiple tables? — pandas documentation](https://pandas.pydata.org/pandas-docs/stable/getting_started/intro_tutorials/08_combine_dataframes.html#join-tables-using-a-common-identifier)\n",
    "\n",
    "<img src=\"https://pandas.pydata.org/pandas-docs/stable/_images/08_merge_left.svg\">"
   ]
  },
  {
   "cell_type": "code",
   "execution_count": 64,
   "metadata": {},
   "outputs": [
    {
     "data": {
      "text/html": [
       "<div>\n",
       "<style scoped>\n",
       "    .dataframe tbody tr th:only-of-type {\n",
       "        vertical-align: middle;\n",
       "    }\n",
       "\n",
       "    .dataframe tbody tr th {\n",
       "        vertical-align: top;\n",
       "    }\n",
       "\n",
       "    .dataframe thead th {\n",
       "        text-align: right;\n",
       "    }\n",
       "</style>\n",
       "<table border=\"1\" class=\"dataframe\">\n",
       "  <thead>\n",
       "    <tr style=\"text-align: right;\">\n",
       "      <th></th>\n",
       "      <th>확진일자</th>\n",
       "      <th>확진수</th>\n",
       "    </tr>\n",
       "  </thead>\n",
       "  <tbody>\n",
       "    <tr>\n",
       "      <th>0</th>\n",
       "      <td>2020-01-24</td>\n",
       "      <td>1.0</td>\n",
       "    </tr>\n",
       "    <tr>\n",
       "      <th>1</th>\n",
       "      <td>2020-01-25</td>\n",
       "      <td>NaN</td>\n",
       "    </tr>\n",
       "    <tr>\n",
       "      <th>2</th>\n",
       "      <td>2020-01-26</td>\n",
       "      <td>NaN</td>\n",
       "    </tr>\n",
       "    <tr>\n",
       "      <th>3</th>\n",
       "      <td>2020-01-27</td>\n",
       "      <td>NaN</td>\n",
       "    </tr>\n",
       "    <tr>\n",
       "      <th>4</th>\n",
       "      <td>2020-01-28</td>\n",
       "      <td>NaN</td>\n",
       "    </tr>\n",
       "    <tr>\n",
       "      <th>...</th>\n",
       "      <td>...</td>\n",
       "      <td>...</td>\n",
       "    </tr>\n",
       "    <tr>\n",
       "      <th>305</th>\n",
       "      <td>2020-11-24</td>\n",
       "      <td>142.0</td>\n",
       "    </tr>\n",
       "    <tr>\n",
       "      <th>306</th>\n",
       "      <td>2020-11-25</td>\n",
       "      <td>212.0</td>\n",
       "    </tr>\n",
       "    <tr>\n",
       "      <th>307</th>\n",
       "      <td>2020-11-26</td>\n",
       "      <td>204.0</td>\n",
       "    </tr>\n",
       "    <tr>\n",
       "      <th>308</th>\n",
       "      <td>2020-11-27</td>\n",
       "      <td>178.0</td>\n",
       "    </tr>\n",
       "    <tr>\n",
       "      <th>309</th>\n",
       "      <td>2020-11-28</td>\n",
       "      <td>158.0</td>\n",
       "    </tr>\n",
       "  </tbody>\n",
       "</table>\n",
       "<p>310 rows × 2 columns</p>\n",
       "</div>"
      ],
      "text/plain": [
       "          확진일자    확진수\n",
       "0   2020-01-24    1.0\n",
       "1   2020-01-25    NaN\n",
       "2   2020-01-26    NaN\n",
       "3   2020-01-27    NaN\n",
       "4   2020-01-28    NaN\n",
       "..         ...    ...\n",
       "305 2020-11-24  142.0\n",
       "306 2020-11-25  212.0\n",
       "307 2020-11-26  204.0\n",
       "308 2020-11-27  178.0\n",
       "309 2020-11-28  158.0\n",
       "\n",
       "[310 rows x 2 columns]"
      ]
     },
     "execution_count": 64,
     "metadata": {},
     "output_type": "execute_result"
    }
   ],
   "source": [
    "# 확진자가 없는 날도 일자에 표현이 되도록 전체 일자와 확진 데이터를 merge 로 합쳐줍니다.\n",
    "# 1321\n",
    "# all_day\n",
    "all_day = df_days.merge(df_daily_case, left_on=df_days.index, right_on=\"확진일자\", how=\"left\")\n",
    "all_day = all_day.drop(0,axis=1)\n",
    "all_day"
   ]
  },
  {
   "cell_type": "markdown",
   "metadata": {},
   "source": [
    "## 누적 확진자 수 구하기"
   ]
  },
  {
   "cell_type": "code",
   "execution_count": 69,
   "metadata": {},
   "outputs": [
    {
     "data": {
      "text/html": [
       "<div>\n",
       "<style scoped>\n",
       "    .dataframe tbody tr th:only-of-type {\n",
       "        vertical-align: middle;\n",
       "    }\n",
       "\n",
       "    .dataframe tbody tr th {\n",
       "        vertical-align: top;\n",
       "    }\n",
       "\n",
       "    .dataframe thead th {\n",
       "        text-align: right;\n",
       "    }\n",
       "</style>\n",
       "<table border=\"1\" class=\"dataframe\">\n",
       "  <thead>\n",
       "    <tr style=\"text-align: right;\">\n",
       "      <th></th>\n",
       "      <th>확진일자</th>\n",
       "      <th>확진수</th>\n",
       "      <th>일자</th>\n",
       "      <th>누적확진</th>\n",
       "    </tr>\n",
       "  </thead>\n",
       "  <tbody>\n",
       "    <tr>\n",
       "      <th>0</th>\n",
       "      <td>2020-01-24</td>\n",
       "      <td>1.0</td>\n",
       "      <td>01-24</td>\n",
       "      <td>1.0</td>\n",
       "    </tr>\n",
       "    <tr>\n",
       "      <th>1</th>\n",
       "      <td>2020-01-25</td>\n",
       "      <td>0.0</td>\n",
       "      <td>01-25</td>\n",
       "      <td>0.0</td>\n",
       "    </tr>\n",
       "    <tr>\n",
       "      <th>2</th>\n",
       "      <td>2020-01-26</td>\n",
       "      <td>0.0</td>\n",
       "      <td>01-26</td>\n",
       "      <td>0.0</td>\n",
       "    </tr>\n",
       "    <tr>\n",
       "      <th>3</th>\n",
       "      <td>2020-01-27</td>\n",
       "      <td>0.0</td>\n",
       "      <td>01-27</td>\n",
       "      <td>0.0</td>\n",
       "    </tr>\n",
       "    <tr>\n",
       "      <th>4</th>\n",
       "      <td>2020-01-28</td>\n",
       "      <td>0.0</td>\n",
       "      <td>01-28</td>\n",
       "      <td>0.0</td>\n",
       "    </tr>\n",
       "    <tr>\n",
       "      <th>...</th>\n",
       "      <td>...</td>\n",
       "      <td>...</td>\n",
       "      <td>...</td>\n",
       "      <td>...</td>\n",
       "    </tr>\n",
       "    <tr>\n",
       "      <th>305</th>\n",
       "      <td>2020-11-24</td>\n",
       "      <td>142.0</td>\n",
       "      <td>11-24</td>\n",
       "      <td>7900.0</td>\n",
       "    </tr>\n",
       "    <tr>\n",
       "      <th>306</th>\n",
       "      <td>2020-11-25</td>\n",
       "      <td>212.0</td>\n",
       "      <td>11-25</td>\n",
       "      <td>8112.0</td>\n",
       "    </tr>\n",
       "    <tr>\n",
       "      <th>307</th>\n",
       "      <td>2020-11-26</td>\n",
       "      <td>204.0</td>\n",
       "      <td>11-26</td>\n",
       "      <td>8316.0</td>\n",
       "    </tr>\n",
       "    <tr>\n",
       "      <th>308</th>\n",
       "      <td>2020-11-27</td>\n",
       "      <td>178.0</td>\n",
       "      <td>11-27</td>\n",
       "      <td>8494.0</td>\n",
       "    </tr>\n",
       "    <tr>\n",
       "      <th>309</th>\n",
       "      <td>2020-11-28</td>\n",
       "      <td>158.0</td>\n",
       "      <td>11-28</td>\n",
       "      <td>8652.0</td>\n",
       "    </tr>\n",
       "  </tbody>\n",
       "</table>\n",
       "<p>310 rows × 4 columns</p>\n",
       "</div>"
      ],
      "text/plain": [
       "          확진일자    확진수     일자    누적확진\n",
       "0   2020-01-24    1.0  01-24     1.0\n",
       "1   2020-01-25    0.0  01-25     0.0\n",
       "2   2020-01-26    0.0  01-26     0.0\n",
       "3   2020-01-27    0.0  01-27     0.0\n",
       "4   2020-01-28    0.0  01-28     0.0\n",
       "..         ...    ...    ...     ...\n",
       "305 2020-11-24  142.0  11-24  7900.0\n",
       "306 2020-11-25  212.0  11-25  8112.0\n",
       "307 2020-11-26  204.0  11-26  8316.0\n",
       "308 2020-11-27  178.0  11-27  8494.0\n",
       "309 2020-11-28  158.0  11-28  8652.0\n",
       "\n",
       "[310 rows x 4 columns]"
      ]
     },
     "execution_count": 69,
     "metadata": {},
     "output_type": "execute_result"
    }
   ],
   "source": [
    "# 확진수를 fillna를 통해 결측치를 0으로 채워주고 누적해서 더해줍니다.\n",
    "all_day = all_day.fillna(0)\n",
    "all_day"
   ]
  },
  {
   "cell_type": "code",
   "execution_count": 70,
   "metadata": {
    "scrolled": true
   },
   "outputs": [],
   "source": [
    "# 연도를 제외하고 월-일로 \"일자\" 컬럼 만들기\n",
    "all_day[\"일자\"]=all_day[\"확진일자\"].astype(str).str[-5:]"
   ]
  },
  {
   "cell_type": "code",
   "execution_count": 71,
   "metadata": {},
   "outputs": [
    {
     "data": {
      "text/html": [
       "<div>\n",
       "<style scoped>\n",
       "    .dataframe tbody tr th:only-of-type {\n",
       "        vertical-align: middle;\n",
       "    }\n",
       "\n",
       "    .dataframe tbody tr th {\n",
       "        vertical-align: top;\n",
       "    }\n",
       "\n",
       "    .dataframe thead th {\n",
       "        text-align: right;\n",
       "    }\n",
       "</style>\n",
       "<table border=\"1\" class=\"dataframe\">\n",
       "  <thead>\n",
       "    <tr style=\"text-align: right;\">\n",
       "      <th></th>\n",
       "      <th>확진일자</th>\n",
       "      <th>확진수</th>\n",
       "      <th>일자</th>\n",
       "      <th>누적확진</th>\n",
       "    </tr>\n",
       "  </thead>\n",
       "  <tbody>\n",
       "    <tr>\n",
       "      <th>0</th>\n",
       "      <td>2020-01-24</td>\n",
       "      <td>1.0</td>\n",
       "      <td>01-24</td>\n",
       "      <td>1.0</td>\n",
       "    </tr>\n",
       "    <tr>\n",
       "      <th>1</th>\n",
       "      <td>2020-01-25</td>\n",
       "      <td>0.0</td>\n",
       "      <td>01-25</td>\n",
       "      <td>1.0</td>\n",
       "    </tr>\n",
       "    <tr>\n",
       "      <th>2</th>\n",
       "      <td>2020-01-26</td>\n",
       "      <td>0.0</td>\n",
       "      <td>01-26</td>\n",
       "      <td>1.0</td>\n",
       "    </tr>\n",
       "    <tr>\n",
       "      <th>3</th>\n",
       "      <td>2020-01-27</td>\n",
       "      <td>0.0</td>\n",
       "      <td>01-27</td>\n",
       "      <td>1.0</td>\n",
       "    </tr>\n",
       "    <tr>\n",
       "      <th>4</th>\n",
       "      <td>2020-01-28</td>\n",
       "      <td>0.0</td>\n",
       "      <td>01-28</td>\n",
       "      <td>1.0</td>\n",
       "    </tr>\n",
       "    <tr>\n",
       "      <th>5</th>\n",
       "      <td>2020-01-29</td>\n",
       "      <td>0.0</td>\n",
       "      <td>01-29</td>\n",
       "      <td>1.0</td>\n",
       "    </tr>\n",
       "    <tr>\n",
       "      <th>6</th>\n",
       "      <td>2020-01-30</td>\n",
       "      <td>3.0</td>\n",
       "      <td>01-30</td>\n",
       "      <td>4.0</td>\n",
       "    </tr>\n",
       "    <tr>\n",
       "      <th>7</th>\n",
       "      <td>2020-01-31</td>\n",
       "      <td>3.0</td>\n",
       "      <td>01-31</td>\n",
       "      <td>7.0</td>\n",
       "    </tr>\n",
       "    <tr>\n",
       "      <th>8</th>\n",
       "      <td>2020-02-01</td>\n",
       "      <td>0.0</td>\n",
       "      <td>02-01</td>\n",
       "      <td>7.0</td>\n",
       "    </tr>\n",
       "    <tr>\n",
       "      <th>9</th>\n",
       "      <td>2020-02-02</td>\n",
       "      <td>1.0</td>\n",
       "      <td>02-02</td>\n",
       "      <td>8.0</td>\n",
       "    </tr>\n",
       "    <tr>\n",
       "      <th>10</th>\n",
       "      <td>2020-02-03</td>\n",
       "      <td>0.0</td>\n",
       "      <td>02-03</td>\n",
       "      <td>8.0</td>\n",
       "    </tr>\n",
       "    <tr>\n",
       "      <th>11</th>\n",
       "      <td>2020-02-04</td>\n",
       "      <td>0.0</td>\n",
       "      <td>02-04</td>\n",
       "      <td>8.0</td>\n",
       "    </tr>\n",
       "    <tr>\n",
       "      <th>12</th>\n",
       "      <td>2020-02-05</td>\n",
       "      <td>2.0</td>\n",
       "      <td>02-05</td>\n",
       "      <td>10.0</td>\n",
       "    </tr>\n",
       "    <tr>\n",
       "      <th>13</th>\n",
       "      <td>2020-02-06</td>\n",
       "      <td>1.0</td>\n",
       "      <td>02-06</td>\n",
       "      <td>11.0</td>\n",
       "    </tr>\n",
       "    <tr>\n",
       "      <th>14</th>\n",
       "      <td>2020-02-07</td>\n",
       "      <td>1.0</td>\n",
       "      <td>02-07</td>\n",
       "      <td>12.0</td>\n",
       "    </tr>\n",
       "    <tr>\n",
       "      <th>15</th>\n",
       "      <td>2020-02-08</td>\n",
       "      <td>0.0</td>\n",
       "      <td>02-08</td>\n",
       "      <td>12.0</td>\n",
       "    </tr>\n",
       "    <tr>\n",
       "      <th>16</th>\n",
       "      <td>2020-02-09</td>\n",
       "      <td>0.0</td>\n",
       "      <td>02-09</td>\n",
       "      <td>12.0</td>\n",
       "    </tr>\n",
       "    <tr>\n",
       "      <th>17</th>\n",
       "      <td>2020-02-10</td>\n",
       "      <td>0.0</td>\n",
       "      <td>02-10</td>\n",
       "      <td>12.0</td>\n",
       "    </tr>\n",
       "    <tr>\n",
       "      <th>18</th>\n",
       "      <td>2020-02-11</td>\n",
       "      <td>0.0</td>\n",
       "      <td>02-11</td>\n",
       "      <td>12.0</td>\n",
       "    </tr>\n",
       "    <tr>\n",
       "      <th>19</th>\n",
       "      <td>2020-02-12</td>\n",
       "      <td>0.0</td>\n",
       "      <td>02-12</td>\n",
       "      <td>12.0</td>\n",
       "    </tr>\n",
       "  </tbody>\n",
       "</table>\n",
       "</div>"
      ],
      "text/plain": [
       "         확진일자  확진수     일자  누적확진\n",
       "0  2020-01-24  1.0  01-24   1.0\n",
       "1  2020-01-25  0.0  01-25   1.0\n",
       "2  2020-01-26  0.0  01-26   1.0\n",
       "3  2020-01-27  0.0  01-27   1.0\n",
       "4  2020-01-28  0.0  01-28   1.0\n",
       "5  2020-01-29  0.0  01-29   1.0\n",
       "6  2020-01-30  3.0  01-30   4.0\n",
       "7  2020-01-31  3.0  01-31   7.0\n",
       "8  2020-02-01  0.0  02-01   7.0\n",
       "9  2020-02-02  1.0  02-02   8.0\n",
       "10 2020-02-03  0.0  02-03   8.0\n",
       "11 2020-02-04  0.0  02-04   8.0\n",
       "12 2020-02-05  2.0  02-05  10.0\n",
       "13 2020-02-06  1.0  02-06  11.0\n",
       "14 2020-02-07  1.0  02-07  12.0\n",
       "15 2020-02-08  0.0  02-08  12.0\n",
       "16 2020-02-09  0.0  02-09  12.0\n",
       "17 2020-02-10  0.0  02-10  12.0\n",
       "18 2020-02-11  0.0  02-11  12.0\n",
       "19 2020-02-12  0.0  02-12  12.0"
      ]
     },
     "execution_count": 71,
     "metadata": {},
     "output_type": "execute_result"
    }
   ],
   "source": [
    "# \"확진수\", \"누적확진\" 컬럼을 갖는 데이터프레임을 만듭니다.\n",
    "# cum_day\n",
    "all_day[\"누적확진\"]=all_day[\"확진수\"].cumsum()\n",
    "all_day.head(20)"
   ]
  },
  {
   "cell_type": "markdown",
   "metadata": {},
   "source": [
    "### 데이터프레임으로 그리기"
   ]
  },
  {
   "cell_type": "code",
   "execution_count": 72,
   "metadata": {},
   "outputs": [
    {
     "data": {
      "text/plain": [
       "<AxesSubplot:title={'center':'확진수와 누적확진 수'}, xlabel='확진일자'>"
      ]
     },
     "execution_count": 72,
     "metadata": {},
     "output_type": "execute_result"
    },
    {
     "data": {
      "image/png": "[encoded data removed]",
      "text/plain": [
       "<Figure size 720x216 with 1 Axes>"
      ]
     },
     "metadata": {
      "image/png": {
       "height": 237,
       "width": 601
      },
      "needs_background": "light"
     },
     "output_type": "display_data"
    }
   ],
   "source": [
    "# 데이터프레임으로 확진수와 누적확진을 선그래프로 그립니다.\n",
    "all_day.set_index(\"확진일자\")[[\"확진수\",\"누적확진\"]].plot(figsize=(10,3), title = \"확진수와 누적확진 수\")\n",
    "#두 변수의 scale 차이가 많이 나기 때문에 적절한 시각화 방법은 아니다. log변환도 대안. "
   ]
  },
  {
   "cell_type": "code",
   "execution_count": 76,
   "metadata": {},
   "outputs": [
    {
     "data": {
      "text/plain": [
       "<AxesSubplot:title={'center':'확진수와 누적확진 수'}, xlabel='확진일자'>"
      ]
     },
     "execution_count": 76,
     "metadata": {},
     "output_type": "execute_result"
    },
    {
     "data": {
      "image/png": "[encoded data removed]",
      "text/plain": [
       "<Figure size 720x216 with 2 Axes>"
      ]
     },
     "metadata": {
      "image/png": {
       "height": 237,
       "width": 624
      },
      "needs_background": "light"
     },
     "output_type": "display_data"
    }
   ],
   "source": [
    "# 2번째 y값의 축변환으로 시각화 내에서 scale을 맞춰주는 방법\n",
    "all_day.set_index(\"확진일자\")[[\"확진수\",\"누적확진\"]].plot(figsize=(10,3), \n",
    "                                                     title = \"확진수와 누적확진 수\",\n",
    "                                                     secondary_y = \"누적확진\")"
   ]
  },
  {
   "cell_type": "markdown",
   "metadata": {},
   "source": [
    "### 시리즈로 그리기"
   ]
  },
  {
   "cell_type": "code",
   "execution_count": 75,
   "metadata": {},
   "outputs": [
    {
     "data": {
      "text/plain": [
       "<AxesSubplot:xlabel='확진일자'>"
      ]
     },
     "execution_count": 75,
     "metadata": {},
     "output_type": "execute_result"
    },
    {
     "data": {
      "image/png": "[encoded data removed]",
      "text/plain": [
       "<Figure size 720x216 with 1 Axes>"
      ]
     },
     "metadata": {
      "image/png": {
       "height": 221,
       "width": 601
      },
      "needs_background": "light"
     },
     "output_type": "display_data"
    }
   ],
   "source": [
    "# 시리즈로 2개의 그래프 그리기\n",
    "all_day.set_index(\"확진일자\")[\"확진수\"].plot(figsize=(10,3))\n",
    "all_day.set_index(\"확진일자\")[\"누적확진\"].plot()"
   ]
  },
  {
   "cell_type": "markdown",
   "metadata": {},
   "source": [
    "### 확진수만 따로 그리기"
   ]
  },
  {
   "cell_type": "code",
   "execution_count": 80,
   "metadata": {},
   "outputs": [
    {
     "data": {
      "text/plain": [
       "<AxesSubplot:>"
      ]
     },
     "execution_count": 80,
     "metadata": {},
     "output_type": "execute_result"
    },
    {
     "data": {
      "image/png": "[encoded data removed]",
      "text/plain": [
       "<Figure size 432x288 with 1 Axes>"
      ]
     },
     "metadata": {
      "image/png": {
       "height": 249,
       "width": 372
      },
      "needs_background": "light"
     },
     "output_type": "display_data"
    }
   ],
   "source": [
    "# 누적확진수와 확진수와 차이가 크면 제대로 보이지 않기 때문에 확진수만 그립니다.\n",
    "all_day[\"확진수\"].plot() #어떤 값을 기준으로 시각화 해줄 것인지 index set을 해줘야 x축에 표기된다 "
   ]
  },
  {
   "cell_type": "code",
   "execution_count": 77,
   "metadata": {
    "scrolled": true
   },
   "outputs": [
    {
     "data": {
      "text/plain": [
       "<AxesSubplot:xlabel='확진일자'>"
      ]
     },
     "execution_count": 77,
     "metadata": {},
     "output_type": "execute_result"
    },
    {
     "data": {
      "image/png": "[encoded data removed]",
      "text/plain": [
       "<Figure size 720x216 with 1 Axes>"
      ]
     },
     "metadata": {
      "image/png": {
       "height": 221,
       "width": 595
      },
      "needs_background": "light"
     },
     "output_type": "display_data"
    }
   ],
   "source": [
    "#set_index\n",
    "all_day.set_index(\"확진일자\")[\"확진수\"].plot(figsize=(10,3))"
   ]
  },
  {
   "cell_type": "markdown",
   "metadata": {},
   "source": [
    "### 누적확진만 따로 그리기"
   ]
  },
  {
   "cell_type": "code",
   "execution_count": 78,
   "metadata": {},
   "outputs": [
    {
     "data": {
      "text/plain": [
       "<AxesSubplot:xlabel='확진일자'>"
      ]
     },
     "execution_count": 78,
     "metadata": {},
     "output_type": "execute_result"
    },
    {
     "data": {
      "image/png": "[encoded data removed]",
      "text/plain": [
       "<Figure size 720x216 with 1 Axes>"
      ]
     },
     "metadata": {
      "image/png": {
       "height": 221,
       "width": 601
      },
      "needs_background": "light"
     },
     "output_type": "display_data"
    }
   ],
   "source": [
    "# 누적확진만 따로 그립니다.\n",
    "all_day.set_index(\"확진일자\")[\"누적확진\"].plot(figsize=(10,3))"
   ]
  },
  {
   "cell_type": "markdown",
   "metadata": {},
   "source": [
    "### 로그스케일\n",
    "* 차이가 너무 커서 그래프가 자세히 보이지 않을때 로그스케일로 표현하면 차이가 큰 값의 스케일을 조정해주게 됩니다."
   ]
  },
  {
   "cell_type": "code",
   "execution_count": 81,
   "metadata": {},
   "outputs": [
    {
     "data": {
      "text/html": [
       "<div>\n",
       "<style scoped>\n",
       "    .dataframe tbody tr th:only-of-type {\n",
       "        vertical-align: middle;\n",
       "    }\n",
       "\n",
       "    .dataframe tbody tr th {\n",
       "        vertical-align: top;\n",
       "    }\n",
       "\n",
       "    .dataframe thead th {\n",
       "        text-align: right;\n",
       "    }\n",
       "</style>\n",
       "<table border=\"1\" class=\"dataframe\">\n",
       "  <thead>\n",
       "    <tr style=\"text-align: right;\">\n",
       "      <th></th>\n",
       "      <th>확진수</th>\n",
       "      <th>일자</th>\n",
       "      <th>누적확진</th>\n",
       "    </tr>\n",
       "    <tr>\n",
       "      <th>확진일자</th>\n",
       "      <th></th>\n",
       "      <th></th>\n",
       "      <th></th>\n",
       "    </tr>\n",
       "  </thead>\n",
       "  <tbody>\n",
       "    <tr>\n",
       "      <th>2020-01-24</th>\n",
       "      <td>1.0</td>\n",
       "      <td>01-24</td>\n",
       "      <td>1.0</td>\n",
       "    </tr>\n",
       "    <tr>\n",
       "      <th>2020-01-25</th>\n",
       "      <td>0.0</td>\n",
       "      <td>01-25</td>\n",
       "      <td>1.0</td>\n",
       "    </tr>\n",
       "    <tr>\n",
       "      <th>2020-01-26</th>\n",
       "      <td>0.0</td>\n",
       "      <td>01-26</td>\n",
       "      <td>1.0</td>\n",
       "    </tr>\n",
       "    <tr>\n",
       "      <th>2020-01-27</th>\n",
       "      <td>0.0</td>\n",
       "      <td>01-27</td>\n",
       "      <td>1.0</td>\n",
       "    </tr>\n",
       "    <tr>\n",
       "      <th>2020-01-28</th>\n",
       "      <td>0.0</td>\n",
       "      <td>01-28</td>\n",
       "      <td>1.0</td>\n",
       "    </tr>\n",
       "    <tr>\n",
       "      <th>...</th>\n",
       "      <td>...</td>\n",
       "      <td>...</td>\n",
       "      <td>...</td>\n",
       "    </tr>\n",
       "    <tr>\n",
       "      <th>2020-11-24</th>\n",
       "      <td>142.0</td>\n",
       "      <td>11-24</td>\n",
       "      <td>7900.0</td>\n",
       "    </tr>\n",
       "    <tr>\n",
       "      <th>2020-11-25</th>\n",
       "      <td>212.0</td>\n",
       "      <td>11-25</td>\n",
       "      <td>8112.0</td>\n",
       "    </tr>\n",
       "    <tr>\n",
       "      <th>2020-11-26</th>\n",
       "      <td>204.0</td>\n",
       "      <td>11-26</td>\n",
       "      <td>8316.0</td>\n",
       "    </tr>\n",
       "    <tr>\n",
       "      <th>2020-11-27</th>\n",
       "      <td>178.0</td>\n",
       "      <td>11-27</td>\n",
       "      <td>8494.0</td>\n",
       "    </tr>\n",
       "    <tr>\n",
       "      <th>2020-11-28</th>\n",
       "      <td>158.0</td>\n",
       "      <td>11-28</td>\n",
       "      <td>8652.0</td>\n",
       "    </tr>\n",
       "  </tbody>\n",
       "</table>\n",
       "<p>310 rows × 3 columns</p>\n",
       "</div>"
      ],
      "text/plain": [
       "              확진수     일자    누적확진\n",
       "확진일자                            \n",
       "2020-01-24    1.0  01-24     1.0\n",
       "2020-01-25    0.0  01-25     1.0\n",
       "2020-01-26    0.0  01-26     1.0\n",
       "2020-01-27    0.0  01-27     1.0\n",
       "2020-01-28    0.0  01-28     1.0\n",
       "...           ...    ...     ...\n",
       "2020-11-24  142.0  11-24  7900.0\n",
       "2020-11-25  212.0  11-25  8112.0\n",
       "2020-11-26  204.0  11-26  8316.0\n",
       "2020-11-27  178.0  11-27  8494.0\n",
       "2020-11-28  158.0  11-28  8652.0\n",
       "\n",
       "[310 rows x 3 columns]"
      ]
     },
     "execution_count": 81,
     "metadata": {},
     "output_type": "execute_result"
    }
   ],
   "source": [
    "all_day = all_day.set_index(\"확진일자\")\n",
    "all_day"
   ]
  },
  {
   "cell_type": "code",
   "execution_count": 85,
   "metadata": {},
   "outputs": [
    {
     "data": {
      "text/plain": [
       "array([[<AxesSubplot:title={'center':'확진수'}>,\n",
       "        <AxesSubplot:title={'center':'누적확진'}>]], dtype=object)"
      ]
     },
     "execution_count": 85,
     "metadata": {},
     "output_type": "execute_result"
    },
    {
     "data": {
      "image/png": "[encoded data removed]",
      "text/plain": [
       "<Figure size 432x288 with 2 Axes>"
      ]
     },
     "metadata": {
      "image/png": {
       "height": 264,
       "width": 372
      },
      "needs_background": "light"
     },
     "output_type": "display_data"
    }
   ],
   "source": [
    "all_day.hist()"
   ]
  },
  {
   "cell_type": "code",
   "execution_count": 86,
   "metadata": {},
   "outputs": [
    {
     "data": {
      "text/plain": [
       "<AxesSubplot:>"
      ]
     },
     "execution_count": 86,
     "metadata": {},
     "output_type": "execute_result"
    },
    {
     "data": {
      "image/png": "[encoded data removed]",
      "text/plain": [
       "<Figure size 432x288 with 1 Axes>"
      ]
     },
     "metadata": {
      "image/png": {
       "height": 249,
       "width": 367
      },
      "needs_background": "light"
     },
     "output_type": "display_data"
    }
   ],
   "source": [
    "#log변환을 통해 데이터의 분포를 고르게 만들어준다\n",
    "np.log1p(all_day[\"확진수\"]).hist()"
   ]
  },
  {
   "cell_type": "code",
   "execution_count": 84,
   "metadata": {},
   "outputs": [
    {
     "data": {
      "text/plain": [
       "<AxesSubplot:xlabel='확진일자'>"
      ]
     },
     "execution_count": 84,
     "metadata": {},
     "output_type": "execute_result"
    },
    {
     "data": {
      "image/png": "[encoded data removed]",
      "text/plain": [
       "<Figure size 720x216 with 1 Axes>"
      ]
     },
     "metadata": {
      "image/png": {
       "height": 221,
       "width": 584
      },
      "needs_background": "light"
     },
     "output_type": "display_data"
    }
   ],
   "source": [
    "#np.log(all_day[\"확진수\"]+1)\n",
    "np.log1p(all_day[\"확진수\"]).plot()\n",
    "np.log1p(all_day[\"누적확진\"]).plot(figsize=(10,3))"
   ]
  },
  {
   "cell_type": "markdown",
   "metadata": {},
   "source": [
    "## 확진월과 요일 구하기"
   ]
  },
  {
   "cell_type": "code",
   "execution_count": 90,
   "metadata": {},
   "outputs": [],
   "source": [
    "# cum_day\n",
    "# all_day\n",
    "df_all_day = all_day.reset_index()\n",
    "df_all_day[\"월\"] =df_all_day[\"확진일자\"].dt.month\n",
    "df_all_day[\"요일\"] = df_all_day[\"확진일자\"].dt.dayofweek"
   ]
  },
  {
   "cell_type": "code",
   "execution_count": 91,
   "metadata": {},
   "outputs": [
    {
     "data": {
      "text/plain": [
       "월\n",
       "1        7.0\n",
       "2       80.0\n",
       "3      391.0\n",
       "4      156.0\n",
       "5      228.0\n",
       "6      460.0\n",
       "7      281.0\n",
       "8     2417.0\n",
       "9     1304.0\n",
       "10     733.0\n",
       "11    2595.0\n",
       "Name: 확진수, dtype: float64"
      ]
     },
     "execution_count": 91,
     "metadata": {},
     "output_type": "execute_result"
    }
   ],
   "source": [
    "df_all_day.groupby(\"월\")[\"확진수\"].sum()"
   ]
  },
  {
   "cell_type": "markdown",
   "metadata": {},
   "source": [
    "### 요일별 확진 수 "
   ]
  },
  {
   "cell_type": "code",
   "execution_count": 92,
   "metadata": {},
   "outputs": [
    {
     "data": {
      "text/plain": [
       "요일\n",
       "0    1124.0\n",
       "1    1217.0\n",
       "2    1301.0\n",
       "3    1368.0\n",
       "4    1327.0\n",
       "5    1390.0\n",
       "6     925.0\n",
       "Name: 확진수, dtype: float64"
      ]
     },
     "execution_count": 92,
     "metadata": {},
     "output_type": "execute_result"
    }
   ],
   "source": [
    "# 요일별 확진수를 groupby로 구하기\n",
    "# all_day_week\n",
    "df_all_day.groupby(\"요일\")[\"확진수\"].sum()   #0:월 ~6:일"
   ]
  },
  {
   "cell_type": "code",
   "execution_count": 98,
   "metadata": {},
   "outputs": [
    {
     "data": {
      "text/html": [
       "<div>\n",
       "<style scoped>\n",
       "    .dataframe tbody tr th:only-of-type {\n",
       "        vertical-align: middle;\n",
       "    }\n",
       "\n",
       "    .dataframe tbody tr th {\n",
       "        vertical-align: top;\n",
       "    }\n",
       "\n",
       "    .dataframe thead th {\n",
       "        text-align: right;\n",
       "    }\n",
       "</style>\n",
       "<table border=\"1\" class=\"dataframe\">\n",
       "  <thead>\n",
       "    <tr style=\"text-align: right;\">\n",
       "      <th>요일</th>\n",
       "      <th>0</th>\n",
       "      <th>1</th>\n",
       "      <th>2</th>\n",
       "      <th>3</th>\n",
       "      <th>4</th>\n",
       "      <th>5</th>\n",
       "      <th>6</th>\n",
       "    </tr>\n",
       "    <tr>\n",
       "      <th>월</th>\n",
       "      <th></th>\n",
       "      <th></th>\n",
       "      <th></th>\n",
       "      <th></th>\n",
       "      <th></th>\n",
       "      <th></th>\n",
       "      <th></th>\n",
       "    </tr>\n",
       "  </thead>\n",
       "  <tbody>\n",
       "    <tr>\n",
       "      <th>1</th>\n",
       "      <td>0.0</td>\n",
       "      <td>0.0</td>\n",
       "      <td>0.0</td>\n",
       "      <td>3.0</td>\n",
       "      <td>4.0</td>\n",
       "      <td>0.0</td>\n",
       "      <td>0.0</td>\n",
       "    </tr>\n",
       "    <tr>\n",
       "      <th>2</th>\n",
       "      <td>4.0</td>\n",
       "      <td>16.0</td>\n",
       "      <td>14.0</td>\n",
       "      <td>19.0</td>\n",
       "      <td>11.0</td>\n",
       "      <td>9.0</td>\n",
       "      <td>7.0</td>\n",
       "    </tr>\n",
       "    <tr>\n",
       "      <th>3</th>\n",
       "      <td>69.0</td>\n",
       "      <td>89.0</td>\n",
       "      <td>46.0</td>\n",
       "      <td>44.0</td>\n",
       "      <td>48.0</td>\n",
       "      <td>45.0</td>\n",
       "      <td>50.0</td>\n",
       "    </tr>\n",
       "    <tr>\n",
       "      <th>4</th>\n",
       "      <td>16.0</td>\n",
       "      <td>17.0</td>\n",
       "      <td>28.0</td>\n",
       "      <td>27.0</td>\n",
       "      <td>26.0</td>\n",
       "      <td>22.0</td>\n",
       "      <td>20.0</td>\n",
       "    </tr>\n",
       "    <tr>\n",
       "      <th>5</th>\n",
       "      <td>27.0</td>\n",
       "      <td>36.0</td>\n",
       "      <td>34.0</td>\n",
       "      <td>34.0</td>\n",
       "      <td>32.0</td>\n",
       "      <td>36.0</td>\n",
       "      <td>29.0</td>\n",
       "    </tr>\n",
       "    <tr>\n",
       "      <th>6</th>\n",
       "      <td>55.0</td>\n",
       "      <td>67.0</td>\n",
       "      <td>66.0</td>\n",
       "      <td>75.0</td>\n",
       "      <td>90.0</td>\n",
       "      <td>70.0</td>\n",
       "      <td>37.0</td>\n",
       "    </tr>\n",
       "    <tr>\n",
       "      <th>7</th>\n",
       "      <td>37.0</td>\n",
       "      <td>42.0</td>\n",
       "      <td>42.0</td>\n",
       "      <td>58.0</td>\n",
       "      <td>34.0</td>\n",
       "      <td>40.0</td>\n",
       "      <td>28.0</td>\n",
       "    </tr>\n",
       "    <tr>\n",
       "      <th>8</th>\n",
       "      <td>387.0</td>\n",
       "      <td>289.0</td>\n",
       "      <td>327.0</td>\n",
       "      <td>328.0</td>\n",
       "      <td>336.0</td>\n",
       "      <td>473.0</td>\n",
       "      <td>277.0</td>\n",
       "    </tr>\n",
       "    <tr>\n",
       "      <th>9</th>\n",
       "      <td>177.0</td>\n",
       "      <td>242.0</td>\n",
       "      <td>228.0</td>\n",
       "      <td>207.0</td>\n",
       "      <td>169.0</td>\n",
       "      <td>155.0</td>\n",
       "      <td>126.0</td>\n",
       "    </tr>\n",
       "    <tr>\n",
       "      <th>10</th>\n",
       "      <td>72.0</td>\n",
       "      <td>97.0</td>\n",
       "      <td>94.0</td>\n",
       "      <td>123.0</td>\n",
       "      <td>137.0</td>\n",
       "      <td>122.0</td>\n",
       "      <td>88.0</td>\n",
       "    </tr>\n",
       "    <tr>\n",
       "      <th>11</th>\n",
       "      <td>280.0</td>\n",
       "      <td>322.0</td>\n",
       "      <td>422.0</td>\n",
       "      <td>450.0</td>\n",
       "      <td>440.0</td>\n",
       "      <td>418.0</td>\n",
       "      <td>263.0</td>\n",
       "    </tr>\n",
       "  </tbody>\n",
       "</table>\n",
       "</div>"
      ],
      "text/plain": [
       "요일      0      1      2      3      4      5      6\n",
       "월                                                  \n",
       "1     0.0    0.0    0.0    3.0    4.0    0.0    0.0\n",
       "2     4.0   16.0   14.0   19.0   11.0    9.0    7.0\n",
       "3    69.0   89.0   46.0   44.0   48.0   45.0   50.0\n",
       "4    16.0   17.0   28.0   27.0   26.0   22.0   20.0\n",
       "5    27.0   36.0   34.0   34.0   32.0   36.0   29.0\n",
       "6    55.0   67.0   66.0   75.0   90.0   70.0   37.0\n",
       "7    37.0   42.0   42.0   58.0   34.0   40.0   28.0\n",
       "8   387.0  289.0  327.0  328.0  336.0  473.0  277.0\n",
       "9   177.0  242.0  228.0  207.0  169.0  155.0  126.0\n",
       "10   72.0   97.0   94.0  123.0  137.0  122.0   88.0\n",
       "11  280.0  322.0  422.0  450.0  440.0  418.0  263.0"
      ]
     },
     "execution_count": 98,
     "metadata": {},
     "output_type": "execute_result"
    }
   ],
   "source": [
    "# 월별, 요일별 확진수를 groupby로 구하기\n",
    "# all_day_week\n",
    "all_day_week = df_all_day.groupby([\"월\",\"요일\"])[\"확진수\"].sum().unstack()   \n",
    "                    #unstack: 마지막 인덱스 값을 컬럼으로 펼쳐줌\n",
    "                    #속도면에서는 피벗테이블보다 그룹바이가 더 좋다. \n",
    "all_day_week"
   ]
  },
  {
   "cell_type": "code",
   "execution_count": 96,
   "metadata": {},
   "outputs": [
    {
     "data": {
      "text/plain": [
       "['월', '화', '수', '목', '금', '토', '일']"
      ]
     },
     "execution_count": 96,
     "metadata": {},
     "output_type": "execute_result"
    }
   ],
   "source": [
    "# 숫자로 표현된 요일을 문자로 바꿔주기 위해 split 을 통해 문자를 리스트로 변경합니다.\n",
    "dayofweek = \"월 화 수 목 금 토 일\"\n",
    "dayofweek = dayofweek.split()\n",
    "dayofweek"
   ]
  },
  {
   "cell_type": "code",
   "execution_count": 102,
   "metadata": {},
   "outputs": [
    {
     "data": {
      "text/html": [
       "<div>\n",
       "<style scoped>\n",
       "    .dataframe tbody tr th:only-of-type {\n",
       "        vertical-align: middle;\n",
       "    }\n",
       "\n",
       "    .dataframe tbody tr th {\n",
       "        vertical-align: top;\n",
       "    }\n",
       "\n",
       "    .dataframe thead th {\n",
       "        text-align: right;\n",
       "    }\n",
       "</style>\n",
       "<table border=\"1\" class=\"dataframe\">\n",
       "  <thead>\n",
       "    <tr style=\"text-align: right;\">\n",
       "      <th></th>\n",
       "      <th>월</th>\n",
       "      <th>화</th>\n",
       "      <th>수</th>\n",
       "      <th>목</th>\n",
       "      <th>금</th>\n",
       "      <th>토</th>\n",
       "      <th>일</th>\n",
       "    </tr>\n",
       "    <tr>\n",
       "      <th>월</th>\n",
       "      <th></th>\n",
       "      <th></th>\n",
       "      <th></th>\n",
       "      <th></th>\n",
       "      <th></th>\n",
       "      <th></th>\n",
       "      <th></th>\n",
       "    </tr>\n",
       "  </thead>\n",
       "  <tbody>\n",
       "    <tr>\n",
       "      <th>1</th>\n",
       "      <td>0.0</td>\n",
       "      <td>0.0</td>\n",
       "      <td>0.0</td>\n",
       "      <td>3.0</td>\n",
       "      <td>4.0</td>\n",
       "      <td>0.0</td>\n",
       "      <td>0.0</td>\n",
       "    </tr>\n",
       "    <tr>\n",
       "      <th>2</th>\n",
       "      <td>4.0</td>\n",
       "      <td>16.0</td>\n",
       "      <td>14.0</td>\n",
       "      <td>19.0</td>\n",
       "      <td>11.0</td>\n",
       "      <td>9.0</td>\n",
       "      <td>7.0</td>\n",
       "    </tr>\n",
       "    <tr>\n",
       "      <th>3</th>\n",
       "      <td>69.0</td>\n",
       "      <td>89.0</td>\n",
       "      <td>46.0</td>\n",
       "      <td>44.0</td>\n",
       "      <td>48.0</td>\n",
       "      <td>45.0</td>\n",
       "      <td>50.0</td>\n",
       "    </tr>\n",
       "    <tr>\n",
       "      <th>4</th>\n",
       "      <td>16.0</td>\n",
       "      <td>17.0</td>\n",
       "      <td>28.0</td>\n",
       "      <td>27.0</td>\n",
       "      <td>26.0</td>\n",
       "      <td>22.0</td>\n",
       "      <td>20.0</td>\n",
       "    </tr>\n",
       "    <tr>\n",
       "      <th>5</th>\n",
       "      <td>27.0</td>\n",
       "      <td>36.0</td>\n",
       "      <td>34.0</td>\n",
       "      <td>34.0</td>\n",
       "      <td>32.0</td>\n",
       "      <td>36.0</td>\n",
       "      <td>29.0</td>\n",
       "    </tr>\n",
       "    <tr>\n",
       "      <th>6</th>\n",
       "      <td>55.0</td>\n",
       "      <td>67.0</td>\n",
       "      <td>66.0</td>\n",
       "      <td>75.0</td>\n",
       "      <td>90.0</td>\n",
       "      <td>70.0</td>\n",
       "      <td>37.0</td>\n",
       "    </tr>\n",
       "    <tr>\n",
       "      <th>7</th>\n",
       "      <td>37.0</td>\n",
       "      <td>42.0</td>\n",
       "      <td>42.0</td>\n",
       "      <td>58.0</td>\n",
       "      <td>34.0</td>\n",
       "      <td>40.0</td>\n",
       "      <td>28.0</td>\n",
       "    </tr>\n",
       "    <tr>\n",
       "      <th>8</th>\n",
       "      <td>387.0</td>\n",
       "      <td>289.0</td>\n",
       "      <td>327.0</td>\n",
       "      <td>328.0</td>\n",
       "      <td>336.0</td>\n",
       "      <td>473.0</td>\n",
       "      <td>277.0</td>\n",
       "    </tr>\n",
       "    <tr>\n",
       "      <th>9</th>\n",
       "      <td>177.0</td>\n",
       "      <td>242.0</td>\n",
       "      <td>228.0</td>\n",
       "      <td>207.0</td>\n",
       "      <td>169.0</td>\n",
       "      <td>155.0</td>\n",
       "      <td>126.0</td>\n",
       "    </tr>\n",
       "    <tr>\n",
       "      <th>10</th>\n",
       "      <td>72.0</td>\n",
       "      <td>97.0</td>\n",
       "      <td>94.0</td>\n",
       "      <td>123.0</td>\n",
       "      <td>137.0</td>\n",
       "      <td>122.0</td>\n",
       "      <td>88.0</td>\n",
       "    </tr>\n",
       "    <tr>\n",
       "      <th>11</th>\n",
       "      <td>280.0</td>\n",
       "      <td>322.0</td>\n",
       "      <td>422.0</td>\n",
       "      <td>450.0</td>\n",
       "      <td>440.0</td>\n",
       "      <td>418.0</td>\n",
       "      <td>263.0</td>\n",
       "    </tr>\n",
       "  </tbody>\n",
       "</table>\n",
       "</div>"
      ],
      "text/plain": [
       "        월      화      수      목      금      토      일\n",
       "월                                                  \n",
       "1     0.0    0.0    0.0    3.0    4.0    0.0    0.0\n",
       "2     4.0   16.0   14.0   19.0   11.0    9.0    7.0\n",
       "3    69.0   89.0   46.0   44.0   48.0   45.0   50.0\n",
       "4    16.0   17.0   28.0   27.0   26.0   22.0   20.0\n",
       "5    27.0   36.0   34.0   34.0   32.0   36.0   29.0\n",
       "6    55.0   67.0   66.0   75.0   90.0   70.0   37.0\n",
       "7    37.0   42.0   42.0   58.0   34.0   40.0   28.0\n",
       "8   387.0  289.0  327.0  328.0  336.0  473.0  277.0\n",
       "9   177.0  242.0  228.0  207.0  169.0  155.0  126.0\n",
       "10   72.0   97.0   94.0  123.0  137.0  122.0   88.0\n",
       "11  280.0  322.0  422.0  450.0  440.0  418.0  263.0"
      ]
     },
     "execution_count": 102,
     "metadata": {},
     "output_type": "execute_result"
    }
   ],
   "source": [
    "# 컬럼의 이름을 한글요일명으로 변경해 줍니다.\n",
    "all_day_week.columns = dayofweek\n",
    "all_day_week"
   ]
  },
  {
   "cell_type": "code",
   "execution_count": 103,
   "metadata": {},
   "outputs": [
    {
     "data": {
      "text/html": [
       "<style  type=\"text/css\" >\n",
       "#T_20e217ac_66b9_11eb_bc26_3c58c2b1bc95row0_col0,#T_20e217ac_66b9_11eb_bc26_3c58c2b1bc95row0_col1,#T_20e217ac_66b9_11eb_bc26_3c58c2b1bc95row0_col2,#T_20e217ac_66b9_11eb_bc26_3c58c2b1bc95row0_col3,#T_20e217ac_66b9_11eb_bc26_3c58c2b1bc95row0_col4,#T_20e217ac_66b9_11eb_bc26_3c58c2b1bc95row0_col5,#T_20e217ac_66b9_11eb_bc26_3c58c2b1bc95row0_col6{\n",
       "            background-color:  #f7fbff;\n",
       "            color:  #000000;\n",
       "        }#T_20e217ac_66b9_11eb_bc26_3c58c2b1bc95row1_col0{\n",
       "            background-color:  #f5fafe;\n",
       "            color:  #000000;\n",
       "        }#T_20e217ac_66b9_11eb_bc26_3c58c2b1bc95row1_col1,#T_20e217ac_66b9_11eb_bc26_3c58c2b1bc95row3_col4,#T_20e217ac_66b9_11eb_bc26_3c58c2b1bc95row3_col5{\n",
       "            background-color:  #eef5fc;\n",
       "            color:  #000000;\n",
       "        }#T_20e217ac_66b9_11eb_bc26_3c58c2b1bc95row1_col2{\n",
       "            background-color:  #f1f7fd;\n",
       "            color:  #000000;\n",
       "        }#T_20e217ac_66b9_11eb_bc26_3c58c2b1bc95row1_col3{\n",
       "            background-color:  #f0f6fd;\n",
       "            color:  #000000;\n",
       "        }#T_20e217ac_66b9_11eb_bc26_3c58c2b1bc95row1_col4,#T_20e217ac_66b9_11eb_bc26_3c58c2b1bc95row1_col5{\n",
       "            background-color:  #f4f9fe;\n",
       "            color:  #000000;\n",
       "        }#T_20e217ac_66b9_11eb_bc26_3c58c2b1bc95row1_col6{\n",
       "            background-color:  #f2f8fd;\n",
       "            color:  #000000;\n",
       "        }#T_20e217ac_66b9_11eb_bc26_3c58c2b1bc95row2_col0{\n",
       "            background-color:  #d4e4f4;\n",
       "            color:  #000000;\n",
       "        }#T_20e217ac_66b9_11eb_bc26_3c58c2b1bc95row2_col1{\n",
       "            background-color:  #bed8ec;\n",
       "            color:  #000000;\n",
       "        }#T_20e217ac_66b9_11eb_bc26_3c58c2b1bc95row2_col2{\n",
       "            background-color:  #e2edf8;\n",
       "            color:  #000000;\n",
       "        }#T_20e217ac_66b9_11eb_bc26_3c58c2b1bc95row2_col3{\n",
       "            background-color:  #e5eff9;\n",
       "            color:  #000000;\n",
       "        }#T_20e217ac_66b9_11eb_bc26_3c58c2b1bc95row2_col4,#T_20e217ac_66b9_11eb_bc26_3c58c2b1bc95row6_col2,#T_20e217ac_66b9_11eb_bc26_3c58c2b1bc95row6_col6{\n",
       "            background-color:  #e3eef9;\n",
       "            color:  #000000;\n",
       "        }#T_20e217ac_66b9_11eb_bc26_3c58c2b1bc95row2_col5,#T_20e217ac_66b9_11eb_bc26_3c58c2b1bc95row6_col0{\n",
       "            background-color:  #e4eff9;\n",
       "            color:  #000000;\n",
       "        }#T_20e217ac_66b9_11eb_bc26_3c58c2b1bc95row2_col6{\n",
       "            background-color:  #d3e4f3;\n",
       "            color:  #000000;\n",
       "        }#T_20e217ac_66b9_11eb_bc26_3c58c2b1bc95row3_col0{\n",
       "            background-color:  #eff6fc;\n",
       "            color:  #000000;\n",
       "        }#T_20e217ac_66b9_11eb_bc26_3c58c2b1bc95row3_col1,#T_20e217ac_66b9_11eb_bc26_3c58c2b1bc95row3_col3{\n",
       "            background-color:  #edf4fc;\n",
       "            color:  #000000;\n",
       "        }#T_20e217ac_66b9_11eb_bc26_3c58c2b1bc95row3_col2,#T_20e217ac_66b9_11eb_bc26_3c58c2b1bc95row4_col4{\n",
       "            background-color:  #eaf3fb;\n",
       "            color:  #000000;\n",
       "        }#T_20e217ac_66b9_11eb_bc26_3c58c2b1bc95row3_col6{\n",
       "            background-color:  #e9f2fa;\n",
       "            color:  #000000;\n",
       "        }#T_20e217ac_66b9_11eb_bc26_3c58c2b1bc95row4_col0,#T_20e217ac_66b9_11eb_bc26_3c58c2b1bc95row4_col3,#T_20e217ac_66b9_11eb_bc26_3c58c2b1bc95row6_col4{\n",
       "            background-color:  #eaf2fb;\n",
       "            color:  #000000;\n",
       "        }#T_20e217ac_66b9_11eb_bc26_3c58c2b1bc95row4_col1{\n",
       "            background-color:  #e1edf8;\n",
       "            color:  #000000;\n",
       "        }#T_20e217ac_66b9_11eb_bc26_3c58c2b1bc95row4_col2{\n",
       "            background-color:  #e7f1fa;\n",
       "            color:  #000000;\n",
       "        }#T_20e217ac_66b9_11eb_bc26_3c58c2b1bc95row4_col5{\n",
       "            background-color:  #e8f1fa;\n",
       "            color:  #000000;\n",
       "        }#T_20e217ac_66b9_11eb_bc26_3c58c2b1bc95row4_col6{\n",
       "            background-color:  #e3eef8;\n",
       "            color:  #000000;\n",
       "        }#T_20e217ac_66b9_11eb_bc26_3c58c2b1bc95row5_col0{\n",
       "            background-color:  #dbe9f6;\n",
       "            color:  #000000;\n",
       "        }#T_20e217ac_66b9_11eb_bc26_3c58c2b1bc95row5_col1{\n",
       "            background-color:  #cee0f2;\n",
       "            color:  #000000;\n",
       "        }#T_20e217ac_66b9_11eb_bc26_3c58c2b1bc95row5_col2{\n",
       "            background-color:  #d8e7f5;\n",
       "            color:  #000000;\n",
       "        }#T_20e217ac_66b9_11eb_bc26_3c58c2b1bc95row5_col3{\n",
       "            background-color:  #d7e6f5;\n",
       "            color:  #000000;\n",
       "        }#T_20e217ac_66b9_11eb_bc26_3c58c2b1bc95row5_col4{\n",
       "            background-color:  #d0e2f2;\n",
       "            color:  #000000;\n",
       "        }#T_20e217ac_66b9_11eb_bc26_3c58c2b1bc95row5_col5{\n",
       "            background-color:  #dae8f6;\n",
       "            color:  #000000;\n",
       "        }#T_20e217ac_66b9_11eb_bc26_3c58c2b1bc95row5_col6{\n",
       "            background-color:  #dceaf6;\n",
       "            color:  #000000;\n",
       "        }#T_20e217ac_66b9_11eb_bc26_3c58c2b1bc95row6_col1{\n",
       "            background-color:  #ddeaf7;\n",
       "            color:  #000000;\n",
       "        }#T_20e217ac_66b9_11eb_bc26_3c58c2b1bc95row6_col3{\n",
       "            background-color:  #dfebf7;\n",
       "            color:  #000000;\n",
       "        }#T_20e217ac_66b9_11eb_bc26_3c58c2b1bc95row6_col5{\n",
       "            background-color:  #e7f0fa;\n",
       "            color:  #000000;\n",
       "        }#T_20e217ac_66b9_11eb_bc26_3c58c2b1bc95row7_col0,#T_20e217ac_66b9_11eb_bc26_3c58c2b1bc95row7_col5,#T_20e217ac_66b9_11eb_bc26_3c58c2b1bc95row7_col6,#T_20e217ac_66b9_11eb_bc26_3c58c2b1bc95row10_col1,#T_20e217ac_66b9_11eb_bc26_3c58c2b1bc95row10_col2,#T_20e217ac_66b9_11eb_bc26_3c58c2b1bc95row10_col3,#T_20e217ac_66b9_11eb_bc26_3c58c2b1bc95row10_col4{\n",
       "            background-color:  #08306b;\n",
       "            color:  #f1f1f1;\n",
       "        }#T_20e217ac_66b9_11eb_bc26_3c58c2b1bc95row7_col1{\n",
       "            background-color:  #084b93;\n",
       "            color:  #f1f1f1;\n",
       "        }#T_20e217ac_66b9_11eb_bc26_3c58c2b1bc95row7_col2{\n",
       "            background-color:  #1c6ab0;\n",
       "            color:  #f1f1f1;\n",
       "        }#T_20e217ac_66b9_11eb_bc26_3c58c2b1bc95row7_col3{\n",
       "            background-color:  #2676b8;\n",
       "            color:  #000000;\n",
       "        }#T_20e217ac_66b9_11eb_bc26_3c58c2b1bc95row7_col4{\n",
       "            background-color:  #1f6eb3;\n",
       "            color:  #f1f1f1;\n",
       "        }#T_20e217ac_66b9_11eb_bc26_3c58c2b1bc95row8_col0{\n",
       "            background-color:  #7cb7da;\n",
       "            color:  #000000;\n",
       "        }#T_20e217ac_66b9_11eb_bc26_3c58c2b1bc95row8_col1{\n",
       "            background-color:  #2070b4;\n",
       "            color:  #f1f1f1;\n",
       "        }#T_20e217ac_66b9_11eb_bc26_3c58c2b1bc95row8_col2{\n",
       "            background-color:  #5da5d1;\n",
       "            color:  #000000;\n",
       "        }#T_20e217ac_66b9_11eb_bc26_3c58c2b1bc95row8_col3,#T_20e217ac_66b9_11eb_bc26_3c58c2b1bc95row8_col6{\n",
       "            background-color:  #7db8da;\n",
       "            color:  #000000;\n",
       "        }#T_20e217ac_66b9_11eb_bc26_3c58c2b1bc95row8_col4{\n",
       "            background-color:  #9dcae1;\n",
       "            color:  #000000;\n",
       "        }#T_20e217ac_66b9_11eb_bc26_3c58c2b1bc95row8_col5{\n",
       "            background-color:  #aed1e7;\n",
       "            color:  #000000;\n",
       "        }#T_20e217ac_66b9_11eb_bc26_3c58c2b1bc95row9_col0{\n",
       "            background-color:  #d3e3f3;\n",
       "            color:  #000000;\n",
       "        }#T_20e217ac_66b9_11eb_bc26_3c58c2b1bc95row9_col1{\n",
       "            background-color:  #b5d4e9;\n",
       "            color:  #000000;\n",
       "        }#T_20e217ac_66b9_11eb_bc26_3c58c2b1bc95row9_col2{\n",
       "            background-color:  #cbdef1;\n",
       "            color:  #000000;\n",
       "        }#T_20e217ac_66b9_11eb_bc26_3c58c2b1bc95row9_col3{\n",
       "            background-color:  #c1d9ed;\n",
       "            color:  #000000;\n",
       "        }#T_20e217ac_66b9_11eb_bc26_3c58c2b1bc95row9_col4{\n",
       "            background-color:  #b4d3e9;\n",
       "            color:  #000000;\n",
       "        }#T_20e217ac_66b9_11eb_bc26_3c58c2b1bc95row9_col5{\n",
       "            background-color:  #c3daee;\n",
       "            color:  #000000;\n",
       "        }#T_20e217ac_66b9_11eb_bc26_3c58c2b1bc95row9_col6{\n",
       "            background-color:  #b0d2e7;\n",
       "            color:  #000000;\n",
       "        }#T_20e217ac_66b9_11eb_bc26_3c58c2b1bc95row10_col0{\n",
       "            background-color:  #2777b8;\n",
       "            color:  #000000;\n",
       "        }#T_20e217ac_66b9_11eb_bc26_3c58c2b1bc95row10_col5{\n",
       "            background-color:  #084e98;\n",
       "            color:  #f1f1f1;\n",
       "        }#T_20e217ac_66b9_11eb_bc26_3c58c2b1bc95row10_col6{\n",
       "            background-color:  #083c7d;\n",
       "            color:  #f1f1f1;\n",
       "        }</style><table id=\"T_20e217ac_66b9_11eb_bc26_3c58c2b1bc95\" ><thead>    <tr>        <th class=\"blank level0\" ></th>        <th class=\"col_heading level0 col0\" >월</th>        <th class=\"col_heading level0 col1\" >화</th>        <th class=\"col_heading level0 col2\" >수</th>        <th class=\"col_heading level0 col3\" >목</th>        <th class=\"col_heading level0 col4\" >금</th>        <th class=\"col_heading level0 col5\" >토</th>        <th class=\"col_heading level0 col6\" >일</th>    </tr>    <tr>        <th class=\"index_name level0\" >월</th>        <th class=\"blank\" ></th>        <th class=\"blank\" ></th>        <th class=\"blank\" ></th>        <th class=\"blank\" ></th>        <th class=\"blank\" ></th>        <th class=\"blank\" ></th>        <th class=\"blank\" ></th>    </tr></thead><tbody>\n",
       "                <tr>\n",
       "                        <th id=\"T_20e217ac_66b9_11eb_bc26_3c58c2b1bc95level0_row0\" class=\"row_heading level0 row0\" >1</th>\n",
       "                        <td id=\"T_20e217ac_66b9_11eb_bc26_3c58c2b1bc95row0_col0\" class=\"data row0 col0\" >0</td>\n",
       "                        <td id=\"T_20e217ac_66b9_11eb_bc26_3c58c2b1bc95row0_col1\" class=\"data row0 col1\" >0</td>\n",
       "                        <td id=\"T_20e217ac_66b9_11eb_bc26_3c58c2b1bc95row0_col2\" class=\"data row0 col2\" >0</td>\n",
       "                        <td id=\"T_20e217ac_66b9_11eb_bc26_3c58c2b1bc95row0_col3\" class=\"data row0 col3\" >3</td>\n",
       "                        <td id=\"T_20e217ac_66b9_11eb_bc26_3c58c2b1bc95row0_col4\" class=\"data row0 col4\" >4</td>\n",
       "                        <td id=\"T_20e217ac_66b9_11eb_bc26_3c58c2b1bc95row0_col5\" class=\"data row0 col5\" >0</td>\n",
       "                        <td id=\"T_20e217ac_66b9_11eb_bc26_3c58c2b1bc95row0_col6\" class=\"data row0 col6\" >0</td>\n",
       "            </tr>\n",
       "            <tr>\n",
       "                        <th id=\"T_20e217ac_66b9_11eb_bc26_3c58c2b1bc95level0_row1\" class=\"row_heading level0 row1\" >2</th>\n",
       "                        <td id=\"T_20e217ac_66b9_11eb_bc26_3c58c2b1bc95row1_col0\" class=\"data row1 col0\" >4</td>\n",
       "                        <td id=\"T_20e217ac_66b9_11eb_bc26_3c58c2b1bc95row1_col1\" class=\"data row1 col1\" >16</td>\n",
       "                        <td id=\"T_20e217ac_66b9_11eb_bc26_3c58c2b1bc95row1_col2\" class=\"data row1 col2\" >14</td>\n",
       "                        <td id=\"T_20e217ac_66b9_11eb_bc26_3c58c2b1bc95row1_col3\" class=\"data row1 col3\" >19</td>\n",
       "                        <td id=\"T_20e217ac_66b9_11eb_bc26_3c58c2b1bc95row1_col4\" class=\"data row1 col4\" >11</td>\n",
       "                        <td id=\"T_20e217ac_66b9_11eb_bc26_3c58c2b1bc95row1_col5\" class=\"data row1 col5\" >9</td>\n",
       "                        <td id=\"T_20e217ac_66b9_11eb_bc26_3c58c2b1bc95row1_col6\" class=\"data row1 col6\" >7</td>\n",
       "            </tr>\n",
       "            <tr>\n",
       "                        <th id=\"T_20e217ac_66b9_11eb_bc26_3c58c2b1bc95level0_row2\" class=\"row_heading level0 row2\" >3</th>\n",
       "                        <td id=\"T_20e217ac_66b9_11eb_bc26_3c58c2b1bc95row2_col0\" class=\"data row2 col0\" >69</td>\n",
       "                        <td id=\"T_20e217ac_66b9_11eb_bc26_3c58c2b1bc95row2_col1\" class=\"data row2 col1\" >89</td>\n",
       "                        <td id=\"T_20e217ac_66b9_11eb_bc26_3c58c2b1bc95row2_col2\" class=\"data row2 col2\" >46</td>\n",
       "                        <td id=\"T_20e217ac_66b9_11eb_bc26_3c58c2b1bc95row2_col3\" class=\"data row2 col3\" >44</td>\n",
       "                        <td id=\"T_20e217ac_66b9_11eb_bc26_3c58c2b1bc95row2_col4\" class=\"data row2 col4\" >48</td>\n",
       "                        <td id=\"T_20e217ac_66b9_11eb_bc26_3c58c2b1bc95row2_col5\" class=\"data row2 col5\" >45</td>\n",
       "                        <td id=\"T_20e217ac_66b9_11eb_bc26_3c58c2b1bc95row2_col6\" class=\"data row2 col6\" >50</td>\n",
       "            </tr>\n",
       "            <tr>\n",
       "                        <th id=\"T_20e217ac_66b9_11eb_bc26_3c58c2b1bc95level0_row3\" class=\"row_heading level0 row3\" >4</th>\n",
       "                        <td id=\"T_20e217ac_66b9_11eb_bc26_3c58c2b1bc95row3_col0\" class=\"data row3 col0\" >16</td>\n",
       "                        <td id=\"T_20e217ac_66b9_11eb_bc26_3c58c2b1bc95row3_col1\" class=\"data row3 col1\" >17</td>\n",
       "                        <td id=\"T_20e217ac_66b9_11eb_bc26_3c58c2b1bc95row3_col2\" class=\"data row3 col2\" >28</td>\n",
       "                        <td id=\"T_20e217ac_66b9_11eb_bc26_3c58c2b1bc95row3_col3\" class=\"data row3 col3\" >27</td>\n",
       "                        <td id=\"T_20e217ac_66b9_11eb_bc26_3c58c2b1bc95row3_col4\" class=\"data row3 col4\" >26</td>\n",
       "                        <td id=\"T_20e217ac_66b9_11eb_bc26_3c58c2b1bc95row3_col5\" class=\"data row3 col5\" >22</td>\n",
       "                        <td id=\"T_20e217ac_66b9_11eb_bc26_3c58c2b1bc95row3_col6\" class=\"data row3 col6\" >20</td>\n",
       "            </tr>\n",
       "            <tr>\n",
       "                        <th id=\"T_20e217ac_66b9_11eb_bc26_3c58c2b1bc95level0_row4\" class=\"row_heading level0 row4\" >5</th>\n",
       "                        <td id=\"T_20e217ac_66b9_11eb_bc26_3c58c2b1bc95row4_col0\" class=\"data row4 col0\" >27</td>\n",
       "                        <td id=\"T_20e217ac_66b9_11eb_bc26_3c58c2b1bc95row4_col1\" class=\"data row4 col1\" >36</td>\n",
       "                        <td id=\"T_20e217ac_66b9_11eb_bc26_3c58c2b1bc95row4_col2\" class=\"data row4 col2\" >34</td>\n",
       "                        <td id=\"T_20e217ac_66b9_11eb_bc26_3c58c2b1bc95row4_col3\" class=\"data row4 col3\" >34</td>\n",
       "                        <td id=\"T_20e217ac_66b9_11eb_bc26_3c58c2b1bc95row4_col4\" class=\"data row4 col4\" >32</td>\n",
       "                        <td id=\"T_20e217ac_66b9_11eb_bc26_3c58c2b1bc95row4_col5\" class=\"data row4 col5\" >36</td>\n",
       "                        <td id=\"T_20e217ac_66b9_11eb_bc26_3c58c2b1bc95row4_col6\" class=\"data row4 col6\" >29</td>\n",
       "            </tr>\n",
       "            <tr>\n",
       "                        <th id=\"T_20e217ac_66b9_11eb_bc26_3c58c2b1bc95level0_row5\" class=\"row_heading level0 row5\" >6</th>\n",
       "                        <td id=\"T_20e217ac_66b9_11eb_bc26_3c58c2b1bc95row5_col0\" class=\"data row5 col0\" >55</td>\n",
       "                        <td id=\"T_20e217ac_66b9_11eb_bc26_3c58c2b1bc95row5_col1\" class=\"data row5 col1\" >67</td>\n",
       "                        <td id=\"T_20e217ac_66b9_11eb_bc26_3c58c2b1bc95row5_col2\" class=\"data row5 col2\" >66</td>\n",
       "                        <td id=\"T_20e217ac_66b9_11eb_bc26_3c58c2b1bc95row5_col3\" class=\"data row5 col3\" >75</td>\n",
       "                        <td id=\"T_20e217ac_66b9_11eb_bc26_3c58c2b1bc95row5_col4\" class=\"data row5 col4\" >90</td>\n",
       "                        <td id=\"T_20e217ac_66b9_11eb_bc26_3c58c2b1bc95row5_col5\" class=\"data row5 col5\" >70</td>\n",
       "                        <td id=\"T_20e217ac_66b9_11eb_bc26_3c58c2b1bc95row5_col6\" class=\"data row5 col6\" >37</td>\n",
       "            </tr>\n",
       "            <tr>\n",
       "                        <th id=\"T_20e217ac_66b9_11eb_bc26_3c58c2b1bc95level0_row6\" class=\"row_heading level0 row6\" >7</th>\n",
       "                        <td id=\"T_20e217ac_66b9_11eb_bc26_3c58c2b1bc95row6_col0\" class=\"data row6 col0\" >37</td>\n",
       "                        <td id=\"T_20e217ac_66b9_11eb_bc26_3c58c2b1bc95row6_col1\" class=\"data row6 col1\" >42</td>\n",
       "                        <td id=\"T_20e217ac_66b9_11eb_bc26_3c58c2b1bc95row6_col2\" class=\"data row6 col2\" >42</td>\n",
       "                        <td id=\"T_20e217ac_66b9_11eb_bc26_3c58c2b1bc95row6_col3\" class=\"data row6 col3\" >58</td>\n",
       "                        <td id=\"T_20e217ac_66b9_11eb_bc26_3c58c2b1bc95row6_col4\" class=\"data row6 col4\" >34</td>\n",
       "                        <td id=\"T_20e217ac_66b9_11eb_bc26_3c58c2b1bc95row6_col5\" class=\"data row6 col5\" >40</td>\n",
       "                        <td id=\"T_20e217ac_66b9_11eb_bc26_3c58c2b1bc95row6_col6\" class=\"data row6 col6\" >28</td>\n",
       "            </tr>\n",
       "            <tr>\n",
       "                        <th id=\"T_20e217ac_66b9_11eb_bc26_3c58c2b1bc95level0_row7\" class=\"row_heading level0 row7\" >8</th>\n",
       "                        <td id=\"T_20e217ac_66b9_11eb_bc26_3c58c2b1bc95row7_col0\" class=\"data row7 col0\" >387</td>\n",
       "                        <td id=\"T_20e217ac_66b9_11eb_bc26_3c58c2b1bc95row7_col1\" class=\"data row7 col1\" >289</td>\n",
       "                        <td id=\"T_20e217ac_66b9_11eb_bc26_3c58c2b1bc95row7_col2\" class=\"data row7 col2\" >327</td>\n",
       "                        <td id=\"T_20e217ac_66b9_11eb_bc26_3c58c2b1bc95row7_col3\" class=\"data row7 col3\" >328</td>\n",
       "                        <td id=\"T_20e217ac_66b9_11eb_bc26_3c58c2b1bc95row7_col4\" class=\"data row7 col4\" >336</td>\n",
       "                        <td id=\"T_20e217ac_66b9_11eb_bc26_3c58c2b1bc95row7_col5\" class=\"data row7 col5\" >473</td>\n",
       "                        <td id=\"T_20e217ac_66b9_11eb_bc26_3c58c2b1bc95row7_col6\" class=\"data row7 col6\" >277</td>\n",
       "            </tr>\n",
       "            <tr>\n",
       "                        <th id=\"T_20e217ac_66b9_11eb_bc26_3c58c2b1bc95level0_row8\" class=\"row_heading level0 row8\" >9</th>\n",
       "                        <td id=\"T_20e217ac_66b9_11eb_bc26_3c58c2b1bc95row8_col0\" class=\"data row8 col0\" >177</td>\n",
       "                        <td id=\"T_20e217ac_66b9_11eb_bc26_3c58c2b1bc95row8_col1\" class=\"data row8 col1\" >242</td>\n",
       "                        <td id=\"T_20e217ac_66b9_11eb_bc26_3c58c2b1bc95row8_col2\" class=\"data row8 col2\" >228</td>\n",
       "                        <td id=\"T_20e217ac_66b9_11eb_bc26_3c58c2b1bc95row8_col3\" class=\"data row8 col3\" >207</td>\n",
       "                        <td id=\"T_20e217ac_66b9_11eb_bc26_3c58c2b1bc95row8_col4\" class=\"data row8 col4\" >169</td>\n",
       "                        <td id=\"T_20e217ac_66b9_11eb_bc26_3c58c2b1bc95row8_col5\" class=\"data row8 col5\" >155</td>\n",
       "                        <td id=\"T_20e217ac_66b9_11eb_bc26_3c58c2b1bc95row8_col6\" class=\"data row8 col6\" >126</td>\n",
       "            </tr>\n",
       "            <tr>\n",
       "                        <th id=\"T_20e217ac_66b9_11eb_bc26_3c58c2b1bc95level0_row9\" class=\"row_heading level0 row9\" >10</th>\n",
       "                        <td id=\"T_20e217ac_66b9_11eb_bc26_3c58c2b1bc95row9_col0\" class=\"data row9 col0\" >72</td>\n",
       "                        <td id=\"T_20e217ac_66b9_11eb_bc26_3c58c2b1bc95row9_col1\" class=\"data row9 col1\" >97</td>\n",
       "                        <td id=\"T_20e217ac_66b9_11eb_bc26_3c58c2b1bc95row9_col2\" class=\"data row9 col2\" >94</td>\n",
       "                        <td id=\"T_20e217ac_66b9_11eb_bc26_3c58c2b1bc95row9_col3\" class=\"data row9 col3\" >123</td>\n",
       "                        <td id=\"T_20e217ac_66b9_11eb_bc26_3c58c2b1bc95row9_col4\" class=\"data row9 col4\" >137</td>\n",
       "                        <td id=\"T_20e217ac_66b9_11eb_bc26_3c58c2b1bc95row9_col5\" class=\"data row9 col5\" >122</td>\n",
       "                        <td id=\"T_20e217ac_66b9_11eb_bc26_3c58c2b1bc95row9_col6\" class=\"data row9 col6\" >88</td>\n",
       "            </tr>\n",
       "            <tr>\n",
       "                        <th id=\"T_20e217ac_66b9_11eb_bc26_3c58c2b1bc95level0_row10\" class=\"row_heading level0 row10\" >11</th>\n",
       "                        <td id=\"T_20e217ac_66b9_11eb_bc26_3c58c2b1bc95row10_col0\" class=\"data row10 col0\" >280</td>\n",
       "                        <td id=\"T_20e217ac_66b9_11eb_bc26_3c58c2b1bc95row10_col1\" class=\"data row10 col1\" >322</td>\n",
       "                        <td id=\"T_20e217ac_66b9_11eb_bc26_3c58c2b1bc95row10_col2\" class=\"data row10 col2\" >422</td>\n",
       "                        <td id=\"T_20e217ac_66b9_11eb_bc26_3c58c2b1bc95row10_col3\" class=\"data row10 col3\" >450</td>\n",
       "                        <td id=\"T_20e217ac_66b9_11eb_bc26_3c58c2b1bc95row10_col4\" class=\"data row10 col4\" >440</td>\n",
       "                        <td id=\"T_20e217ac_66b9_11eb_bc26_3c58c2b1bc95row10_col5\" class=\"data row10 col5\" >418</td>\n",
       "                        <td id=\"T_20e217ac_66b9_11eb_bc26_3c58c2b1bc95row10_col6\" class=\"data row10 col6\" >263</td>\n",
       "            </tr>\n",
       "    </tbody></table>"
      ],
      "text/plain": [
       "<pandas.io.formats.style.Styler at 0x1bc68d6dca0>"
      ]
     },
     "execution_count": 103,
     "metadata": {},
     "output_type": "execute_result"
    }
   ],
   "source": [
    "# style.background_gradient 로 색상을 표현합니다.\n",
    "all_day_week.astype(int).style.background_gradient(cmap=\"Blues\")"
   ]
  },
  {
   "cell_type": "code",
   "execution_count": 104,
   "metadata": {},
   "outputs": [
    {
     "data": {
      "text/html": [
       "<style  type=\"text/css\" >\n",
       "#T_41891b34_66b9_11eb_9da5_3c58c2b1bc95row0_col0,#T_41891b34_66b9_11eb_9da5_3c58c2b1bc95row0_col1,#T_41891b34_66b9_11eb_9da5_3c58c2b1bc95row0_col3,#T_41891b34_66b9_11eb_9da5_3c58c2b1bc95row0_col4,#T_41891b34_66b9_11eb_9da5_3c58c2b1bc95row0_col9,#T_41891b34_66b9_11eb_9da5_3c58c2b1bc95row1_col0,#T_41891b34_66b9_11eb_9da5_3c58c2b1bc95row2_col0,#T_41891b34_66b9_11eb_9da5_3c58c2b1bc95row3_col2,#T_41891b34_66b9_11eb_9da5_3c58c2b1bc95row5_col0,#T_41891b34_66b9_11eb_9da5_3c58c2b1bc95row6_col0,#T_41891b34_66b9_11eb_9da5_3c58c2b1bc95row6_col5,#T_41891b34_66b9_11eb_9da5_3c58c2b1bc95row6_col6,#T_41891b34_66b9_11eb_9da5_3c58c2b1bc95row6_col7,#T_41891b34_66b9_11eb_9da5_3c58c2b1bc95row6_col8,#T_41891b34_66b9_11eb_9da5_3c58c2b1bc95row6_col10{\n",
       "            background-color:  #f7fbff;\n",
       "            color:  #000000;\n",
       "        }#T_41891b34_66b9_11eb_9da5_3c58c2b1bc95row0_col2,#T_41891b34_66b9_11eb_9da5_3c58c2b1bc95row4_col4{\n",
       "            background-color:  #58a1cf;\n",
       "            color:  #000000;\n",
       "        }#T_41891b34_66b9_11eb_9da5_3c58c2b1bc95row0_col5,#T_41891b34_66b9_11eb_9da5_3c58c2b1bc95row2_col9{\n",
       "            background-color:  #aacfe5;\n",
       "            color:  #000000;\n",
       "        }#T_41891b34_66b9_11eb_9da5_3c58c2b1bc95row0_col6{\n",
       "            background-color:  #b7d4ea;\n",
       "            color:  #000000;\n",
       "        }#T_41891b34_66b9_11eb_9da5_3c58c2b1bc95row0_col7{\n",
       "            background-color:  #57a0ce;\n",
       "            color:  #000000;\n",
       "        }#T_41891b34_66b9_11eb_9da5_3c58c2b1bc95row0_col8{\n",
       "            background-color:  #84bcdb;\n",
       "            color:  #000000;\n",
       "        }#T_41891b34_66b9_11eb_9da5_3c58c2b1bc95row0_col10{\n",
       "            background-color:  #e5eff9;\n",
       "            color:  #000000;\n",
       "        }#T_41891b34_66b9_11eb_9da5_3c58c2b1bc95row1_col1{\n",
       "            background-color:  #1764ab;\n",
       "            color:  #f1f1f1;\n",
       "        }#T_41891b34_66b9_11eb_9da5_3c58c2b1bc95row1_col2,#T_41891b34_66b9_11eb_9da5_3c58c2b1bc95row1_col4,#T_41891b34_66b9_11eb_9da5_3c58c2b1bc95row1_col8,#T_41891b34_66b9_11eb_9da5_3c58c2b1bc95row2_col3,#T_41891b34_66b9_11eb_9da5_3c58c2b1bc95row3_col1,#T_41891b34_66b9_11eb_9da5_3c58c2b1bc95row3_col6,#T_41891b34_66b9_11eb_9da5_3c58c2b1bc95row3_col10,#T_41891b34_66b9_11eb_9da5_3c58c2b1bc95row4_col0,#T_41891b34_66b9_11eb_9da5_3c58c2b1bc95row4_col5,#T_41891b34_66b9_11eb_9da5_3c58c2b1bc95row4_col9,#T_41891b34_66b9_11eb_9da5_3c58c2b1bc95row5_col4,#T_41891b34_66b9_11eb_9da5_3c58c2b1bc95row5_col7{\n",
       "            background-color:  #08306b;\n",
       "            color:  #f1f1f1;\n",
       "        }#T_41891b34_66b9_11eb_9da5_3c58c2b1bc95row1_col3{\n",
       "            background-color:  #e7f0fa;\n",
       "            color:  #000000;\n",
       "        }#T_41891b34_66b9_11eb_9da5_3c58c2b1bc95row1_col5{\n",
       "            background-color:  #56a0ce;\n",
       "            color:  #000000;\n",
       "        }#T_41891b34_66b9_11eb_9da5_3c58c2b1bc95row1_col6,#T_41891b34_66b9_11eb_9da5_3c58c2b1bc95row2_col6,#T_41891b34_66b9_11eb_9da5_3c58c2b1bc95row4_col1{\n",
       "            background-color:  #79b5d9;\n",
       "            color:  #000000;\n",
       "        }#T_41891b34_66b9_11eb_9da5_3c58c2b1bc95row1_col7{\n",
       "            background-color:  #ebf3fb;\n",
       "            color:  #000000;\n",
       "        }#T_41891b34_66b9_11eb_9da5_3c58c2b1bc95row1_col9{\n",
       "            background-color:  #9ac8e0;\n",
       "            color:  #000000;\n",
       "        }#T_41891b34_66b9_11eb_9da5_3c58c2b1bc95row1_col10{\n",
       "            background-color:  #b2d2e8;\n",
       "            color:  #000000;\n",
       "        }#T_41891b34_66b9_11eb_9da5_3c58c2b1bc95row2_col1{\n",
       "            background-color:  #3787c0;\n",
       "            color:  #000000;\n",
       "        }#T_41891b34_66b9_11eb_9da5_3c58c2b1bc95row2_col2{\n",
       "            background-color:  #eef5fc;\n",
       "            color:  #000000;\n",
       "        }#T_41891b34_66b9_11eb_9da5_3c58c2b1bc95row2_col4,#T_41891b34_66b9_11eb_9da5_3c58c2b1bc95row3_col4{\n",
       "            background-color:  #1b69af;\n",
       "            color:  #f1f1f1;\n",
       "        }#T_41891b34_66b9_11eb_9da5_3c58c2b1bc95row2_col5{\n",
       "            background-color:  #5ba3d0;\n",
       "            color:  #000000;\n",
       "        }#T_41891b34_66b9_11eb_9da5_3c58c2b1bc95row2_col7{\n",
       "            background-color:  #c4daee;\n",
       "            color:  #000000;\n",
       "        }#T_41891b34_66b9_11eb_9da5_3c58c2b1bc95row2_col8{\n",
       "            background-color:  #084f99;\n",
       "            color:  #f1f1f1;\n",
       "        }#T_41891b34_66b9_11eb_9da5_3c58c2b1bc95row2_col10{\n",
       "            background-color:  #0d57a1;\n",
       "            color:  #f1f1f1;\n",
       "        }#T_41891b34_66b9_11eb_9da5_3c58c2b1bc95row3_col0{\n",
       "            background-color:  #2070b4;\n",
       "            color:  #f1f1f1;\n",
       "        }#T_41891b34_66b9_11eb_9da5_3c58c2b1bc95row3_col3{\n",
       "            background-color:  #08468b;\n",
       "            color:  #f1f1f1;\n",
       "        }#T_41891b34_66b9_11eb_9da5_3c58c2b1bc95row3_col5{\n",
       "            background-color:  #2a7ab9;\n",
       "            color:  #000000;\n",
       "        }#T_41891b34_66b9_11eb_9da5_3c58c2b1bc95row3_col7{\n",
       "            background-color:  #c3daee;\n",
       "            color:  #000000;\n",
       "        }#T_41891b34_66b9_11eb_9da5_3c58c2b1bc95row3_col8{\n",
       "            background-color:  #2f7fbc;\n",
       "            color:  #000000;\n",
       "        }#T_41891b34_66b9_11eb_9da5_3c58c2b1bc95row3_col9{\n",
       "            background-color:  #1a68ae;\n",
       "            color:  #f1f1f1;\n",
       "        }#T_41891b34_66b9_11eb_9da5_3c58c2b1bc95row4_col2{\n",
       "            background-color:  #e6f0f9;\n",
       "            color:  #000000;\n",
       "        }#T_41891b34_66b9_11eb_9da5_3c58c2b1bc95row4_col3{\n",
       "            background-color:  #105ba4;\n",
       "            color:  #f1f1f1;\n",
       "        }#T_41891b34_66b9_11eb_9da5_3c58c2b1bc95row4_col6,#T_41891b34_66b9_11eb_9da5_3c58c2b1bc95row6_col1{\n",
       "            background-color:  #d0e1f2;\n",
       "            color:  #000000;\n",
       "        }#T_41891b34_66b9_11eb_9da5_3c58c2b1bc95row4_col7{\n",
       "            background-color:  #b5d4e9;\n",
       "            color:  #000000;\n",
       "        }#T_41891b34_66b9_11eb_9da5_3c58c2b1bc95row4_col8{\n",
       "            background-color:  #a0cbe2;\n",
       "            color:  #000000;\n",
       "        }#T_41891b34_66b9_11eb_9da5_3c58c2b1bc95row4_col10{\n",
       "            background-color:  #083d7f;\n",
       "            color:  #f1f1f1;\n",
       "        }#T_41891b34_66b9_11eb_9da5_3c58c2b1bc95row5_col1,#T_41891b34_66b9_11eb_9da5_3c58c2b1bc95row6_col3{\n",
       "            background-color:  #abd0e6;\n",
       "            color:  #000000;\n",
       "        }#T_41891b34_66b9_11eb_9da5_3c58c2b1bc95row5_col2{\n",
       "            background-color:  #f3f8fe;\n",
       "            color:  #000000;\n",
       "        }#T_41891b34_66b9_11eb_9da5_3c58c2b1bc95row5_col3{\n",
       "            background-color:  #6aaed6;\n",
       "            color:  #000000;\n",
       "        }#T_41891b34_66b9_11eb_9da5_3c58c2b1bc95row5_col5{\n",
       "            background-color:  #4292c6;\n",
       "            color:  #000000;\n",
       "        }#T_41891b34_66b9_11eb_9da5_3c58c2b1bc95row5_col6{\n",
       "            background-color:  #94c4df;\n",
       "            color:  #000000;\n",
       "        }#T_41891b34_66b9_11eb_9da5_3c58c2b1bc95row5_col8{\n",
       "            background-color:  #c6dbef;\n",
       "            color:  #000000;\n",
       "        }#T_41891b34_66b9_11eb_9da5_3c58c2b1bc95row5_col9{\n",
       "            background-color:  #1d6cb1;\n",
       "            color:  #f1f1f1;\n",
       "        }#T_41891b34_66b9_11eb_9da5_3c58c2b1bc95row5_col10{\n",
       "            background-color:  #115ca5;\n",
       "            color:  #f1f1f1;\n",
       "        }#T_41891b34_66b9_11eb_9da5_3c58c2b1bc95row6_col2{\n",
       "            background-color:  #dceaf6;\n",
       "            color:  #000000;\n",
       "        }#T_41891b34_66b9_11eb_9da5_3c58c2b1bc95row6_col4{\n",
       "            background-color:  #ccdff1;\n",
       "            color:  #000000;\n",
       "        }#T_41891b34_66b9_11eb_9da5_3c58c2b1bc95row6_col9{\n",
       "            background-color:  #c7dbef;\n",
       "            color:  #000000;\n",
       "        }</style><table id=\"T_41891b34_66b9_11eb_9da5_3c58c2b1bc95\" ><thead>    <tr>        <th class=\"index_name level0\" >월</th>        <th class=\"col_heading level0 col0\" >1</th>        <th class=\"col_heading level0 col1\" >2</th>        <th class=\"col_heading level0 col2\" >3</th>        <th class=\"col_heading level0 col3\" >4</th>        <th class=\"col_heading level0 col4\" >5</th>        <th class=\"col_heading level0 col5\" >6</th>        <th class=\"col_heading level0 col6\" >7</th>        <th class=\"col_heading level0 col7\" >8</th>        <th class=\"col_heading level0 col8\" >9</th>        <th class=\"col_heading level0 col9\" >10</th>        <th class=\"col_heading level0 col10\" >11</th>    </tr></thead><tbody>\n",
       "                <tr>\n",
       "                        <th id=\"T_41891b34_66b9_11eb_9da5_3c58c2b1bc95level0_row0\" class=\"row_heading level0 row0\" >월</th>\n",
       "                        <td id=\"T_41891b34_66b9_11eb_9da5_3c58c2b1bc95row0_col0\" class=\"data row0 col0\" >0</td>\n",
       "                        <td id=\"T_41891b34_66b9_11eb_9da5_3c58c2b1bc95row0_col1\" class=\"data row0 col1\" >4</td>\n",
       "                        <td id=\"T_41891b34_66b9_11eb_9da5_3c58c2b1bc95row0_col2\" class=\"data row0 col2\" >69</td>\n",
       "                        <td id=\"T_41891b34_66b9_11eb_9da5_3c58c2b1bc95row0_col3\" class=\"data row0 col3\" >16</td>\n",
       "                        <td id=\"T_41891b34_66b9_11eb_9da5_3c58c2b1bc95row0_col4\" class=\"data row0 col4\" >27</td>\n",
       "                        <td id=\"T_41891b34_66b9_11eb_9da5_3c58c2b1bc95row0_col5\" class=\"data row0 col5\" >55</td>\n",
       "                        <td id=\"T_41891b34_66b9_11eb_9da5_3c58c2b1bc95row0_col6\" class=\"data row0 col6\" >37</td>\n",
       "                        <td id=\"T_41891b34_66b9_11eb_9da5_3c58c2b1bc95row0_col7\" class=\"data row0 col7\" >387</td>\n",
       "                        <td id=\"T_41891b34_66b9_11eb_9da5_3c58c2b1bc95row0_col8\" class=\"data row0 col8\" >177</td>\n",
       "                        <td id=\"T_41891b34_66b9_11eb_9da5_3c58c2b1bc95row0_col9\" class=\"data row0 col9\" >72</td>\n",
       "                        <td id=\"T_41891b34_66b9_11eb_9da5_3c58c2b1bc95row0_col10\" class=\"data row0 col10\" >280</td>\n",
       "            </tr>\n",
       "            <tr>\n",
       "                        <th id=\"T_41891b34_66b9_11eb_9da5_3c58c2b1bc95level0_row1\" class=\"row_heading level0 row1\" >화</th>\n",
       "                        <td id=\"T_41891b34_66b9_11eb_9da5_3c58c2b1bc95row1_col0\" class=\"data row1 col0\" >0</td>\n",
       "                        <td id=\"T_41891b34_66b9_11eb_9da5_3c58c2b1bc95row1_col1\" class=\"data row1 col1\" >16</td>\n",
       "                        <td id=\"T_41891b34_66b9_11eb_9da5_3c58c2b1bc95row1_col2\" class=\"data row1 col2\" >89</td>\n",
       "                        <td id=\"T_41891b34_66b9_11eb_9da5_3c58c2b1bc95row1_col3\" class=\"data row1 col3\" >17</td>\n",
       "                        <td id=\"T_41891b34_66b9_11eb_9da5_3c58c2b1bc95row1_col4\" class=\"data row1 col4\" >36</td>\n",
       "                        <td id=\"T_41891b34_66b9_11eb_9da5_3c58c2b1bc95row1_col5\" class=\"data row1 col5\" >67</td>\n",
       "                        <td id=\"T_41891b34_66b9_11eb_9da5_3c58c2b1bc95row1_col6\" class=\"data row1 col6\" >42</td>\n",
       "                        <td id=\"T_41891b34_66b9_11eb_9da5_3c58c2b1bc95row1_col7\" class=\"data row1 col7\" >289</td>\n",
       "                        <td id=\"T_41891b34_66b9_11eb_9da5_3c58c2b1bc95row1_col8\" class=\"data row1 col8\" >242</td>\n",
       "                        <td id=\"T_41891b34_66b9_11eb_9da5_3c58c2b1bc95row1_col9\" class=\"data row1 col9\" >97</td>\n",
       "                        <td id=\"T_41891b34_66b9_11eb_9da5_3c58c2b1bc95row1_col10\" class=\"data row1 col10\" >322</td>\n",
       "            </tr>\n",
       "            <tr>\n",
       "                        <th id=\"T_41891b34_66b9_11eb_9da5_3c58c2b1bc95level0_row2\" class=\"row_heading level0 row2\" >수</th>\n",
       "                        <td id=\"T_41891b34_66b9_11eb_9da5_3c58c2b1bc95row2_col0\" class=\"data row2 col0\" >0</td>\n",
       "                        <td id=\"T_41891b34_66b9_11eb_9da5_3c58c2b1bc95row2_col1\" class=\"data row2 col1\" >14</td>\n",
       "                        <td id=\"T_41891b34_66b9_11eb_9da5_3c58c2b1bc95row2_col2\" class=\"data row2 col2\" >46</td>\n",
       "                        <td id=\"T_41891b34_66b9_11eb_9da5_3c58c2b1bc95row2_col3\" class=\"data row2 col3\" >28</td>\n",
       "                        <td id=\"T_41891b34_66b9_11eb_9da5_3c58c2b1bc95row2_col4\" class=\"data row2 col4\" >34</td>\n",
       "                        <td id=\"T_41891b34_66b9_11eb_9da5_3c58c2b1bc95row2_col5\" class=\"data row2 col5\" >66</td>\n",
       "                        <td id=\"T_41891b34_66b9_11eb_9da5_3c58c2b1bc95row2_col6\" class=\"data row2 col6\" >42</td>\n",
       "                        <td id=\"T_41891b34_66b9_11eb_9da5_3c58c2b1bc95row2_col7\" class=\"data row2 col7\" >327</td>\n",
       "                        <td id=\"T_41891b34_66b9_11eb_9da5_3c58c2b1bc95row2_col8\" class=\"data row2 col8\" >228</td>\n",
       "                        <td id=\"T_41891b34_66b9_11eb_9da5_3c58c2b1bc95row2_col9\" class=\"data row2 col9\" >94</td>\n",
       "                        <td id=\"T_41891b34_66b9_11eb_9da5_3c58c2b1bc95row2_col10\" class=\"data row2 col10\" >422</td>\n",
       "            </tr>\n",
       "            <tr>\n",
       "                        <th id=\"T_41891b34_66b9_11eb_9da5_3c58c2b1bc95level0_row3\" class=\"row_heading level0 row3\" >목</th>\n",
       "                        <td id=\"T_41891b34_66b9_11eb_9da5_3c58c2b1bc95row3_col0\" class=\"data row3 col0\" >3</td>\n",
       "                        <td id=\"T_41891b34_66b9_11eb_9da5_3c58c2b1bc95row3_col1\" class=\"data row3 col1\" >19</td>\n",
       "                        <td id=\"T_41891b34_66b9_11eb_9da5_3c58c2b1bc95row3_col2\" class=\"data row3 col2\" >44</td>\n",
       "                        <td id=\"T_41891b34_66b9_11eb_9da5_3c58c2b1bc95row3_col3\" class=\"data row3 col3\" >27</td>\n",
       "                        <td id=\"T_41891b34_66b9_11eb_9da5_3c58c2b1bc95row3_col4\" class=\"data row3 col4\" >34</td>\n",
       "                        <td id=\"T_41891b34_66b9_11eb_9da5_3c58c2b1bc95row3_col5\" class=\"data row3 col5\" >75</td>\n",
       "                        <td id=\"T_41891b34_66b9_11eb_9da5_3c58c2b1bc95row3_col6\" class=\"data row3 col6\" >58</td>\n",
       "                        <td id=\"T_41891b34_66b9_11eb_9da5_3c58c2b1bc95row3_col7\" class=\"data row3 col7\" >328</td>\n",
       "                        <td id=\"T_41891b34_66b9_11eb_9da5_3c58c2b1bc95row3_col8\" class=\"data row3 col8\" >207</td>\n",
       "                        <td id=\"T_41891b34_66b9_11eb_9da5_3c58c2b1bc95row3_col9\" class=\"data row3 col9\" >123</td>\n",
       "                        <td id=\"T_41891b34_66b9_11eb_9da5_3c58c2b1bc95row3_col10\" class=\"data row3 col10\" >450</td>\n",
       "            </tr>\n",
       "            <tr>\n",
       "                        <th id=\"T_41891b34_66b9_11eb_9da5_3c58c2b1bc95level0_row4\" class=\"row_heading level0 row4\" >금</th>\n",
       "                        <td id=\"T_41891b34_66b9_11eb_9da5_3c58c2b1bc95row4_col0\" class=\"data row4 col0\" >4</td>\n",
       "                        <td id=\"T_41891b34_66b9_11eb_9da5_3c58c2b1bc95row4_col1\" class=\"data row4 col1\" >11</td>\n",
       "                        <td id=\"T_41891b34_66b9_11eb_9da5_3c58c2b1bc95row4_col2\" class=\"data row4 col2\" >48</td>\n",
       "                        <td id=\"T_41891b34_66b9_11eb_9da5_3c58c2b1bc95row4_col3\" class=\"data row4 col3\" >26</td>\n",
       "                        <td id=\"T_41891b34_66b9_11eb_9da5_3c58c2b1bc95row4_col4\" class=\"data row4 col4\" >32</td>\n",
       "                        <td id=\"T_41891b34_66b9_11eb_9da5_3c58c2b1bc95row4_col5\" class=\"data row4 col5\" >90</td>\n",
       "                        <td id=\"T_41891b34_66b9_11eb_9da5_3c58c2b1bc95row4_col6\" class=\"data row4 col6\" >34</td>\n",
       "                        <td id=\"T_41891b34_66b9_11eb_9da5_3c58c2b1bc95row4_col7\" class=\"data row4 col7\" >336</td>\n",
       "                        <td id=\"T_41891b34_66b9_11eb_9da5_3c58c2b1bc95row4_col8\" class=\"data row4 col8\" >169</td>\n",
       "                        <td id=\"T_41891b34_66b9_11eb_9da5_3c58c2b1bc95row4_col9\" class=\"data row4 col9\" >137</td>\n",
       "                        <td id=\"T_41891b34_66b9_11eb_9da5_3c58c2b1bc95row4_col10\" class=\"data row4 col10\" >440</td>\n",
       "            </tr>\n",
       "            <tr>\n",
       "                        <th id=\"T_41891b34_66b9_11eb_9da5_3c58c2b1bc95level0_row5\" class=\"row_heading level0 row5\" >토</th>\n",
       "                        <td id=\"T_41891b34_66b9_11eb_9da5_3c58c2b1bc95row5_col0\" class=\"data row5 col0\" >0</td>\n",
       "                        <td id=\"T_41891b34_66b9_11eb_9da5_3c58c2b1bc95row5_col1\" class=\"data row5 col1\" >9</td>\n",
       "                        <td id=\"T_41891b34_66b9_11eb_9da5_3c58c2b1bc95row5_col2\" class=\"data row5 col2\" >45</td>\n",
       "                        <td id=\"T_41891b34_66b9_11eb_9da5_3c58c2b1bc95row5_col3\" class=\"data row5 col3\" >22</td>\n",
       "                        <td id=\"T_41891b34_66b9_11eb_9da5_3c58c2b1bc95row5_col4\" class=\"data row5 col4\" >36</td>\n",
       "                        <td id=\"T_41891b34_66b9_11eb_9da5_3c58c2b1bc95row5_col5\" class=\"data row5 col5\" >70</td>\n",
       "                        <td id=\"T_41891b34_66b9_11eb_9da5_3c58c2b1bc95row5_col6\" class=\"data row5 col6\" >40</td>\n",
       "                        <td id=\"T_41891b34_66b9_11eb_9da5_3c58c2b1bc95row5_col7\" class=\"data row5 col7\" >473</td>\n",
       "                        <td id=\"T_41891b34_66b9_11eb_9da5_3c58c2b1bc95row5_col8\" class=\"data row5 col8\" >155</td>\n",
       "                        <td id=\"T_41891b34_66b9_11eb_9da5_3c58c2b1bc95row5_col9\" class=\"data row5 col9\" >122</td>\n",
       "                        <td id=\"T_41891b34_66b9_11eb_9da5_3c58c2b1bc95row5_col10\" class=\"data row5 col10\" >418</td>\n",
       "            </tr>\n",
       "            <tr>\n",
       "                        <th id=\"T_41891b34_66b9_11eb_9da5_3c58c2b1bc95level0_row6\" class=\"row_heading level0 row6\" >일</th>\n",
       "                        <td id=\"T_41891b34_66b9_11eb_9da5_3c58c2b1bc95row6_col0\" class=\"data row6 col0\" >0</td>\n",
       "                        <td id=\"T_41891b34_66b9_11eb_9da5_3c58c2b1bc95row6_col1\" class=\"data row6 col1\" >7</td>\n",
       "                        <td id=\"T_41891b34_66b9_11eb_9da5_3c58c2b1bc95row6_col2\" class=\"data row6 col2\" >50</td>\n",
       "                        <td id=\"T_41891b34_66b9_11eb_9da5_3c58c2b1bc95row6_col3\" class=\"data row6 col3\" >20</td>\n",
       "                        <td id=\"T_41891b34_66b9_11eb_9da5_3c58c2b1bc95row6_col4\" class=\"data row6 col4\" >29</td>\n",
       "                        <td id=\"T_41891b34_66b9_11eb_9da5_3c58c2b1bc95row6_col5\" class=\"data row6 col5\" >37</td>\n",
       "                        <td id=\"T_41891b34_66b9_11eb_9da5_3c58c2b1bc95row6_col6\" class=\"data row6 col6\" >28</td>\n",
       "                        <td id=\"T_41891b34_66b9_11eb_9da5_3c58c2b1bc95row6_col7\" class=\"data row6 col7\" >277</td>\n",
       "                        <td id=\"T_41891b34_66b9_11eb_9da5_3c58c2b1bc95row6_col8\" class=\"data row6 col8\" >126</td>\n",
       "                        <td id=\"T_41891b34_66b9_11eb_9da5_3c58c2b1bc95row6_col9\" class=\"data row6 col9\" >88</td>\n",
       "                        <td id=\"T_41891b34_66b9_11eb_9da5_3c58c2b1bc95row6_col10\" class=\"data row6 col10\" >263</td>\n",
       "            </tr>\n",
       "    </tbody></table>"
      ],
      "text/plain": [
       "<pandas.io.formats.style.Styler at 0x1bc6970fd90>"
      ]
     },
     "execution_count": 104,
     "metadata": {},
     "output_type": "execute_result"
    }
   ],
   "source": [
    "#행열전환: 스타일 앞에 T\n",
    "all_day_week.astype(int).T.style.background_gradient(cmap=\"Blues\")"
   ]
  },
  {
   "cell_type": "markdown",
   "metadata": {},
   "source": [
    "## 거주지별 확진자"
   ]
  },
  {
   "cell_type": "code",
   "execution_count": 106,
   "metadata": {},
   "outputs": [],
   "source": [
    "# 거주지(구별) 확진자의 빈도수를 구하고 시각화 합니다.\n",
    "# gu_count\n",
    "gu_count = df[\"거주지\"].value_counts()"
   ]
  },
  {
   "cell_type": "code",
   "execution_count": 109,
   "metadata": {},
   "outputs": [
    {
     "data": {
      "text/plain": [
       "<AxesSubplot:title={'center':'구별 확진자 수'}>"
      ]
     },
     "execution_count": 109,
     "metadata": {},
     "output_type": "execute_result"
    },
    {
     "data": {
      "image/png": "[encoded data removed]",
      "text/plain": [
       "<Figure size 720x432 with 1 Axes>"
      ]
     },
     "metadata": {
      "image/png": {
       "height": 373,
       "width": 619
      },
      "needs_background": "light"
     },
     "output_type": "display_data"
    }
   ],
   "source": [
    "# 구별 확진자의 수를 시각화 합니다.\n",
    "gu_count.sort_values().plot.barh(title = \"구별 확진자 수\", figsize=(10,6),grid=True )   #barh 세로 막대그래프"
   ]
  },
  {
   "cell_type": "code",
   "execution_count": 110,
   "metadata": {},
   "outputs": [
    {
     "data": {
      "text/plain": [
       "Index(['송파구', '강서구', '관악구', '강남구', '타시도', '노원구', '성북구', '서초구', '동작구', '은평구',\n",
       "       '동대문구', '도봉구', '양천구', '영등포구', '중랑구', '마포구', '강동구', '구로구', '서대문구', '성동구',\n",
       "       '용산구', '강북구', '광진구', '기타', '종로구', '금천구', '중구', '종랑구', '경기도'],\n",
       "      dtype='object')"
      ]
     },
     "execution_count": 110,
     "metadata": {},
     "output_type": "execute_result"
    }
   ],
   "source": [
    "# 서울에서 확진판정을 받은 데이터이기 때문에 거주지가 서울이 아닐 수도 있습니다.\n",
    "# 거주지 별로 서울시에 해당되는 데이터만 따로 가져옵니다.\n",
    "gu_count.index"
   ]
  },
  {
   "cell_type": "code",
   "execution_count": 114,
   "metadata": {},
   "outputs": [
    {
     "data": {
      "text/plain": [
       "['송파구',\n",
       " '강서구',\n",
       " '관악구',\n",
       " '강남구',\n",
       " '노원구',\n",
       " '성북구',\n",
       " '서초구',\n",
       " '동작구',\n",
       " '은평구',\n",
       " '동대문구',\n",
       " '도봉구',\n",
       " '양천구',\n",
       " '영등포구',\n",
       " '중랑구',\n",
       " '마포구',\n",
       " '강동구',\n",
       " '구로구',\n",
       " '서대문구',\n",
       " '성동구',\n",
       " '용산구',\n",
       " '강북구',\n",
       " '광진구',\n",
       " '종로구',\n",
       " '금천구',\n",
       " '중구',\n",
       " '종랑구']"
      ]
     },
     "execution_count": 114,
     "metadata": {},
     "output_type": "execute_result"
    }
   ],
   "source": [
    "gu = gu_count.index.tolist()\n",
    "gu.remove(\"경기도\")\n",
    "gu.remove(\"타시도\")\n",
    "gu.remove(\"기타\")\n",
    "gu"
   ]
  },
  {
   "cell_type": "code",
   "execution_count": 115,
   "metadata": {},
   "outputs": [
    {
     "data": {
      "text/plain": [
       "{'경기도', '기타', '타시도'}"
      ]
     },
     "execution_count": 115,
     "metadata": {},
     "output_type": "execute_result"
    }
   ],
   "source": [
    "# 거주지가 서울이 아닌 지역을 따로 추출합니다.\n",
    "\n",
    "set(gu_count.index) - set(gu)"
   ]
  },
  {
   "cell_type": "code",
   "execution_count": 117,
   "metadata": {},
   "outputs": [
    {
     "data": {
      "text/html": [
       "<div>\n",
       "<style scoped>\n",
       "    .dataframe tbody tr th:only-of-type {\n",
       "        vertical-align: middle;\n",
       "    }\n",
       "\n",
       "    .dataframe tbody tr th {\n",
       "        vertical-align: top;\n",
       "    }\n",
       "\n",
       "    .dataframe thead th {\n",
       "        text-align: right;\n",
       "    }\n",
       "</style>\n",
       "<table border=\"1\" class=\"dataframe\">\n",
       "  <thead>\n",
       "    <tr style=\"text-align: right;\">\n",
       "      <th></th>\n",
       "      <th>구</th>\n",
       "      <th>거주지</th>\n",
       "    </tr>\n",
       "  </thead>\n",
       "  <tbody>\n",
       "    <tr>\n",
       "      <th>0</th>\n",
       "      <td>송파구</td>\n",
       "      <td>599</td>\n",
       "    </tr>\n",
       "    <tr>\n",
       "      <th>1</th>\n",
       "      <td>강서구</td>\n",
       "      <td>573</td>\n",
       "    </tr>\n",
       "    <tr>\n",
       "      <th>2</th>\n",
       "      <td>관악구</td>\n",
       "      <td>532</td>\n",
       "    </tr>\n",
       "    <tr>\n",
       "      <th>3</th>\n",
       "      <td>강남구</td>\n",
       "      <td>494</td>\n",
       "    </tr>\n",
       "    <tr>\n",
       "      <th>4</th>\n",
       "      <td>타시도</td>\n",
       "      <td>477</td>\n",
       "    </tr>\n",
       "    <tr>\n",
       "      <th>5</th>\n",
       "      <td>노원구</td>\n",
       "      <td>458</td>\n",
       "    </tr>\n",
       "    <tr>\n",
       "      <th>6</th>\n",
       "      <td>성북구</td>\n",
       "      <td>453</td>\n",
       "    </tr>\n",
       "    <tr>\n",
       "      <th>7</th>\n",
       "      <td>서초구</td>\n",
       "      <td>450</td>\n",
       "    </tr>\n",
       "    <tr>\n",
       "      <th>8</th>\n",
       "      <td>동작구</td>\n",
       "      <td>382</td>\n",
       "    </tr>\n",
       "    <tr>\n",
       "      <th>9</th>\n",
       "      <td>은평구</td>\n",
       "      <td>351</td>\n",
       "    </tr>\n",
       "    <tr>\n",
       "      <th>10</th>\n",
       "      <td>동대문구</td>\n",
       "      <td>308</td>\n",
       "    </tr>\n",
       "    <tr>\n",
       "      <th>11</th>\n",
       "      <td>도봉구</td>\n",
       "      <td>308</td>\n",
       "    </tr>\n",
       "    <tr>\n",
       "      <th>12</th>\n",
       "      <td>양천구</td>\n",
       "      <td>295</td>\n",
       "    </tr>\n",
       "    <tr>\n",
       "      <th>13</th>\n",
       "      <td>영등포구</td>\n",
       "      <td>289</td>\n",
       "    </tr>\n",
       "    <tr>\n",
       "      <th>14</th>\n",
       "      <td>중랑구</td>\n",
       "      <td>283</td>\n",
       "    </tr>\n",
       "    <tr>\n",
       "      <th>15</th>\n",
       "      <td>마포구</td>\n",
       "      <td>282</td>\n",
       "    </tr>\n",
       "    <tr>\n",
       "      <th>16</th>\n",
       "      <td>강동구</td>\n",
       "      <td>270</td>\n",
       "    </tr>\n",
       "    <tr>\n",
       "      <th>17</th>\n",
       "      <td>구로구</td>\n",
       "      <td>269</td>\n",
       "    </tr>\n",
       "    <tr>\n",
       "      <th>18</th>\n",
       "      <td>서대문구</td>\n",
       "      <td>251</td>\n",
       "    </tr>\n",
       "    <tr>\n",
       "      <th>19</th>\n",
       "      <td>성동구</td>\n",
       "      <td>220</td>\n",
       "    </tr>\n",
       "    <tr>\n",
       "      <th>20</th>\n",
       "      <td>용산구</td>\n",
       "      <td>219</td>\n",
       "    </tr>\n",
       "    <tr>\n",
       "      <th>21</th>\n",
       "      <td>강북구</td>\n",
       "      <td>188</td>\n",
       "    </tr>\n",
       "    <tr>\n",
       "      <th>22</th>\n",
       "      <td>광진구</td>\n",
       "      <td>178</td>\n",
       "    </tr>\n",
       "    <tr>\n",
       "      <th>23</th>\n",
       "      <td>기타</td>\n",
       "      <td>172</td>\n",
       "    </tr>\n",
       "    <tr>\n",
       "      <th>24</th>\n",
       "      <td>종로구</td>\n",
       "      <td>125</td>\n",
       "    </tr>\n",
       "    <tr>\n",
       "      <th>25</th>\n",
       "      <td>금천구</td>\n",
       "      <td>117</td>\n",
       "    </tr>\n",
       "    <tr>\n",
       "      <th>26</th>\n",
       "      <td>중구</td>\n",
       "      <td>107</td>\n",
       "    </tr>\n",
       "    <tr>\n",
       "      <th>27</th>\n",
       "      <td>종랑구</td>\n",
       "      <td>1</td>\n",
       "    </tr>\n",
       "    <tr>\n",
       "      <th>28</th>\n",
       "      <td>경기도</td>\n",
       "      <td>1</td>\n",
       "    </tr>\n",
       "  </tbody>\n",
       "</table>\n",
       "</div>"
      ],
      "text/plain": [
       "       구  거주지\n",
       "0    송파구  599\n",
       "1    강서구  573\n",
       "2    관악구  532\n",
       "3    강남구  494\n",
       "4    타시도  477\n",
       "5    노원구  458\n",
       "6    성북구  453\n",
       "7    서초구  450\n",
       "8    동작구  382\n",
       "9    은평구  351\n",
       "10  동대문구  308\n",
       "11   도봉구  308\n",
       "12   양천구  295\n",
       "13  영등포구  289\n",
       "14   중랑구  283\n",
       "15   마포구  282\n",
       "16   강동구  270\n",
       "17   구로구  269\n",
       "18  서대문구  251\n",
       "19   성동구  220\n",
       "20   용산구  219\n",
       "21   강북구  188\n",
       "22   광진구  178\n",
       "23    기타  172\n",
       "24   종로구  125\n",
       "25   금천구  117\n",
       "26    중구  107\n",
       "27   종랑구    1\n",
       "28   경기도    1"
      ]
     },
     "execution_count": 117,
     "metadata": {},
     "output_type": "execute_result"
    }
   ],
   "source": [
    "# 구를 전처리 하기 쉽게 컬럼으로 변환하기 위해 reset_index 로 변환합니다.\n",
    "\n",
    "df_gu = gu_count.reset_index()\n",
    "df_gu.columns = [\"구\",\"거주지\"]\n",
    "df_gu"
   ]
  },
  {
   "cell_type": "code",
   "execution_count": 118,
   "metadata": {},
   "outputs": [
    {
     "data": {
      "text/html": [
       "<div>\n",
       "<style scoped>\n",
       "    .dataframe tbody tr th:only-of-type {\n",
       "        vertical-align: middle;\n",
       "    }\n",
       "\n",
       "    .dataframe tbody tr th {\n",
       "        vertical-align: top;\n",
       "    }\n",
       "\n",
       "    .dataframe thead th {\n",
       "        text-align: right;\n",
       "    }\n",
       "</style>\n",
       "<table border=\"1\" class=\"dataframe\">\n",
       "  <thead>\n",
       "    <tr style=\"text-align: right;\">\n",
       "      <th></th>\n",
       "      <th>구</th>\n",
       "      <th>거주지</th>\n",
       "    </tr>\n",
       "  </thead>\n",
       "  <tbody>\n",
       "    <tr>\n",
       "      <th>4</th>\n",
       "      <td>타시도</td>\n",
       "      <td>477</td>\n",
       "    </tr>\n",
       "    <tr>\n",
       "      <th>23</th>\n",
       "      <td>기타</td>\n",
       "      <td>172</td>\n",
       "    </tr>\n",
       "    <tr>\n",
       "      <th>28</th>\n",
       "      <td>경기도</td>\n",
       "      <td>1</td>\n",
       "    </tr>\n",
       "  </tbody>\n",
       "</table>\n",
       "</div>"
      ],
      "text/plain": [
       "      구  거주지\n",
       "4   타시도  477\n",
       "23   기타  172\n",
       "28  경기도    1"
      ]
     },
     "execution_count": 118,
     "metadata": {},
     "output_type": "execute_result"
    }
   ],
   "source": [
    "#isin([찾고자하는 리스트값])\n",
    "#- 표시는 not을 의미\n",
    "df_gu[~df_gu[\"구\"].isin(gu)]"
   ]
  },
  {
   "cell_type": "code",
   "execution_count": 121,
   "metadata": {},
   "outputs": [],
   "source": [
    "# 서울에서 확진 받은 사람 중 서울 vs 타지역을 비교해 보기 위해\n",
    "# \"지역\"이라는 새로운 컬럼을 만들어 서울지역이 아니라면 \"타지역\" 이라는 값을 넣어줍니다. \n",
    "# .loc[행인덱스]\n",
    "# .loc[행, 열]\n",
    "# .loc[조건, 열]\n",
    "# df.loc[~df[\"거주지\"].isin(gu)]\n",
    "# df.loc[df[\"지역\"].isnull(), \"지역\"] = \"타지역\"\n",
    "df_gu.loc[df_gu[\"구\"] == \"종랑구\", \"구\"] = \"중랑구\"\n",
    "df_gu.loc[df_gu[\"구\"] == \"타시도\", \"구\"] = \"타시도\"\n",
    "df_gu.loc[df_gu[\"구\"] == \"기타\", \"구\"] = \"타시도\"\n",
    "df_gu.loc[df_gu[\"구\"] == \"경기도\", \"구\"] = \"타시도\""
   ]
  },
  {
   "cell_type": "code",
   "execution_count": 120,
   "metadata": {
    "scrolled": true
   },
   "outputs": [
    {
     "ename": "KeyError",
     "evalue": "'지역'",
     "output_type": "error",
     "traceback": [
      "\u001b[1;31m---------------------------------------------------------------------------\u001b[0m",
      "\u001b[1;31mKeyError\u001b[0m                                  Traceback (most recent call last)",
      "\u001b[1;32m~\\anaconda3\\lib\\site-packages\\pandas\\core\\indexes\\base.py\u001b[0m in \u001b[0;36mget_loc\u001b[1;34m(self, key, method, tolerance)\u001b[0m\n\u001b[0;32m   2894\u001b[0m             \u001b[1;32mtry\u001b[0m\u001b[1;33m:\u001b[0m\u001b[1;33m\u001b[0m\u001b[1;33m\u001b[0m\u001b[0m\n\u001b[1;32m-> 2895\u001b[1;33m                 \u001b[1;32mreturn\u001b[0m \u001b[0mself\u001b[0m\u001b[1;33m.\u001b[0m\u001b[0m_engine\u001b[0m\u001b[1;33m.\u001b[0m\u001b[0mget_loc\u001b[0m\u001b[1;33m(\u001b[0m\u001b[0mcasted_key\u001b[0m\u001b[1;33m)\u001b[0m\u001b[1;33m\u001b[0m\u001b[1;33m\u001b[0m\u001b[0m\n\u001b[0m\u001b[0;32m   2896\u001b[0m             \u001b[1;32mexcept\u001b[0m \u001b[0mKeyError\u001b[0m \u001b[1;32mas\u001b[0m \u001b[0merr\u001b[0m\u001b[1;33m:\u001b[0m\u001b[1;33m\u001b[0m\u001b[1;33m\u001b[0m\u001b[0m\n",
      "\u001b[1;32mpandas\\_libs\\index.pyx\u001b[0m in \u001b[0;36mpandas._libs.index.IndexEngine.get_loc\u001b[1;34m()\u001b[0m\n",
      "\u001b[1;32mpandas\\_libs\\index.pyx\u001b[0m in \u001b[0;36mpandas._libs.index.IndexEngine.get_loc\u001b[1;34m()\u001b[0m\n",
      "\u001b[1;32mpandas\\_libs\\hashtable_class_helper.pxi\u001b[0m in \u001b[0;36mpandas._libs.hashtable.PyObjectHashTable.get_item\u001b[1;34m()\u001b[0m\n",
      "\u001b[1;32mpandas\\_libs\\hashtable_class_helper.pxi\u001b[0m in \u001b[0;36mpandas._libs.hashtable.PyObjectHashTable.get_item\u001b[1;34m()\u001b[0m\n",
      "\u001b[1;31mKeyError\u001b[0m: '지역'",
      "\nThe above exception was the direct cause of the following exception:\n",
      "\u001b[1;31mKeyError\u001b[0m                                  Traceback (most recent call last)",
      "\u001b[1;32m<ipython-input-120-d1448c14fb64>\u001b[0m in \u001b[0;36m<module>\u001b[1;34m\u001b[0m\n\u001b[0;32m      2\u001b[0m \u001b[1;31m# 함수 혹은 익명함수를 사용하는 방법으로 \"타지역\" 값을 만들 수도 있습니다.\u001b[0m\u001b[1;33m\u001b[0m\u001b[1;33m\u001b[0m\u001b[1;33m\u001b[0m\u001b[0m\n\u001b[0;32m      3\u001b[0m \u001b[1;31m# df[\"지역\"]\u001b[0m\u001b[1;33m\u001b[0m\u001b[1;33m\u001b[0m\u001b[1;33m\u001b[0m\u001b[0m\n\u001b[1;32m----> 4\u001b[1;33m \u001b[0mdf\u001b[0m\u001b[1;33m.\u001b[0m\u001b[0mloc\u001b[0m\u001b[1;33m[\u001b[0m\u001b[0mdf\u001b[0m\u001b[1;33m[\u001b[0m\u001b[1;34m\"지역\"\u001b[0m\u001b[1;33m]\u001b[0m \u001b[1;33m==\u001b[0m \u001b[1;34m\"종랑구\"\u001b[0m\u001b[1;33m,\u001b[0m \u001b[1;34m\"지역\"\u001b[0m\u001b[1;33m]\u001b[0m \u001b[1;33m=\u001b[0m \u001b[1;34m\"중랑구\"\u001b[0m\u001b[1;33m\u001b[0m\u001b[1;33m\u001b[0m\u001b[0m\n\u001b[0m\u001b[0;32m      5\u001b[0m \u001b[0mdf\u001b[0m\u001b[1;33m.\u001b[0m\u001b[0mloc\u001b[0m\u001b[1;33m[\u001b[0m\u001b[0mdf\u001b[0m\u001b[1;33m[\u001b[0m\u001b[1;34m\"지역\"\u001b[0m\u001b[1;33m]\u001b[0m \u001b[1;33m==\u001b[0m \u001b[1;34m\"타시도\"\u001b[0m\u001b[1;33m,\u001b[0m \u001b[1;34m\"지역\"\u001b[0m\u001b[1;33m]\u001b[0m \u001b[1;33m=\u001b[0m \u001b[1;34m\"타시도\"\u001b[0m\u001b[1;33m\u001b[0m\u001b[1;33m\u001b[0m\u001b[0m\n\u001b[0;32m      6\u001b[0m \u001b[0mdf\u001b[0m\u001b[1;33m.\u001b[0m\u001b[0mloc\u001b[0m\u001b[1;33m[\u001b[0m\u001b[0mdf\u001b[0m\u001b[1;33m[\u001b[0m\u001b[1;34m\"지역\"\u001b[0m\u001b[1;33m]\u001b[0m \u001b[1;33m==\u001b[0m \u001b[1;34m\"기타\"\u001b[0m\u001b[1;33m,\u001b[0m \u001b[1;34m\"지역\"\u001b[0m\u001b[1;33m]\u001b[0m \u001b[1;33m=\u001b[0m \u001b[1;34m\"타시도\"\u001b[0m\u001b[1;33m\u001b[0m\u001b[1;33m\u001b[0m\u001b[0m\n",
      "\u001b[1;32m~\\anaconda3\\lib\\site-packages\\pandas\\core\\frame.py\u001b[0m in \u001b[0;36m__getitem__\u001b[1;34m(self, key)\u001b[0m\n\u001b[0;32m   2900\u001b[0m             \u001b[1;32mif\u001b[0m \u001b[0mself\u001b[0m\u001b[1;33m.\u001b[0m\u001b[0mcolumns\u001b[0m\u001b[1;33m.\u001b[0m\u001b[0mnlevels\u001b[0m \u001b[1;33m>\u001b[0m \u001b[1;36m1\u001b[0m\u001b[1;33m:\u001b[0m\u001b[1;33m\u001b[0m\u001b[1;33m\u001b[0m\u001b[0m\n\u001b[0;32m   2901\u001b[0m                 \u001b[1;32mreturn\u001b[0m \u001b[0mself\u001b[0m\u001b[1;33m.\u001b[0m\u001b[0m_getitem_multilevel\u001b[0m\u001b[1;33m(\u001b[0m\u001b[0mkey\u001b[0m\u001b[1;33m)\u001b[0m\u001b[1;33m\u001b[0m\u001b[1;33m\u001b[0m\u001b[0m\n\u001b[1;32m-> 2902\u001b[1;33m             \u001b[0mindexer\u001b[0m \u001b[1;33m=\u001b[0m \u001b[0mself\u001b[0m\u001b[1;33m.\u001b[0m\u001b[0mcolumns\u001b[0m\u001b[1;33m.\u001b[0m\u001b[0mget_loc\u001b[0m\u001b[1;33m(\u001b[0m\u001b[0mkey\u001b[0m\u001b[1;33m)\u001b[0m\u001b[1;33m\u001b[0m\u001b[1;33m\u001b[0m\u001b[0m\n\u001b[0m\u001b[0;32m   2903\u001b[0m             \u001b[1;32mif\u001b[0m \u001b[0mis_integer\u001b[0m\u001b[1;33m(\u001b[0m\u001b[0mindexer\u001b[0m\u001b[1;33m)\u001b[0m\u001b[1;33m:\u001b[0m\u001b[1;33m\u001b[0m\u001b[1;33m\u001b[0m\u001b[0m\n\u001b[0;32m   2904\u001b[0m                 \u001b[0mindexer\u001b[0m \u001b[1;33m=\u001b[0m \u001b[1;33m[\u001b[0m\u001b[0mindexer\u001b[0m\u001b[1;33m]\u001b[0m\u001b[1;33m\u001b[0m\u001b[1;33m\u001b[0m\u001b[0m\n",
      "\u001b[1;32m~\\anaconda3\\lib\\site-packages\\pandas\\core\\indexes\\base.py\u001b[0m in \u001b[0;36mget_loc\u001b[1;34m(self, key, method, tolerance)\u001b[0m\n\u001b[0;32m   2895\u001b[0m                 \u001b[1;32mreturn\u001b[0m \u001b[0mself\u001b[0m\u001b[1;33m.\u001b[0m\u001b[0m_engine\u001b[0m\u001b[1;33m.\u001b[0m\u001b[0mget_loc\u001b[0m\u001b[1;33m(\u001b[0m\u001b[0mcasted_key\u001b[0m\u001b[1;33m)\u001b[0m\u001b[1;33m\u001b[0m\u001b[1;33m\u001b[0m\u001b[0m\n\u001b[0;32m   2896\u001b[0m             \u001b[1;32mexcept\u001b[0m \u001b[0mKeyError\u001b[0m \u001b[1;32mas\u001b[0m \u001b[0merr\u001b[0m\u001b[1;33m:\u001b[0m\u001b[1;33m\u001b[0m\u001b[1;33m\u001b[0m\u001b[0m\n\u001b[1;32m-> 2897\u001b[1;33m                 \u001b[1;32mraise\u001b[0m \u001b[0mKeyError\u001b[0m\u001b[1;33m(\u001b[0m\u001b[0mkey\u001b[0m\u001b[1;33m)\u001b[0m \u001b[1;32mfrom\u001b[0m \u001b[0merr\u001b[0m\u001b[1;33m\u001b[0m\u001b[1;33m\u001b[0m\u001b[0m\n\u001b[0m\u001b[0;32m   2898\u001b[0m \u001b[1;33m\u001b[0m\u001b[0m\n\u001b[0;32m   2899\u001b[0m         \u001b[1;32mif\u001b[0m \u001b[0mtolerance\u001b[0m \u001b[1;32mis\u001b[0m \u001b[1;32mnot\u001b[0m \u001b[1;32mNone\u001b[0m\u001b[1;33m:\u001b[0m\u001b[1;33m\u001b[0m\u001b[1;33m\u001b[0m\u001b[0m\n",
      "\u001b[1;31mKeyError\u001b[0m: '지역'"
     ]
    }
   ],
   "source": [
    "# 위의 방법으로 할수도 있고 아래의 방법으로 만들수도 있습니다.\n",
    "# 함수 혹은 익명함수를 사용하는 방법으로 \"타지역\" 값을 만들 수도 있습니다.\n",
    "# df[\"지역\"]\n",
    "df.loc[df[\"지역\"] == \"종랑구\", \"지역\"] = \"중랑구\"\n",
    "df.loc[df[\"지역\"] == \"타시도\", \"지역\"] = \"타시도\"\n",
    "df.loc[df[\"지역\"] == \"기타\", \"지역\"] = \"타시도\"\n",
    "df.loc[df[\"지역\"] == \"경기도\", \"지역\"] = \"타시도\""
   ]
  },
  {
   "cell_type": "code",
   "execution_count": null,
   "metadata": {},
   "outputs": [],
   "source": [
    "# \"지역\" 컬럼으로 확진자 빈도수를 구합니다.\n",
    "# gu_etc_count\n"
   ]
  },
  {
   "cell_type": "code",
   "execution_count": null,
   "metadata": {},
   "outputs": [],
   "source": [
    "# 위에서 구한 빈도수를 막대그래프로 그립니다.\n"
   ]
  },
  {
   "cell_type": "markdown",
   "metadata": {},
   "source": [
    "## 접촉력"
   ]
  },
  {
   "cell_type": "code",
   "execution_count": 122,
   "metadata": {},
   "outputs": [
    {
     "data": {
      "text/html": [
       "<div>\n",
       "<style scoped>\n",
       "    .dataframe tbody tr th:only-of-type {\n",
       "        vertical-align: middle;\n",
       "    }\n",
       "\n",
       "    .dataframe tbody tr th {\n",
       "        vertical-align: top;\n",
       "    }\n",
       "\n",
       "    .dataframe thead th {\n",
       "        text-align: right;\n",
       "    }\n",
       "</style>\n",
       "<table border=\"1\" class=\"dataframe\">\n",
       "  <thead>\n",
       "    <tr style=\"text-align: right;\">\n",
       "      <th></th>\n",
       "      <th>연번</th>\n",
       "      <th>환자</th>\n",
       "      <th>확진일</th>\n",
       "      <th>거주지</th>\n",
       "      <th>여행력</th>\n",
       "      <th>접촉력</th>\n",
       "      <th>퇴원현황</th>\n",
       "      <th>확진일자</th>\n",
       "      <th>월</th>\n",
       "      <th>주</th>\n",
       "    </tr>\n",
       "  </thead>\n",
       "  <tbody>\n",
       "    <tr>\n",
       "      <th>4694</th>\n",
       "      <td>3958</td>\n",
       "      <td>20163</td>\n",
       "      <td>8.31.</td>\n",
       "      <td>양천구</td>\n",
       "      <td>-</td>\n",
       "      <td>확인 중</td>\n",
       "      <td>퇴원</td>\n",
       "      <td>2020-08-31</td>\n",
       "      <td>8</td>\n",
       "      <td>36</td>\n",
       "    </tr>\n",
       "    <tr>\n",
       "      <th>4695</th>\n",
       "      <td>3957</td>\n",
       "      <td>20141</td>\n",
       "      <td>8.31.</td>\n",
       "      <td>은평구</td>\n",
       "      <td>-</td>\n",
       "      <td>확인 중</td>\n",
       "      <td>퇴원</td>\n",
       "      <td>2020-08-31</td>\n",
       "      <td>8</td>\n",
       "      <td>36</td>\n",
       "    </tr>\n",
       "    <tr>\n",
       "      <th>4696</th>\n",
       "      <td>3956</td>\n",
       "      <td>20159</td>\n",
       "      <td>8.31.</td>\n",
       "      <td>용산구</td>\n",
       "      <td>-</td>\n",
       "      <td>확인 중</td>\n",
       "      <td>퇴원</td>\n",
       "      <td>2020-08-31</td>\n",
       "      <td>8</td>\n",
       "      <td>36</td>\n",
       "    </tr>\n",
       "    <tr>\n",
       "      <th>4700</th>\n",
       "      <td>3952</td>\n",
       "      <td>20130</td>\n",
       "      <td>8.31.</td>\n",
       "      <td>도봉구</td>\n",
       "      <td>-</td>\n",
       "      <td>확인 중</td>\n",
       "      <td>퇴원</td>\n",
       "      <td>2020-08-31</td>\n",
       "      <td>8</td>\n",
       "      <td>36</td>\n",
       "    </tr>\n",
       "    <tr>\n",
       "      <th>4706</th>\n",
       "      <td>3946</td>\n",
       "      <td>20039</td>\n",
       "      <td>8.31.</td>\n",
       "      <td>타시도</td>\n",
       "      <td>-</td>\n",
       "      <td>확인 중</td>\n",
       "      <td>퇴원</td>\n",
       "      <td>2020-08-31</td>\n",
       "      <td>8</td>\n",
       "      <td>36</td>\n",
       "    </tr>\n",
       "    <tr>\n",
       "      <th>...</th>\n",
       "      <td>...</td>\n",
       "      <td>...</td>\n",
       "      <td>...</td>\n",
       "      <td>...</td>\n",
       "      <td>...</td>\n",
       "      <td>...</td>\n",
       "      <td>...</td>\n",
       "      <td>...</td>\n",
       "      <td>...</td>\n",
       "      <td>...</td>\n",
       "    </tr>\n",
       "    <tr>\n",
       "      <th>8596</th>\n",
       "      <td>56</td>\n",
       "      <td>1768</td>\n",
       "      <td>2.25.</td>\n",
       "      <td>은평구</td>\n",
       "      <td>-</td>\n",
       "      <td>확인중</td>\n",
       "      <td>퇴원</td>\n",
       "      <td>2020-02-25</td>\n",
       "      <td>2</td>\n",
       "      <td>9</td>\n",
       "    </tr>\n",
       "    <tr>\n",
       "      <th>8610</th>\n",
       "      <td>42</td>\n",
       "      <td>1370</td>\n",
       "      <td>2.25.</td>\n",
       "      <td>송파구</td>\n",
       "      <td>-</td>\n",
       "      <td>확인중</td>\n",
       "      <td>퇴원</td>\n",
       "      <td>2020-02-25</td>\n",
       "      <td>2</td>\n",
       "      <td>9</td>\n",
       "    </tr>\n",
       "    <tr>\n",
       "      <th>8613</th>\n",
       "      <td>39</td>\n",
       "      <td>924</td>\n",
       "      <td>2.25.</td>\n",
       "      <td>금천구</td>\n",
       "      <td>-</td>\n",
       "      <td>확인중</td>\n",
       "      <td>퇴원</td>\n",
       "      <td>2020-02-25</td>\n",
       "      <td>2</td>\n",
       "      <td>9</td>\n",
       "    </tr>\n",
       "    <tr>\n",
       "      <th>8614</th>\n",
       "      <td>38</td>\n",
       "      <td>907</td>\n",
       "      <td>2.25.</td>\n",
       "      <td>타시도</td>\n",
       "      <td>-</td>\n",
       "      <td>확인중</td>\n",
       "      <td>퇴원</td>\n",
       "      <td>2020-02-25</td>\n",
       "      <td>2</td>\n",
       "      <td>9</td>\n",
       "    </tr>\n",
       "    <tr>\n",
       "      <th>8617</th>\n",
       "      <td>35</td>\n",
       "      <td>870</td>\n",
       "      <td>2.25.</td>\n",
       "      <td>은평구</td>\n",
       "      <td>-</td>\n",
       "      <td>확인중</td>\n",
       "      <td>퇴원</td>\n",
       "      <td>2020-02-25</td>\n",
       "      <td>2</td>\n",
       "      <td>9</td>\n",
       "    </tr>\n",
       "  </tbody>\n",
       "</table>\n",
       "<p>628 rows × 10 columns</p>\n",
       "</div>"
      ],
      "text/plain": [
       "        연번     환자    확진일  거주지 여행력   접촉력 퇴원현황       확진일자  월   주\n",
       "4694  3958  20163  8.31.  양천구   -  확인 중   퇴원 2020-08-31  8  36\n",
       "4695  3957  20141  8.31.  은평구   -  확인 중   퇴원 2020-08-31  8  36\n",
       "4696  3956  20159  8.31.  용산구   -  확인 중   퇴원 2020-08-31  8  36\n",
       "4700  3952  20130  8.31.  도봉구   -  확인 중   퇴원 2020-08-31  8  36\n",
       "4706  3946  20039  8.31.  타시도   -  확인 중   퇴원 2020-08-31  8  36\n",
       "...    ...    ...    ...  ...  ..   ...  ...        ... ..  ..\n",
       "8596    56   1768  2.25.  은평구   -   확인중   퇴원 2020-02-25  2   9\n",
       "8610    42   1370  2.25.  송파구   -   확인중   퇴원 2020-02-25  2   9\n",
       "8613    39    924  2.25.  금천구   -   확인중   퇴원 2020-02-25  2   9\n",
       "8614    38    907  2.25.  타시도   -   확인중   퇴원 2020-02-25  2   9\n",
       "8617    35    870  2.25.  은평구   -   확인중   퇴원 2020-02-25  2   9\n",
       "\n",
       "[628 rows x 10 columns]"
      ]
     },
     "execution_count": 122,
     "metadata": {},
     "output_type": "execute_result"
    }
   ],
   "source": [
    "# 접촉력 빈도수를 구합니다.\n"
   ]
  },
  {
   "cell_type": "code",
   "execution_count": null,
   "metadata": {},
   "outputs": [],
   "source": [
    "# 접촉력의 unique 값만 구합니다.\n"
   ]
  },
  {
   "cell_type": "code",
   "execution_count": 123,
   "metadata": {},
   "outputs": [
    {
     "data": {
      "text/html": [
       "<div>\n",
       "<style scoped>\n",
       "    .dataframe tbody tr th:only-of-type {\n",
       "        vertical-align: middle;\n",
       "    }\n",
       "\n",
       "    .dataframe tbody tr th {\n",
       "        vertical-align: top;\n",
       "    }\n",
       "\n",
       "    .dataframe thead th {\n",
       "        text-align: right;\n",
       "    }\n",
       "</style>\n",
       "<table border=\"1\" class=\"dataframe\">\n",
       "  <thead>\n",
       "    <tr style=\"text-align: right;\">\n",
       "      <th></th>\n",
       "      <th>연번</th>\n",
       "      <th>환자</th>\n",
       "      <th>확진일</th>\n",
       "      <th>거주지</th>\n",
       "      <th>여행력</th>\n",
       "      <th>접촉력</th>\n",
       "      <th>퇴원현황</th>\n",
       "      <th>확진일자</th>\n",
       "      <th>월</th>\n",
       "      <th>주</th>\n",
       "    </tr>\n",
       "  </thead>\n",
       "  <tbody>\n",
       "    <tr>\n",
       "      <th>4694</th>\n",
       "      <td>3958</td>\n",
       "      <td>20163</td>\n",
       "      <td>8.31.</td>\n",
       "      <td>양천구</td>\n",
       "      <td>-</td>\n",
       "      <td>확인 중</td>\n",
       "      <td>퇴원</td>\n",
       "      <td>2020-08-31</td>\n",
       "      <td>8</td>\n",
       "      <td>36</td>\n",
       "    </tr>\n",
       "    <tr>\n",
       "      <th>4695</th>\n",
       "      <td>3957</td>\n",
       "      <td>20141</td>\n",
       "      <td>8.31.</td>\n",
       "      <td>은평구</td>\n",
       "      <td>-</td>\n",
       "      <td>확인 중</td>\n",
       "      <td>퇴원</td>\n",
       "      <td>2020-08-31</td>\n",
       "      <td>8</td>\n",
       "      <td>36</td>\n",
       "    </tr>\n",
       "    <tr>\n",
       "      <th>4696</th>\n",
       "      <td>3956</td>\n",
       "      <td>20159</td>\n",
       "      <td>8.31.</td>\n",
       "      <td>용산구</td>\n",
       "      <td>-</td>\n",
       "      <td>확인 중</td>\n",
       "      <td>퇴원</td>\n",
       "      <td>2020-08-31</td>\n",
       "      <td>8</td>\n",
       "      <td>36</td>\n",
       "    </tr>\n",
       "    <tr>\n",
       "      <th>4700</th>\n",
       "      <td>3952</td>\n",
       "      <td>20130</td>\n",
       "      <td>8.31.</td>\n",
       "      <td>도봉구</td>\n",
       "      <td>-</td>\n",
       "      <td>확인 중</td>\n",
       "      <td>퇴원</td>\n",
       "      <td>2020-08-31</td>\n",
       "      <td>8</td>\n",
       "      <td>36</td>\n",
       "    </tr>\n",
       "    <tr>\n",
       "      <th>4706</th>\n",
       "      <td>3946</td>\n",
       "      <td>20039</td>\n",
       "      <td>8.31.</td>\n",
       "      <td>타시도</td>\n",
       "      <td>-</td>\n",
       "      <td>확인 중</td>\n",
       "      <td>퇴원</td>\n",
       "      <td>2020-08-31</td>\n",
       "      <td>8</td>\n",
       "      <td>36</td>\n",
       "    </tr>\n",
       "    <tr>\n",
       "      <th>...</th>\n",
       "      <td>...</td>\n",
       "      <td>...</td>\n",
       "      <td>...</td>\n",
       "      <td>...</td>\n",
       "      <td>...</td>\n",
       "      <td>...</td>\n",
       "      <td>...</td>\n",
       "      <td>...</td>\n",
       "      <td>...</td>\n",
       "      <td>...</td>\n",
       "    </tr>\n",
       "    <tr>\n",
       "      <th>8596</th>\n",
       "      <td>56</td>\n",
       "      <td>1768</td>\n",
       "      <td>2.25.</td>\n",
       "      <td>은평구</td>\n",
       "      <td>-</td>\n",
       "      <td>확인중</td>\n",
       "      <td>퇴원</td>\n",
       "      <td>2020-02-25</td>\n",
       "      <td>2</td>\n",
       "      <td>9</td>\n",
       "    </tr>\n",
       "    <tr>\n",
       "      <th>8610</th>\n",
       "      <td>42</td>\n",
       "      <td>1370</td>\n",
       "      <td>2.25.</td>\n",
       "      <td>송파구</td>\n",
       "      <td>-</td>\n",
       "      <td>확인중</td>\n",
       "      <td>퇴원</td>\n",
       "      <td>2020-02-25</td>\n",
       "      <td>2</td>\n",
       "      <td>9</td>\n",
       "    </tr>\n",
       "    <tr>\n",
       "      <th>8613</th>\n",
       "      <td>39</td>\n",
       "      <td>924</td>\n",
       "      <td>2.25.</td>\n",
       "      <td>금천구</td>\n",
       "      <td>-</td>\n",
       "      <td>확인중</td>\n",
       "      <td>퇴원</td>\n",
       "      <td>2020-02-25</td>\n",
       "      <td>2</td>\n",
       "      <td>9</td>\n",
       "    </tr>\n",
       "    <tr>\n",
       "      <th>8614</th>\n",
       "      <td>38</td>\n",
       "      <td>907</td>\n",
       "      <td>2.25.</td>\n",
       "      <td>타시도</td>\n",
       "      <td>-</td>\n",
       "      <td>확인중</td>\n",
       "      <td>퇴원</td>\n",
       "      <td>2020-02-25</td>\n",
       "      <td>2</td>\n",
       "      <td>9</td>\n",
       "    </tr>\n",
       "    <tr>\n",
       "      <th>8617</th>\n",
       "      <td>35</td>\n",
       "      <td>870</td>\n",
       "      <td>2.25.</td>\n",
       "      <td>은평구</td>\n",
       "      <td>-</td>\n",
       "      <td>확인중</td>\n",
       "      <td>퇴원</td>\n",
       "      <td>2020-02-25</td>\n",
       "      <td>2</td>\n",
       "      <td>9</td>\n",
       "    </tr>\n",
       "  </tbody>\n",
       "</table>\n",
       "<p>628 rows × 10 columns</p>\n",
       "</div>"
      ],
      "text/plain": [
       "        연번     환자    확진일  거주지 여행력   접촉력 퇴원현황       확진일자  월   주\n",
       "4694  3958  20163  8.31.  양천구   -  확인 중   퇴원 2020-08-31  8  36\n",
       "4695  3957  20141  8.31.  은평구   -  확인 중   퇴원 2020-08-31  8  36\n",
       "4696  3956  20159  8.31.  용산구   -  확인 중   퇴원 2020-08-31  8  36\n",
       "4700  3952  20130  8.31.  도봉구   -  확인 중   퇴원 2020-08-31  8  36\n",
       "4706  3946  20039  8.31.  타시도   -  확인 중   퇴원 2020-08-31  8  36\n",
       "...    ...    ...    ...  ...  ..   ...  ...        ... ..  ..\n",
       "8596    56   1768  2.25.  은평구   -   확인중   퇴원 2020-02-25  2   9\n",
       "8610    42   1370  2.25.  송파구   -   확인중   퇴원 2020-02-25  2   9\n",
       "8613    39    924  2.25.  금천구   -   확인중   퇴원 2020-02-25  2   9\n",
       "8614    38    907  2.25.  타시도   -   확인중   퇴원 2020-02-25  2   9\n",
       "8617    35    870  2.25.  은평구   -   확인중   퇴원 2020-02-25  2   9\n",
       "\n",
       "[628 rows x 10 columns]"
      ]
     },
     "execution_count": 123,
     "metadata": {},
     "output_type": "execute_result"
    }
   ],
   "source": [
    "# \"확인\" 이 들어가는 접촉력만 찾습니다.\n",
    "df[df[\"접촉력\"].str.contains(\"확인\")]"
   ]
  },
  {
   "cell_type": "code",
   "execution_count": 126,
   "metadata": {},
   "outputs": [],
   "source": [
    "# '확인 중', '확인중' => \"확인 중\" 으로 변경합니다.\n",
    "df.loc[df[\"접촉력\"].str.contains(\"확인|조사\"),\"접촉력\"]=\"확인 중\""
   ]
  },
  {
   "cell_type": "code",
   "execution_count": 127,
   "metadata": {},
   "outputs": [
    {
     "data": {
      "text/html": [
       "<div>\n",
       "<style scoped>\n",
       "    .dataframe tbody tr th:only-of-type {\n",
       "        vertical-align: middle;\n",
       "    }\n",
       "\n",
       "    .dataframe tbody tr th {\n",
       "        vertical-align: top;\n",
       "    }\n",
       "\n",
       "    .dataframe thead th {\n",
       "        text-align: right;\n",
       "    }\n",
       "</style>\n",
       "<table border=\"1\" class=\"dataframe\">\n",
       "  <thead>\n",
       "    <tr style=\"text-align: right;\">\n",
       "      <th></th>\n",
       "      <th>연번</th>\n",
       "      <th>환자</th>\n",
       "      <th>확진일</th>\n",
       "      <th>거주지</th>\n",
       "      <th>여행력</th>\n",
       "      <th>접촉력</th>\n",
       "      <th>퇴원현황</th>\n",
       "      <th>확진일자</th>\n",
       "      <th>월</th>\n",
       "      <th>주</th>\n",
       "    </tr>\n",
       "  </thead>\n",
       "  <tbody>\n",
       "    <tr>\n",
       "      <th>1</th>\n",
       "      <td>8651</td>\n",
       "      <td>33756</td>\n",
       "      <td>11.28.</td>\n",
       "      <td>타시도</td>\n",
       "      <td>-</td>\n",
       "      <td>확인 중</td>\n",
       "      <td>NaN</td>\n",
       "      <td>2020-11-28</td>\n",
       "      <td>11</td>\n",
       "      <td>48</td>\n",
       "    </tr>\n",
       "    <tr>\n",
       "      <th>5</th>\n",
       "      <td>8647</td>\n",
       "      <td>33769</td>\n",
       "      <td>11.28.</td>\n",
       "      <td>서초구</td>\n",
       "      <td>-</td>\n",
       "      <td>확인 중</td>\n",
       "      <td>NaN</td>\n",
       "      <td>2020-11-28</td>\n",
       "      <td>11</td>\n",
       "      <td>48</td>\n",
       "    </tr>\n",
       "    <tr>\n",
       "      <th>10</th>\n",
       "      <td>8642</td>\n",
       "      <td>33764</td>\n",
       "      <td>11.28.</td>\n",
       "      <td>서초구</td>\n",
       "      <td>-</td>\n",
       "      <td>확인 중</td>\n",
       "      <td>NaN</td>\n",
       "      <td>2020-11-28</td>\n",
       "      <td>11</td>\n",
       "      <td>48</td>\n",
       "    </tr>\n",
       "    <tr>\n",
       "      <th>18</th>\n",
       "      <td>8634</td>\n",
       "      <td>33733</td>\n",
       "      <td>11.28.</td>\n",
       "      <td>양천구</td>\n",
       "      <td>-</td>\n",
       "      <td>확인 중</td>\n",
       "      <td>NaN</td>\n",
       "      <td>2020-11-28</td>\n",
       "      <td>11</td>\n",
       "      <td>48</td>\n",
       "    </tr>\n",
       "    <tr>\n",
       "      <th>35</th>\n",
       "      <td>8617</td>\n",
       "      <td>33726</td>\n",
       "      <td>11.28.</td>\n",
       "      <td>강남구</td>\n",
       "      <td>-</td>\n",
       "      <td>확인 중</td>\n",
       "      <td>NaN</td>\n",
       "      <td>2020-11-28</td>\n",
       "      <td>11</td>\n",
       "      <td>48</td>\n",
       "    </tr>\n",
       "    <tr>\n",
       "      <th>...</th>\n",
       "      <td>...</td>\n",
       "      <td>...</td>\n",
       "      <td>...</td>\n",
       "      <td>...</td>\n",
       "      <td>...</td>\n",
       "      <td>...</td>\n",
       "      <td>...</td>\n",
       "      <td>...</td>\n",
       "      <td>...</td>\n",
       "      <td>...</td>\n",
       "    </tr>\n",
       "    <tr>\n",
       "      <th>8596</th>\n",
       "      <td>56</td>\n",
       "      <td>1768</td>\n",
       "      <td>2.25.</td>\n",
       "      <td>은평구</td>\n",
       "      <td>-</td>\n",
       "      <td>확인 중</td>\n",
       "      <td>퇴원</td>\n",
       "      <td>2020-02-25</td>\n",
       "      <td>2</td>\n",
       "      <td>9</td>\n",
       "    </tr>\n",
       "    <tr>\n",
       "      <th>8610</th>\n",
       "      <td>42</td>\n",
       "      <td>1370</td>\n",
       "      <td>2.25.</td>\n",
       "      <td>송파구</td>\n",
       "      <td>-</td>\n",
       "      <td>확인 중</td>\n",
       "      <td>퇴원</td>\n",
       "      <td>2020-02-25</td>\n",
       "      <td>2</td>\n",
       "      <td>9</td>\n",
       "    </tr>\n",
       "    <tr>\n",
       "      <th>8613</th>\n",
       "      <td>39</td>\n",
       "      <td>924</td>\n",
       "      <td>2.25.</td>\n",
       "      <td>금천구</td>\n",
       "      <td>-</td>\n",
       "      <td>확인 중</td>\n",
       "      <td>퇴원</td>\n",
       "      <td>2020-02-25</td>\n",
       "      <td>2</td>\n",
       "      <td>9</td>\n",
       "    </tr>\n",
       "    <tr>\n",
       "      <th>8614</th>\n",
       "      <td>38</td>\n",
       "      <td>907</td>\n",
       "      <td>2.25.</td>\n",
       "      <td>타시도</td>\n",
       "      <td>-</td>\n",
       "      <td>확인 중</td>\n",
       "      <td>퇴원</td>\n",
       "      <td>2020-02-25</td>\n",
       "      <td>2</td>\n",
       "      <td>9</td>\n",
       "    </tr>\n",
       "    <tr>\n",
       "      <th>8617</th>\n",
       "      <td>35</td>\n",
       "      <td>870</td>\n",
       "      <td>2.25.</td>\n",
       "      <td>은평구</td>\n",
       "      <td>-</td>\n",
       "      <td>확인 중</td>\n",
       "      <td>퇴원</td>\n",
       "      <td>2020-02-25</td>\n",
       "      <td>2</td>\n",
       "      <td>9</td>\n",
       "    </tr>\n",
       "  </tbody>\n",
       "</table>\n",
       "<p>1499 rows × 10 columns</p>\n",
       "</div>"
      ],
      "text/plain": [
       "        연번     환자     확진일  거주지 여행력   접촉력 퇴원현황       확진일자   월   주\n",
       "1     8651  33756  11.28.  타시도   -  확인 중  NaN 2020-11-28  11  48\n",
       "5     8647  33769  11.28.  서초구   -  확인 중  NaN 2020-11-28  11  48\n",
       "10    8642  33764  11.28.  서초구   -  확인 중  NaN 2020-11-28  11  48\n",
       "18    8634  33733  11.28.  양천구   -  확인 중  NaN 2020-11-28  11  48\n",
       "35    8617  33726  11.28.  강남구   -  확인 중  NaN 2020-11-28  11  48\n",
       "...    ...    ...     ...  ...  ..   ...  ...        ...  ..  ..\n",
       "8596    56   1768   2.25.  은평구   -  확인 중   퇴원 2020-02-25   2   9\n",
       "8610    42   1370   2.25.  송파구   -  확인 중   퇴원 2020-02-25   2   9\n",
       "8613    39    924   2.25.  금천구   -  확인 중   퇴원 2020-02-25   2   9\n",
       "8614    38    907   2.25.  타시도   -  확인 중   퇴원 2020-02-25   2   9\n",
       "8617    35    870   2.25.  은평구   -  확인 중   퇴원 2020-02-25   2   9\n",
       "\n",
       "[1499 rows x 10 columns]"
      ]
     },
     "execution_count": 127,
     "metadata": {},
     "output_type": "execute_result"
    }
   ],
   "source": [
    "# \"확인\" 이 들어가는 접촉력만 찾습니다.\n",
    "df[df[\"접촉력\"].str.contains(\"확인\")]"
   ]
  },
  {
   "cell_type": "code",
   "execution_count": 128,
   "metadata": {},
   "outputs": [],
   "source": [
    "# 접촉력 빈도수를 시각화 합니다.\n",
    "\n",
    "contact_count = df[\"접촉력\"].value_counts()"
   ]
  },
  {
   "cell_type": "code",
   "execution_count": null,
   "metadata": {},
   "outputs": [],
   "source": [
    "# 상위 15개만 구합니다.\n",
    "# top_contact\n"
   ]
  },
  {
   "cell_type": "code",
   "execution_count": null,
   "metadata": {},
   "outputs": [],
   "source": [
    "# 접촉력 빈도수가 높은 목록에 대한 index 값을 구해옵니다.\n"
   ]
  },
  {
   "cell_type": "code",
   "execution_count": null,
   "metadata": {},
   "outputs": [],
   "source": [
    "# 위에서 구한 top_contact 에 해당되는 데이터만 isin 으로 가져옵니다.\n",
    "# top_group\n"
   ]
  },
  {
   "cell_type": "code",
   "execution_count": null,
   "metadata": {},
   "outputs": [],
   "source": [
    "# 접촉력, 월별 빈도수를 groupby 로 구합니다.\n"
   ]
  },
  {
   "cell_type": "markdown",
   "metadata": {},
   "source": [
    "### 감염경로 불명"
   ]
  },
  {
   "cell_type": "code",
   "execution_count": null,
   "metadata": {},
   "outputs": [],
   "source": [
    "# \"접촉력\" 이 \"확인 중\"인 데이터만 구합니다.\n",
    "\n",
    "# df_unknown\n"
   ]
  },
  {
   "cell_type": "code",
   "execution_count": null,
   "metadata": {},
   "outputs": [],
   "source": [
    "# 감염경로 불명이 어느정도인지 봅니다.\n",
    "# unknown_weekly_case\n"
   ]
  },
  {
   "cell_type": "code",
   "execution_count": null,
   "metadata": {},
   "outputs": [],
   "source": [
    "# 전체 확진수를 value_counts 로 구하고 데이터프레임 형태로 만듭니다.\n",
    "# all_weekly_case\n"
   ]
  },
  {
   "cell_type": "code",
   "execution_count": null,
   "metadata": {},
   "outputs": [],
   "source": [
    "# 전체 확진수를 value_counts 로 구하고 데이터프레임 형태로 만듭니다.\n",
    "# unknown_weekly_case\n"
   ]
  },
  {
   "cell_type": "code",
   "execution_count": null,
   "metadata": {},
   "outputs": [],
   "source": [
    "# all_weekly_case 와 unknown_weekly_case 를 비교해 봅니다.\n",
    "\n",
    "# unknown_case\n"
   ]
  },
  {
   "cell_type": "code",
   "execution_count": null,
   "metadata": {},
   "outputs": [],
   "source": [
    "# 위에서 구한 결과를 시각화 합니다.\n"
   ]
  },
  {
   "cell_type": "code",
   "execution_count": null,
   "metadata": {},
   "outputs": [],
   "source": [
    "# 감염경로 \"확인 중\"의 주별 비율\n",
    "\n",
    "# unknown_case\n"
   ]
  },
  {
   "cell_type": "markdown",
   "metadata": {},
   "source": [
    "## 조치사항"
   ]
  },
  {
   "cell_type": "code",
   "execution_count": null,
   "metadata": {},
   "outputs": [],
   "source": [
    "df"
   ]
  },
  {
   "cell_type": "markdown",
   "metadata": {},
   "source": [
    "## 퇴원, 사망여부"
   ]
  },
  {
   "cell_type": "code",
   "execution_count": null,
   "metadata": {},
   "outputs": [],
   "source": [
    "# 조치사항 컬럼을 통해 퇴원과 사망 컬럼을 새로 만듭니다.\n",
    "# 또, 어느 병원에 조치되었는지도 병원 컬럼을 만들어서 담습니다.\n"
   ]
  },
  {
   "cell_type": "code",
   "execution_count": null,
   "metadata": {},
   "outputs": [],
   "source": [
    "# 데이터 수집 시점에서 퇴원하지 못한 환자수\n",
    "\n"
   ]
  },
  {
   "cell_type": "code",
   "execution_count": null,
   "metadata": {},
   "outputs": [],
   "source": [
    "# 퇴원여부 빈도수에 대한 비율을 구합니다.\n"
   ]
  },
  {
   "cell_type": "code",
   "execution_count": null,
   "metadata": {},
   "outputs": [],
   "source": [
    "# 사망여부에 따른 빈도수를 구합니다.\n"
   ]
  },
  {
   "cell_type": "code",
   "execution_count": null,
   "metadata": {},
   "outputs": [],
   "source": [
    "# 사망 여부에 따른 빈도수의 비율을 구합니다.\n"
   ]
  },
  {
   "cell_type": "markdown",
   "metadata": {},
   "source": [
    "## 여행력"
   ]
  },
  {
   "cell_type": "code",
   "execution_count": null,
   "metadata": {},
   "outputs": [],
   "source": [
    "# \"해외\" 라는 컬럼을 만들어 데이터를 전처리 합니다.\n",
    "# \"여행력\"에 \"-\" 문자가 들어가 있으면 결측치로 처리합니다.\n",
    "# df[\"해외\"]\n"
   ]
  },
  {
   "cell_type": "code",
   "execution_count": null,
   "metadata": {},
   "outputs": [],
   "source": [
    "# describe 로 요약을 합니다.\n",
    "# count : 빈도수\n",
    "# unique : 병원수\n",
    "# top : 가장 많은 빈도로 등장하는 텍스트\n",
    "# freq : 가장 많은 빈도의 횟수\n"
   ]
  },
  {
   "cell_type": "markdown",
   "metadata": {},
   "source": [
    "### 여행력이 있는 데이터만 가져와서 서브셋 만들기"
   ]
  },
  {
   "cell_type": "code",
   "execution_count": null,
   "metadata": {},
   "outputs": [],
   "source": [
    "# \"해외\" 컬럼의 값이 결측치가 아닌 데이터만 가져와서 \n",
    "# df_oversea 라는 새로운 데이터프레임에 담습니다.\n",
    "# df_oversea\n"
   ]
  },
  {
   "cell_type": "code",
   "execution_count": null,
   "metadata": {},
   "outputs": [],
   "source": [
    "# 중복되는 지역명이 있는지 확인합니다.\n"
   ]
  },
  {
   "cell_type": "markdown",
   "metadata": {},
   "source": [
    "### 텍스트 데이터 다루기\n",
    "[Working with text data — pandas documentation](https://pandas.pydata.org/pandas-docs/stable/user_guide/text.html#testing-for-strings-that-match-or-contain-a-pattern)"
   ]
  },
  {
   "cell_type": "code",
   "execution_count": null,
   "metadata": {},
   "outputs": [],
   "source": [
    "# 유럽 지역을 방문했다면 유럽이라고 바꿔주기 위해 국가명을 str.contains 로 검색하기 위한 형태로 만듭니다.\n",
    "europe = \"체코, 헝가리, 오스트리아, 이탈리아, 프랑스, 모로코, 독일, 스페인, 영국, 폴란드, 터키, 아일랜드\"\n",
    "europe\n"
   ]
  },
  {
   "cell_type": "code",
   "execution_count": null,
   "metadata": {},
   "outputs": [],
   "source": [
    "# 남미 지역에 해당되는 국가명을 str.contains 로 검색하기 위한 형태로 만듭니다.\n",
    "south_america = \"브라질, 아르헨티아, 칠레, 볼리비아, 멕시코, 페루\"\n",
    "south_america"
   ]
  },
  {
   "cell_type": "code",
   "execution_count": null,
   "metadata": {},
   "outputs": [],
   "source": [
    "# 중복되는 국가나 지역을 특정 텍스트로 변경해서 그룹화 해서 빈도수를 세어볼 예정입니다.\n",
    "# .str.contains 와 .loc 를 사용해서 전처리 합니다.\n",
    "df_oversea.loc[df_oversea[\"해외\"].str.contains(europe), \"해외\"] = \"유럽\"\n",
    "df_oversea.loc[df_oversea[\"해외\"].str.contains(south_america), \"해외\"] = \"남미\"\n",
    "df_oversea.loc[df_oversea[\"해외\"].str.contains(\"중국|우한\"), \"해외\"] = \"중국\"\n",
    "df_oversea.loc[df_oversea[\"해외\"].str.contains(\"아랍에미리트\"), \"해외\"] = \"UAE\"\n",
    "df_oversea.loc[df_oversea[\"해외\"].str.contains(\"필리핀\"), \"해외\"] = \"필리핀\"\n",
    "df_oversea.loc[df_oversea[\"해외\"].str.contains(\"미국\"), \"해외\"] = \"미국\"\n",
    "df_oversea[\"해외\"].value_counts()"
   ]
  },
  {
   "cell_type": "code",
   "execution_count": null,
   "metadata": {},
   "outputs": [],
   "source": [
    "# describe 로 요약을 합니다.\n",
    "# count : 빈도수\n",
    "# unique : 병원수\n",
    "# top : 가장 많은 빈도로 등장하는 텍스트\n",
    "# freq : 가장 많은 빈도의 횟수\n"
   ]
  },
  {
   "cell_type": "code",
   "execution_count": null,
   "metadata": {},
   "outputs": [],
   "source": [
    "# 확진일자, 해외 별 카운트 수를 구합니다.\n",
    "\n",
    "# day_oversea\n"
   ]
  },
  {
   "cell_type": "code",
   "execution_count": null,
   "metadata": {},
   "outputs": [],
   "source": [
    "# 위에서 구한 값을 바탕으로 지역별 누적 확진수를 구합니다.\n",
    "\n",
    "# day_oversea\n"
   ]
  },
  {
   "cell_type": "code",
   "execution_count": null,
   "metadata": {},
   "outputs": [],
   "source": [
    "# 위에서 구한 값을 reset_index() 를 통해 데이터프레임으로 변경하고 \"연번\" 컬럼을 \"확진자수\"로 변경합니다.\n",
    "\n",
    "# df_day_oversea\n"
   ]
  },
  {
   "cell_type": "code",
   "execution_count": null,
   "metadata": {},
   "outputs": [],
   "source": [
    "# \"해외\" 컬럼의 빈도수를 구합니다.\n"
   ]
  },
  {
   "cell_type": "code",
   "execution_count": null,
   "metadata": {},
   "outputs": [],
   "source": [
    "# 위에서 구한 빈도수를 시각화 합니다.\n"
   ]
  },
  {
   "cell_type": "code",
   "execution_count": null,
   "metadata": {},
   "outputs": [],
   "source": []
  },
  {
   "cell_type": "code",
   "execution_count": null,
   "metadata": {},
   "outputs": [],
   "source": [
    "# 확진일자, 해외 별 누적확진 수\n"
   ]
  },
  {
   "cell_type": "code",
   "execution_count": null,
   "metadata": {},
   "outputs": [],
   "source": []
  },
  {
   "cell_type": "code",
   "execution_count": null,
   "metadata": {},
   "outputs": [],
   "source": [
    "# 확진일자별 누적확진 수\n",
    "\n"
   ]
  },
  {
   "cell_type": "code",
   "execution_count": null,
   "metadata": {
    "scrolled": false
   },
   "outputs": [],
   "source": []
  },
  {
   "cell_type": "code",
   "execution_count": null,
   "metadata": {},
   "outputs": [],
   "source": [
    "# \"해외유입 구별 확진자\" 시각화 하기\n",
    "\n"
   ]
  },
  {
   "cell_type": "markdown",
   "metadata": {},
   "source": [
    "### 전체확진수와 해외유입 확진수 비교"
   ]
  },
  {
   "cell_type": "code",
   "execution_count": null,
   "metadata": {},
   "outputs": [],
   "source": [
    "# all_count_gu 변수에 전체 지역의 확진자수 구하기\n"
   ]
  },
  {
   "cell_type": "code",
   "execution_count": null,
   "metadata": {},
   "outputs": [],
   "source": [
    "# 데이터프레임으로 변환하고 컬럼명 변경하기\n"
   ]
  },
  {
   "cell_type": "code",
   "execution_count": null,
   "metadata": {},
   "outputs": [],
   "source": [
    "# 해외유입확진수 구하기\n"
   ]
  },
  {
   "cell_type": "markdown",
   "metadata": {},
   "source": [
    "### merge 를 통해 전체 확진수와 해외유입확진수 비교하기\n",
    "* 이미지 출처 및 Pandas 공식문서 보기 : [How to combine data from multiple tables? — pandas documentation](https://pandas.pydata.org/pandas-docs/stable/getting_started/intro_tutorials/08_combine_dataframes.html#join-tables-using-a-common-identifier)\n",
    "\n",
    "<img src=\"https://pandas.pydata.org/pandas-docs/stable/_images/08_merge_left.svg\">"
   ]
  },
  {
   "cell_type": "code",
   "execution_count": null,
   "metadata": {},
   "outputs": [],
   "source": [
    "# merge 로 합쳐서 전체확진수와 해외유입확진수 비교해 보기\n",
    "\n",
    "# df_all_oversea_case\n"
   ]
  },
  {
   "cell_type": "code",
   "execution_count": null,
   "metadata": {},
   "outputs": [],
   "source": [
    "# 시각화 하기\n"
   ]
  },
  {
   "cell_type": "code",
   "execution_count": null,
   "metadata": {},
   "outputs": [],
   "source": [
    "# df_all_oversea_case[\"해외유입비율\"] 구하기\n"
   ]
  },
  {
   "cell_type": "markdown",
   "metadata": {},
   "source": [
    "### 해외유입 확진자 중 퇴원 여부"
   ]
  },
  {
   "cell_type": "code",
   "execution_count": null,
   "metadata": {},
   "outputs": [],
   "source": [
    "# oversea_finish_count 해외유입 확진자 중 퇴원 여부 구하기\n"
   ]
  },
  {
   "cell_type": "markdown",
   "metadata": {},
   "source": [
    "### 월별 해외 확진자 수"
   ]
  },
  {
   "cell_type": "code",
   "execution_count": null,
   "metadata": {},
   "outputs": [],
   "source": []
  },
  {
   "cell_type": "code",
   "execution_count": null,
   "metadata": {},
   "outputs": [],
   "source": []
  },
  {
   "cell_type": "markdown",
   "metadata": {},
   "source": [
    "### 구와 월별 해외 확진자 수\n",
    "* groupby, crosstab, pivot_table 로 같은 결과의 테이블이 나오도록 구합니다.\n",
    "#### groupby 로 빈도수 구하기"
   ]
  },
  {
   "cell_type": "code",
   "execution_count": null,
   "metadata": {},
   "outputs": [],
   "source": []
  },
  {
   "cell_type": "markdown",
   "metadata": {},
   "source": [
    "#### crosstab 으로 빈도수 구하기"
   ]
  },
  {
   "cell_type": "code",
   "execution_count": null,
   "metadata": {},
   "outputs": [],
   "source": []
  },
  {
   "cell_type": "markdown",
   "metadata": {},
   "source": [
    "#### pivot_table 로 빈도수 구하기"
   ]
  },
  {
   "cell_type": "code",
   "execution_count": null,
   "metadata": {},
   "outputs": [],
   "source": [
    "pd.options.display.max_columns = 30"
   ]
  },
  {
   "cell_type": "code",
   "execution_count": null,
   "metadata": {},
   "outputs": [],
   "source": []
  },
  {
   "cell_type": "markdown",
   "metadata": {},
   "source": [
    "### 해외유입이 많은 지역(구)"
   ]
  },
  {
   "cell_type": "code",
   "execution_count": null,
   "metadata": {
    "scrolled": false
   },
   "outputs": [],
   "source": [
    "# 해외유입이 많은 상위 10개 지역을 구합니다.\n"
   ]
  },
  {
   "cell_type": "code",
   "execution_count": null,
   "metadata": {},
   "outputs": [],
   "source": [
    "# 시각화 하기\n"
   ]
  },
  {
   "cell_type": "markdown",
   "metadata": {},
   "source": [
    "* 범례 위치 조정하기 : [matplotlib.pyplot.legend — Matplotlib 3.1.2 documentation](https://matplotlib.org/3.1.1/api/_as_gen/matplotlib.pyplot.legend.html)"
   ]
  },
  {
   "cell_type": "markdown",
   "metadata": {},
   "source": [
    "### 구별 해외유입 국가 분석하기\n",
    "#### groupby 로 구하기"
   ]
  },
  {
   "cell_type": "code",
   "execution_count": null,
   "metadata": {},
   "outputs": [],
   "source": [
    "group_oversea_gu\n"
   ]
  },
  {
   "cell_type": "markdown",
   "metadata": {},
   "source": [
    "#### pivot table 로 구하기\n",
    "* groupby 로 구한 결과와 같은 결과가 나오게 구합니다."
   ]
  },
  {
   "cell_type": "code",
   "execution_count": null,
   "metadata": {},
   "outputs": [],
   "source": [
    "group_oversea_gu\n"
   ]
  },
  {
   "cell_type": "markdown",
   "metadata": {},
   "source": [
    "#### 일부 구만 따로 보기\n",
    "* 전체는 너무 많기 때문에 특정 구만 따로 봅니다."
   ]
  },
  {
   "cell_type": "code",
   "execution_count": null,
   "metadata": {},
   "outputs": [],
   "source": [
    "# 강남 3구의 입국자는 해외 어느 지역에서 입국했나?\n"
   ]
  },
  {
   "cell_type": "code",
   "execution_count": null,
   "metadata": {},
   "outputs": [],
   "source": [
    "# top_oversea_gu 에 따른 확진수 보기\n"
   ]
  },
  {
   "cell_type": "markdown",
   "metadata": {},
   "source": [
    "### 최근 데이터를 불러와 실습해 보기\n",
    "* 이 실습을 진행하고 계신 여러분들은 이 시점보다 미래에 있겠죠?\n",
    "* 같은 내용의 실습을 최근 데이터로 해보세요!"
   ]
  },
  {
   "cell_type": "code",
   "execution_count": null,
   "metadata": {},
   "outputs": [],
   "source": []
  },
  {
   "cell_type": "code",
   "execution_count": null,
   "metadata": {},
   "outputs": [],
   "source": []
  },
  {
   "cell_type": "code",
   "execution_count": null,
   "metadata": {},
   "outputs": [],
   "source": []
  },
  {
   "cell_type": "code",
   "execution_count": null,
   "metadata": {},
   "outputs": [],
   "source": []
  }
 ],
 "metadata": {
  "kernelspec": {
   "display_name": "Python 3",
   "language": "python",
   "name": "python3"
  },
  "language_info": {
   "codemirror_mode": {
    "name": "ipython",
    "version": 3
   },
   "file_extension": ".py",
   "mimetype": "text/x-python",
   "name": "python",
   "nbconvert_exporter": "python",
   "pygments_lexer": "ipython3",
   "version": "3.8.5"
  },
  "toc": {
   "base_numbering": 1,
   "nav_menu": {},
   "number_sections": true,
   "sideBar": true,
   "skip_h1_title": false,
   "title_cell": "Table of Contents",
   "title_sidebar": "Contents",
   "toc_cell": false,
   "toc_position": {
    "height": "calc(100% - 180px)",
    "left": "10px",
    "top": "150px",
    "width": "260.797px"
   },
   "toc_section_display": true,
   "toc_window_display": true
  },
  "varInspector": {
   "cols": {
    "lenName": 16,
    "lenType": 16,
    "lenVar": 40
   },
   "kernels_config": {
    "python": {
     "delete_cmd_postfix": "",
     "delete_cmd_prefix": "del ",
     "library": "var_list.py",
     "varRefreshCmd": "print(var_dic_list())"
    },
    "r": {
     "delete_cmd_postfix": ") ",
     "delete_cmd_prefix": "rm(",
     "library": "var_list.r",
     "varRefreshCmd": "cat(var_dic_list()) "
    }
   },
   "types_to_exclude": [
    "module",
    "function",
    "builtin_function_or_method",
    "instance",
    "_Feature"
   ],
   "window_display": false
  }
 },
 "nbformat": 4,
 "nbformat_minor": 4
}
