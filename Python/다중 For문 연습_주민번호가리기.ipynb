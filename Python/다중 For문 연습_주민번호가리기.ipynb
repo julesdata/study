{
 "cells": [
  {
   "cell_type": "markdown",
   "metadata": {},
   "source": [
    "# for문 연습 : 주민등록번호 뒷자리 가리기"
   ]
  },
  {
   "cell_type": "markdown",
   "metadata": {},
   "source": [
    "## 코드원문\n",
    "* 참고 :  [점프투파이썬](https://wikidocs.net/1642)"
   ]
  },
  {
   "cell_type": "code",
   "execution_count": 43,
   "metadata": {},
   "outputs": [
    {
     "name": "stdout",
     "output_type": "stream",
     "text": [
      "\n",
      "park 800905-*******\n",
      "kim  700905-*******\n",
      "\n"
     ]
    }
   ],
   "source": [
    "data = \"\"\"\n",
    "park 800905-1049118\n",
    "kim  700905-1059119\n",
    "\"\"\"\n",
    "\n",
    "result = []\n",
    "for line in data.split(\"\\n\"):\n",
    "    word_result = []\n",
    "    for word in line.split(\" \"):\n",
    "        if len(word) == 14 and word[:6].isdigit() and word[7:].isdigit():\n",
    "            word = word[:6] + \"-\" + \"*******\"\n",
    "        word_result.append(word)\n",
    "    result.append(\" \".join(word_result))\n",
    "print(\"\\n\".join(result))"
   ]
  },
  {
   "cell_type": "markdown",
   "metadata": {},
   "source": [
    "## 코드 뜯어보기"
   ]
  },
  {
   "cell_type": "code",
   "execution_count": 54,
   "metadata": {},
   "outputs": [
    {
     "data": {
      "text/plain": [
       "'\\npark 800905-1049118\\nkim 700905-1059119\\n'"
      ]
     },
     "execution_count": 54,
     "metadata": {},
     "output_type": "execute_result"
    }
   ],
   "source": [
    "# data 확인\n",
    "data = \"\"\"\n",
    "park 800905-1049118\n",
    "kim 700905-1059119\n",
    "\"\"\"\n",
    "data"
   ]
  },
  {
   "cell_type": "code",
   "execution_count": 59,
   "metadata": {},
   "outputs": [
    {
     "data": {
      "text/plain": [
       "['', 'park 800905-1049118', 'kim  700905-1059119', '']"
      ]
     },
     "execution_count": 59,
     "metadata": {},
     "output_type": "execute_result"
    }
   ],
   "source": [
    "# 첫번째 for문의 vector\n",
    "data.split(\"\\n\")"
   ]
  },
  {
   "cell_type": "markdown",
   "metadata": {},
   "source": [
    "### looping 각 단계 출력해서 확인하기"
   ]
  },
  {
   "cell_type": "code",
   "execution_count": 61,
   "metadata": {
    "scrolled": true
   },
   "outputs": [
    {
     "name": "stdout",
     "output_type": "stream",
     "text": [
      "(1.line)\n",
      "\n",
      "(2.word)\n",
      "\n",
      "(4.word_result)\n",
      "['']\n",
      "(5.result)\n",
      "['']\n",
      "(1.line)\n",
      "park 800905-1049118\n",
      "(2.word)\n",
      "park\n",
      "(4.word_result)\n",
      "['park']\n",
      "(2.word)\n",
      "800905-1049118\n",
      "(3.new_word)\n",
      "800905-*******\n",
      "(4.word_result)\n",
      "['park', '800905-*******']\n",
      "(5.result)\n",
      "['', 'park 800905-*******']\n",
      "(1.line)\n",
      "kim  700905-1059119\n",
      "(2.word)\n",
      "kim\n",
      "(4.word_result)\n",
      "['kim']\n",
      "(2.word)\n",
      "\n",
      "(4.word_result)\n",
      "['kim', '']\n",
      "(2.word)\n",
      "700905-1059119\n",
      "(3.new_word)\n",
      "700905-*******\n",
      "(4.word_result)\n",
      "['kim', '', '700905-*******']\n",
      "(5.result)\n",
      "['', 'park 800905-*******', 'kim  700905-*******']\n",
      "(1.line)\n",
      "\n",
      "(2.word)\n",
      "\n",
      "(4.word_result)\n",
      "['']\n",
      "(5.result)\n",
      "['', 'park 800905-*******', 'kim  700905-*******', '']\n",
      "(6)\n",
      "\n",
      "park 800905-*******\n",
      "kim  700905-*******\n",
      "\n"
     ]
    }
   ],
   "source": [
    "data = \"\"\"\n",
    "park 800905-1049118\n",
    "kim  700905-1059119\n",
    "\"\"\"\n",
    "\n",
    "result = []\n",
    "for line in data.split(\"\\n\"):\n",
    "    print('(1.line)')\n",
    "    print(line)\n",
    "    word_result = []\n",
    "    for word in line.split(\" \"):\n",
    "        print('(2.word)')\n",
    "        print(word)\n",
    "        if len(word) == 14 and word[:6].isdigit() and word[7:].isdigit():\n",
    "            word = word[:6] + \"-\" + \"*******\"\n",
    "            print('(3.new_word)')\n",
    "            print(word)\n",
    "        word_result.append(word)\n",
    "        print('(4.word_result)')\n",
    "        print(word_result)\n",
    "    result.append(\" \".join(word_result))\n",
    "    print('(5.result)')\n",
    "    print(result)\n",
    "print('(6)')\n",
    "print(\"\\n\".join(result))"
   ]
  },
  {
   "cell_type": "markdown",
   "metadata": {},
   "source": [
    "### 이해한 코드 내용 정리(주석)"
   ]
  },
  {
   "cell_type": "code",
   "execution_count": 62,
   "metadata": {},
   "outputs": [
    {
     "name": "stdout",
     "output_type": "stream",
     "text": [
      "\n",
      "park 800905-*******\n",
      "kim  700905-*******\n",
      "\n"
     ]
    }
   ],
   "source": [
    "data = \"\"\"\n",
    "park 800905-1049118\n",
    "kim  700905-1059119\n",
    "\"\"\"\n",
    "\n",
    "result = []\n",
    "\n",
    "for line in data.split(\"\\n\"):  \n",
    "# data를 '줄바꿈(\\n)'기준으로 나눔 > ['', 'park 800905-1049118', 'kim 700905-1059119', '']\n",
    "# 나눈 요소(line) 기준으로 looping 시작\n",
    "\n",
    "    word_result = []\n",
    "    \n",
    "    for word in line.split(\" \"):\n",
    "    # line을 띄어쓰기(\" \") 기준으로 나눔 > [1.[''], 2.['park', '800905-1049118'], 3.['kim', '700905-1059119'], 4.['']]\n",
    "    # 각 요소(word) 기준으로 looping 시작\n",
    "    \n",
    "        if len(word) == 14 and word[:6].isdigit() and word[7:].isdigit():\n",
    "        # 주민번호 형태를 띄는 word를 찾으면\n",
    "        \n",
    "            word = word[:6] + \"-\" + \"*******\"\n",
    "            # 뒷자리 가리도록 변환하기\n",
    "            \n",
    "        word_result.append(word)\n",
    "        # 각 word 를 다시 한 line에 넣기\n",
    "        # 1개 line 안의 word가 끝날때까지 계속 반복\n",
    "        \n",
    "    result.append(\" \".join(word_result))\n",
    "    # word를 한 단위로 만들어주기 (line.split() -> line)\n",
    "    # lne이 끝날때 까지 반복\n",
    "    \n",
    "print(\"\\n\".join(result))\n",
    "# 바뀐 line들 모두 이어붙히기 (data.split() -> data)"
   ]
  },
  {
   "cell_type": "markdown",
   "metadata": {},
   "source": [
    "## 코드 직접 작성해보기"
   ]
  },
  {
   "cell_type": "code",
   "execution_count": 68,
   "metadata": {},
   "outputs": [
    {
     "name": "stdout",
     "output_type": "stream",
     "text": [
      "\n",
      "park 800905-*******\n",
      "kim  700905-*******\n",
      "\n"
     ]
    }
   ],
   "source": [
    "data = \"\"\"\n",
    "park 800905-1049118\n",
    "kim  700905-1059119\n",
    "\"\"\"\n",
    "line_new=[]\n",
    "\n",
    "for line in data.split(\"\\n\"):\n",
    "    word_new =[]\n",
    "    for word in line.split(\" \"):\n",
    "        if len(word)==14 and word[:6].isdigit() and word[7:].isdigit():\n",
    "            word = word[:6] + \"-\" + \"*******\"\n",
    "        word_new.append(word)\n",
    "    line_new.append(\" \".join(word_new))\n",
    "print(\"\\n\".join(line_new))"
   ]
  },
  {
   "cell_type": "code",
   "execution_count": null,
   "metadata": {},
   "outputs": [],
   "source": []
  }
 ],
 "metadata": {
  "kernelspec": {
   "display_name": "Python 3",
   "language": "python",
   "name": "python3"
  },
  "language_info": {
   "codemirror_mode": {
    "name": "ipython",
    "version": 3
   },
   "file_extension": ".py",
   "mimetype": "text/x-python",
   "name": "python",
   "nbconvert_exporter": "python",
   "pygments_lexer": "ipython3",
   "version": "3.8.5"
  }
 },
 "nbformat": 4,
 "nbformat_minor": 4
}
